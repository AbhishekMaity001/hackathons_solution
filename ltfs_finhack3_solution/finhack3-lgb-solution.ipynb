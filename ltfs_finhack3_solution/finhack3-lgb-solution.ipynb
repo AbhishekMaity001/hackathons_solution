{
 "cells": [
  {
   "cell_type": "code",
   "execution_count": 1,
   "metadata": {
    "_cell_guid": "b1076dfc-b9ad-4769-8c92-a6c4dae69d19",
    "_uuid": "8f2839f25d086af736a60e9eeb907d3b93b6e0e5",
    "execution": {
     "iopub.execute_input": "2021-02-07T15:06:25.679247Z",
     "iopub.status.busy": "2021-02-07T15:06:25.678438Z",
     "iopub.status.idle": "2021-02-07T15:06:25.694574Z",
     "shell.execute_reply": "2021-02-07T15:06:25.693569Z"
    },
    "papermill": {
     "duration": 0.091161,
     "end_time": "2021-02-07T15:06:25.694842",
     "exception": false,
     "start_time": "2021-02-07T15:06:25.603681",
     "status": "completed"
    },
    "tags": []
   },
   "outputs": [
    {
     "name": "stdout",
     "output_type": "stream",
     "text": [
      "/kaggle/input/ltfs-finhack3/train_bureau.csv\n",
      "/kaggle/input/ltfs-finhack3/train_data.csv\n",
      "/kaggle/input/ltfs-finhack3/test_data.csv\n",
      "/kaggle/input/ltfs-finhack3/test_bureau.csv\n"
     ]
    }
   ],
   "source": [
    "# This Python 3 environment comes with many helpful analytics libraries installed\n",
    "# It is defined by the kaggle/python Docker image: https://github.com/kaggle/docker-python\n",
    "# For example, here's several helpful packages to load\n",
    "\n",
    "import numpy as np # linear algebra\n",
    "import pandas as pd # data processing, CSV file I/O (e.g. pd.read_csv)\n",
    "\n",
    "# Input data files are available in the read-only \"../input/\" directory\n",
    "# For example, running this (by clicking run or pressing Shift+Enter) will list all files under the input directory\n",
    "\n",
    "import os\n",
    "for dirname, _, filenames in os.walk('/kaggle/input'):\n",
    "    for filename in filenames:\n",
    "        print(os.path.join(dirname, filename))\n",
    "\n",
    "# You can write up to 20GB to the current directory (/kaggle/working/) that gets preserved as output when you create a version using \"Save & Run All\" \n",
    "# You can also write temporary files to /kaggle/temp/, but they won't be saved outside of the current session"
   ]
  },
  {
   "cell_type": "code",
   "execution_count": 2,
   "metadata": {
    "execution": {
     "iopub.execute_input": "2021-02-07T15:06:25.844170Z",
     "iopub.status.busy": "2021-02-07T15:06:25.839212Z",
     "iopub.status.idle": "2021-02-07T15:06:28.636461Z",
     "shell.execute_reply": "2021-02-07T15:06:28.637225Z"
    },
    "papermill": {
     "duration": 2.873993,
     "end_time": "2021-02-07T15:06:28.637478",
     "exception": false,
     "start_time": "2021-02-07T15:06:25.763485",
     "status": "completed"
    },
    "tags": []
   },
   "outputs": [
    {
     "data": {
      "text/html": [
       "<style type='text/css'>\n",
       ".datatable table.frame { margin-bottom: 0; }\n",
       ".datatable table.frame thead { border-bottom: none; }\n",
       ".datatable table.frame tr.coltypes td {  color: #FFFFFF;  line-height: 6px;  padding: 0 0.5em;}\n",
       ".datatable .bool    { background: #DDDD99; }\n",
       ".datatable .object  { background: #565656; }\n",
       ".datatable .int     { background: #5D9E5D; }\n",
       ".datatable .float   { background: #4040CC; }\n",
       ".datatable .str     { background: #CC4040; }\n",
       ".datatable .row_index {  background: var(--jp-border-color3);  border-right: 1px solid var(--jp-border-color0);  color: var(--jp-ui-font-color3);  font-size: 9px;}\n",
       ".datatable .frame tr.coltypes .row_index {  background: var(--jp-border-color0);}\n",
       ".datatable th:nth-child(2) { padding-left: 12px; }\n",
       ".datatable .hellipsis {  color: var(--jp-cell-editor-border-color);}\n",
       ".datatable .vellipsis {  background: var(--jp-layout-color0);  color: var(--jp-cell-editor-border-color);}\n",
       ".datatable .na {  color: var(--jp-cell-editor-border-color);  font-size: 80%;}\n",
       ".datatable .footer { font-size: 9px; }\n",
       ".datatable .frame_dimensions {  background: var(--jp-border-color3);  border-top: 1px solid var(--jp-border-color0);  color: var(--jp-ui-font-color3);  display: inline-block;  opacity: 0.6;  padding: 1px 10px 1px 5px;}\n",
       "</style>\n"
      ],
      "text/plain": [
       "<IPython.core.display.HTML object>"
      ]
     },
     "metadata": {},
     "output_type": "display_data"
    }
   ],
   "source": [
    "import matplotlib.pyplot as plt\n",
    "import seaborn as sns\n",
    "%matplotlib inline\n",
    "\n",
    "from sklearn.preprocessing import LabelEncoder\n",
    "\n",
    "from sklearn.model_selection import train_test_split\n",
    "import lightgbm as lgb\n",
    "from sklearn.metrics import log_loss\n",
    "from sklearn.preprocessing import LabelEncoder\n",
    "from sklearn.model_selection import StratifiedKFold\n",
    "from sklearn.metrics import accuracy_score, classification_report\n",
    "import matplotlib.pyplot as plt\n",
    "import seaborn as sns\n",
    "%matplotlib inline\n",
    "import time\n",
    "import colorama  # https://pypi.python.org/pypi/colorama\n",
    "import xgboost as xgb\n",
    "import lightgbm as lgb\n",
    "from hyperopt import STATUS_OK, Trials, fmin, hp, tpe, pyll\n",
    "import category_encoders as ce\n",
    "import pickle\n",
    "from sklearn.metrics import mean_squared_error,roc_auc_score,precision_score, f1_score\n",
    "from sklearn.model_selection import train_test_split\n",
    "\n",
    "import warnings\n",
    "warnings.filterwarnings('ignore')\n",
    "\n",
    "import numpy as np\n",
    "\n",
    "import random\n",
    "import os\n",
    "from collections import Counter"
   ]
  },
  {
   "cell_type": "code",
   "execution_count": 3,
   "metadata": {
    "execution": {
     "iopub.execute_input": "2021-02-07T15:06:28.848019Z",
     "iopub.status.busy": "2021-02-07T15:06:28.847164Z",
     "iopub.status.idle": "2021-02-07T15:06:28.855362Z",
     "shell.execute_reply": "2021-02-07T15:06:28.854476Z"
    },
    "papermill": {
     "duration": 0.114344,
     "end_time": "2021-02-07T15:06:28.855544",
     "exception": false,
     "start_time": "2021-02-07T15:06:28.741200",
     "status": "completed"
    },
    "tags": []
   },
   "outputs": [],
   "source": [
    "obj_call_count = 0\n",
    "cur_best_score = -np.inf\n",
    "NB_CV_FOLDS = 3\n",
    "NUM_OF_BOOST_ROUND = 10000\n",
    "EARLY_STOPPING = 300\n",
    "OOF_PREDICTION = True\n",
    "NUM_OF_SPLITS = 5 # Used for OOF Prediction \n",
    "TRAIN_ON_FULL_DATA = True\n",
    "hyperopt_params = []\n",
    "MAX_EVALS = 10\n",
    "FIND_BEST_HYPERPARAMETERS = False\n",
    "TARGET_ENCODING = False"
   ]
  },
  {
   "cell_type": "code",
   "execution_count": 4,
   "metadata": {
    "execution": {
     "iopub.execute_input": "2021-02-07T15:06:29.069814Z",
     "iopub.status.busy": "2021-02-07T15:06:29.068971Z",
     "iopub.status.idle": "2021-02-07T15:06:29.072690Z",
     "shell.execute_reply": "2021-02-07T15:06:29.073178Z"
    },
    "papermill": {
     "duration": 0.114559,
     "end_time": "2021-02-07T15:06:29.073392",
     "exception": false,
     "start_time": "2021-02-07T15:06:28.958833",
     "status": "completed"
    },
    "tags": []
   },
   "outputs": [],
   "source": [
    "SEED = 2021\n",
    "\n",
    "random.seed(SEED)\n",
    "np.random.seed(SEED)\n",
    "os.environ['PYTHONHASHSEED']=str(SEED)"
   ]
  },
  {
   "cell_type": "markdown",
   "metadata": {
    "papermill": {
     "duration": 0.067387,
     "end_time": "2021-02-07T15:06:29.207894",
     "exception": false,
     "start_time": "2021-02-07T15:06:29.140507",
     "status": "completed"
    },
    "tags": []
   },
   "source": [
    "# Loading pre-converted .xlsx file to | (pipe) seperated file for faster loading of data"
   ]
  },
  {
   "cell_type": "code",
   "execution_count": 5,
   "metadata": {
    "execution": {
     "iopub.execute_input": "2021-02-07T15:06:29.348192Z",
     "iopub.status.busy": "2021-02-07T15:06:29.347550Z",
     "iopub.status.idle": "2021-02-07T15:06:41.286209Z",
     "shell.execute_reply": "2021-02-07T15:06:41.285575Z"
    },
    "papermill": {
     "duration": 12.011763,
     "end_time": "2021-02-07T15:06:41.286377",
     "exception": false,
     "start_time": "2021-02-07T15:06:29.274614",
     "status": "completed"
    },
    "tags": []
   },
   "outputs": [],
   "source": [
    "train_data = pd.read_csv('/kaggle/input/ltfs-finhack3/train_data.csv', sep='|')\n",
    "train_bureau = pd.read_csv('/kaggle/input/ltfs-finhack3/train_bureau.csv', sep='|')\n",
    "test_data = pd.read_csv('/kaggle/input/ltfs-finhack3/test_data.csv', sep='|')\n",
    "test_bureau = pd.read_csv('/kaggle/input/ltfs-finhack3/test_bureau.csv', sep='|')\n",
    "sample_sub = test_data[['ID']].copy()"
   ]
  },
  {
   "cell_type": "code",
   "execution_count": 6,
   "metadata": {
    "execution": {
     "iopub.execute_input": "2021-02-07T15:06:41.426755Z",
     "iopub.status.busy": "2021-02-07T15:06:41.426054Z",
     "iopub.status.idle": "2021-02-07T15:06:41.432215Z",
     "shell.execute_reply": "2021-02-07T15:06:41.432725Z"
    },
    "papermill": {
     "duration": 0.079043,
     "end_time": "2021-02-07T15:06:41.432889",
     "exception": false,
     "start_time": "2021-02-07T15:06:41.353846",
     "status": "completed"
    },
    "tags": []
   },
   "outputs": [
    {
     "name": "stdout",
     "output_type": "stream",
     "text": [
      "TRAIN (128655, 26) (560844, 25)\n",
      "TEST: (14745, 25) (64019, 25)\n"
     ]
    }
   ],
   "source": [
    "print(\"TRAIN\",train_data.shape, train_bureau.shape)\n",
    "print(\"TEST:\",test_data.shape, test_bureau.shape)"
   ]
  },
  {
   "cell_type": "code",
   "execution_count": 7,
   "metadata": {
    "execution": {
     "iopub.execute_input": "2021-02-07T15:06:41.575748Z",
     "iopub.status.busy": "2021-02-07T15:06:41.574613Z",
     "iopub.status.idle": "2021-02-07T15:06:41.579331Z",
     "shell.execute_reply": "2021-02-07T15:06:41.578600Z"
    },
    "papermill": {
     "duration": 0.078783,
     "end_time": "2021-02-07T15:06:41.579501",
     "exception": false,
     "start_time": "2021-02-07T15:06:41.500718",
     "status": "completed"
    },
    "tags": []
   },
   "outputs": [
    {
     "data": {
      "text/plain": [
       "Index(['ID', 'Frequency', 'InstlmentMode', 'LoanStatus', 'PaymentMode',\n",
       "       'BranchID', 'Area', 'Tenure', 'AssetCost', 'AmountFinance',\n",
       "       'DisbursalAmount', 'EMI', 'DisbursalDate', 'MaturityDAte', 'AuthDate',\n",
       "       'AssetID', 'ManufacturerID', 'SupplierID', 'LTV', 'SEX', 'AGE',\n",
       "       'MonthlyIncome', 'City', 'State', 'ZiPCODE', 'Top-up Month'],\n",
       "      dtype='object')"
      ]
     },
     "execution_count": 7,
     "metadata": {},
     "output_type": "execute_result"
    }
   ],
   "source": [
    "train_data.columns"
   ]
  },
  {
   "cell_type": "code",
   "execution_count": 8,
   "metadata": {
    "execution": {
     "iopub.execute_input": "2021-02-07T15:06:41.794676Z",
     "iopub.status.busy": "2021-02-07T15:06:41.793792Z",
     "iopub.status.idle": "2021-02-07T15:06:41.798547Z",
     "shell.execute_reply": "2021-02-07T15:06:41.797703Z"
    },
    "papermill": {
     "duration": 0.11444,
     "end_time": "2021-02-07T15:06:41.798797",
     "exception": false,
     "start_time": "2021-02-07T15:06:41.684357",
     "status": "completed"
    },
    "tags": []
   },
   "outputs": [
    {
     "data": {
      "text/plain": [
       "Index(['ID', 'SELF-INDICATOR', 'MATCH-TYPE', 'ACCT-TYPE', 'CONTRIBUTOR-TYPE',\n",
       "       'DATE-REPORTED', 'OWNERSHIP-IND', 'ACCOUNT-STATUS', 'DISBURSED-DT',\n",
       "       'CLOSE-DT', 'LAST-PAYMENT-DATE', 'CREDIT-LIMIT/SANC AMT',\n",
       "       'DISBURSED-AMT/HIGH CREDIT', 'INSTALLMENT-AMT', 'CURRENT-BAL',\n",
       "       'INSTALLMENT-FREQUENCY', 'OVERDUE-AMT', 'WRITE-OFF-AMT', 'ASSET_CLASS',\n",
       "       'REPORTED DATE - HIST', 'DPD - HIST', 'CUR BAL - HIST',\n",
       "       'AMT OVERDUE - HIST', 'AMT PAID - HIST', 'TENURE'],\n",
       "      dtype='object')"
      ]
     },
     "execution_count": 8,
     "metadata": {},
     "output_type": "execute_result"
    }
   ],
   "source": [
    "train_bureau.columns"
   ]
  },
  {
   "cell_type": "code",
   "execution_count": 9,
   "metadata": {
    "execution": {
     "iopub.execute_input": "2021-02-07T15:06:42.037248Z",
     "iopub.status.busy": "2021-02-07T15:06:42.030447Z",
     "iopub.status.idle": "2021-02-07T15:06:42.067808Z",
     "shell.execute_reply": "2021-02-07T15:06:42.068736Z"
    },
    "papermill": {
     "duration": 0.161945,
     "end_time": "2021-02-07T15:06:42.068923",
     "exception": false,
     "start_time": "2021-02-07T15:06:41.906978",
     "status": "completed"
    },
    "tags": []
   },
   "outputs": [
    {
     "data": {
      "text/plain": [
       "No Top-up Service    0.829171\n",
       " > 48 Months         0.065027\n",
       "36-48 Months         0.028417\n",
       "24-30 Months         0.027142\n",
       "30-36 Months         0.023800\n",
       "18-24 Months         0.018406\n",
       "12-18 Months         0.008037\n",
       "Name: Top-up Month, dtype: float64"
      ]
     },
     "execution_count": 9,
     "metadata": {},
     "output_type": "execute_result"
    }
   ],
   "source": [
    "train_data['Top-up Month'].value_counts()/train_data.shape[0]"
   ]
  },
  {
   "cell_type": "code",
   "execution_count": 10,
   "metadata": {
    "execution": {
     "iopub.execute_input": "2021-02-07T15:06:42.325091Z",
     "iopub.status.busy": "2021-02-07T15:06:42.283118Z",
     "iopub.status.idle": "2021-02-07T15:06:42.360040Z",
     "shell.execute_reply": "2021-02-07T15:06:42.359417Z"
    },
    "papermill": {
     "duration": 0.222586,
     "end_time": "2021-02-07T15:06:42.360180",
     "exception": false,
     "start_time": "2021-02-07T15:06:42.137594",
     "status": "completed"
    },
    "tags": []
   },
   "outputs": [
    {
     "data": {
      "text/plain": [
       ",,,,,,,,,,,,,,,,,,,,,,,,,,,,,,,,,,,,,                  63203\n",
       ",,,,,,,,,,,,,,,,,,,,,,,,,,,,,,,,,,,,                   44600\n",
       ",                                                      41773\n",
       ",,,,,,,,,,,,,,                                         13911\n",
       ",,                                                     11439\n",
       "                                                       ...  \n",
       ",,,,,,,,,,,,,,,,,,,,,,,1062,                               1\n",
       ",,,,3409,,,,,,,,,,,,                                       1\n",
       "118569,0,0,0,0,0,0,0,0,,0,0,0,                             1\n",
       ",,,,,,,,,,2145,,,,,,,,,,,,,,100000,17931,,,,,,,,,,,        1\n",
       "74700,,,,,,,,,,,412,,,,,,,,3046,,,,,,,,,,,,,,,,,           1\n",
       "Name: AMT PAID - HIST, Length: 83417, dtype: int64"
      ]
     },
     "execution_count": 10,
     "metadata": {},
     "output_type": "execute_result"
    }
   ],
   "source": [
    "train_bureau['AMT PAID - HIST'].value_counts()"
   ]
  },
  {
   "cell_type": "code",
   "execution_count": 11,
   "metadata": {
    "execution": {
     "iopub.execute_input": "2021-02-07T15:06:42.510066Z",
     "iopub.status.busy": "2021-02-07T15:06:42.507203Z",
     "iopub.status.idle": "2021-02-07T15:06:42.513792Z",
     "shell.execute_reply": "2021-02-07T15:06:42.513184Z"
    },
    "papermill": {
     "duration": 0.085148,
     "end_time": "2021-02-07T15:06:42.513919",
     "exception": false,
     "start_time": "2021-02-07T15:06:42.428771",
     "status": "completed"
    },
    "tags": []
   },
   "outputs": [],
   "source": [
    "def extract_past_dues(data):\n",
    "    if 'E' in data:\n",
    "        data = \"{}\".format(int(float(data)))\n",
    "    data = data.replace('D', '0')\n",
    "    data = data.replace('X', '0')\n",
    "    tokens = [int(data[i:i+3]) for i in range(0,len(data),3)]\n",
    "    #print(tokens)\n",
    "    return tokens\n",
    "\n",
    "def extract_past_payments(data):\n",
    "    tokens = [ 0 if len(_)==0 else float(_) for _ in data.split(',')]\n",
    "    return tokens\n",
    "\n",
    "\n",
    "def extract_past_dues_12_months(data):\n",
    "    past_dues_tokens = extract_past_dues(data)[:12]\n",
    "    return past_dues_tokens\n",
    "\n",
    "def extract_past_dues_24_months(data):\n",
    "    past_dues_tokens = extract_past_dues(data)[:24]\n",
    "    return past_dues_tokens\n",
    "\n",
    "def extract_past_payments_12_months(data):\n",
    "    tokens = extract_past_payments(data)[:12]\n",
    "    return tokens\n",
    "\n",
    "def extract_past_payments_24_months(data):\n",
    "    tokens = extract_past_payments(data)[:24]\n",
    "    return tokens\n",
    "\n",
    "\n",
    "def average_dues_12_months(data):\n",
    "    past_dues_tokens = extract_past_dues_12_months(data)\n",
    "    return sum(past_dues_tokens)/12\n",
    "\n",
    "def average_dues_24_months(data):\n",
    "    past_dues_tokens = extract_past_dues_24_months(data)\n",
    "    return sum(past_dues_tokens)/24\n",
    "\n",
    "def average_past_payments_12_months(data):\n",
    "    past_dues_tokens = extract_past_payments_12_months(data)\n",
    "    return sum(past_dues_tokens)/12\n",
    "\n",
    "def average_past_payments_24_months(data):\n",
    "    past_dues_tokens = extract_past_payments_24_months(data)\n",
    "    return sum(past_dues_tokens)/24"
   ]
  },
  {
   "cell_type": "code",
   "execution_count": 12,
   "metadata": {
    "execution": {
     "iopub.execute_input": "2021-02-07T15:06:42.662900Z",
     "iopub.status.busy": "2021-02-07T15:06:42.662156Z",
     "iopub.status.idle": "2021-02-07T15:06:42.669649Z",
     "shell.execute_reply": "2021-02-07T15:06:42.668929Z"
    },
    "papermill": {
     "duration": 0.085516,
     "end_time": "2021-02-07T15:06:42.669805",
     "exception": false,
     "start_time": "2021-02-07T15:06:42.584289",
     "status": "completed"
    },
    "tags": []
   },
   "outputs": [
    {
     "data": {
      "text/plain": [
       "[0, 0, 0, 100.0, 200.0]"
      ]
     },
     "execution_count": 12,
     "metadata": {},
     "output_type": "execute_result"
    }
   ],
   "source": [
    "extract_past_payments(',,,100,200')"
   ]
  },
  {
   "cell_type": "code",
   "execution_count": 13,
   "metadata": {
    "execution": {
     "iopub.execute_input": "2021-02-07T15:06:42.815526Z",
     "iopub.status.busy": "2021-02-07T15:06:42.814907Z",
     "iopub.status.idle": "2021-02-07T15:06:42.820816Z",
     "shell.execute_reply": "2021-02-07T15:06:42.820120Z"
    },
    "papermill": {
     "duration": 0.081249,
     "end_time": "2021-02-07T15:06:42.820966",
     "exception": false,
     "start_time": "2021-02-07T15:06:42.739717",
     "status": "completed"
    },
    "tags": []
   },
   "outputs": [
    {
     "data": {
      "text/plain": [
       "[0, 0, 0, 54, 24, 24, 0, 0, 0, 0, 0, 0]"
      ]
     },
     "execution_count": 13,
     "metadata": {},
     "output_type": "execute_result"
    }
   ],
   "source": [
    "extract_past_dues('000000DDD054024024000000000000000000')"
   ]
  },
  {
   "cell_type": "code",
   "execution_count": 14,
   "metadata": {
    "execution": {
     "iopub.execute_input": "2021-02-07T15:06:42.967935Z",
     "iopub.status.busy": "2021-02-07T15:06:42.967145Z",
     "iopub.status.idle": "2021-02-07T15:06:42.972975Z",
     "shell.execute_reply": "2021-02-07T15:06:42.972358Z"
    },
    "papermill": {
     "duration": 0.080761,
     "end_time": "2021-02-07T15:06:42.973127",
     "exception": false,
     "start_time": "2021-02-07T15:06:42.892366",
     "status": "completed"
    },
    "tags": []
   },
   "outputs": [
    {
     "data": {
      "text/plain": [
       "4.25"
      ]
     },
     "execution_count": 14,
     "metadata": {},
     "output_type": "execute_result"
    }
   ],
   "source": [
    "average_dues_24_months('000000DDD054024024000000000000000000')"
   ]
  },
  {
   "cell_type": "code",
   "execution_count": null,
   "metadata": {
    "papermill": {
     "duration": 0.072074,
     "end_time": "2021-02-07T15:06:43.116651",
     "exception": false,
     "start_time": "2021-02-07T15:06:43.044577",
     "status": "completed"
    },
    "tags": []
   },
   "outputs": [],
   "source": []
  },
  {
   "cell_type": "code",
   "execution_count": 15,
   "metadata": {
    "execution": {
     "iopub.execute_input": "2021-02-07T15:06:43.264684Z",
     "iopub.status.busy": "2021-02-07T15:06:43.264021Z",
     "iopub.status.idle": "2021-02-07T15:06:43.267477Z",
     "shell.execute_reply": "2021-02-07T15:06:43.266845Z"
    },
    "papermill": {
     "duration": 0.079378,
     "end_time": "2021-02-07T15:06:43.267616",
     "exception": false,
     "start_time": "2021-02-07T15:06:43.188238",
     "status": "completed"
    },
    "tags": []
   },
   "outputs": [],
   "source": [
    "# train_bureau['DPD - HIST'].dropna().apply(average_dues_24_months)"
   ]
  },
  {
   "cell_type": "code",
   "execution_count": 16,
   "metadata": {
    "execution": {
     "iopub.execute_input": "2021-02-07T15:06:43.424285Z",
     "iopub.status.busy": "2021-02-07T15:06:43.418414Z",
     "iopub.status.idle": "2021-02-07T15:06:43.454382Z",
     "shell.execute_reply": "2021-02-07T15:06:43.455068Z"
    },
    "papermill": {
     "duration": 0.116546,
     "end_time": "2021-02-07T15:06:43.455262",
     "exception": false,
     "start_time": "2021-02-07T15:06:43.338716",
     "status": "completed"
    },
    "tags": []
   },
   "outputs": [],
   "source": [
    "def check_due_past_payment(data):\n",
    "    for _ in ['1','2','3','4','5','6','7','8','9']:\n",
    "        if _ in data:\n",
    "            return True\n",
    "    return False    \n",
    "    \n",
    "def fetch_amount(data):\n",
    "    raw_token = data.split(',')\n",
    "    token = []\n",
    "    for _ in raw_token:\n",
    "        if len(_) == 0:\n",
    "            token.append(0)\n",
    "        else:\n",
    "            token.append(float(_))\n",
    "    return sum(token)\n",
    "\n",
    "def month_bucket(month):\n",
    "    if month < 12:\n",
    "        return  'LESS_THAN_12_BUCKET'\n",
    "    elif month >= 12 and month < 18:\n",
    "        return '12_18_BUCKET'\n",
    "    elif month >= 18 and month < 24:\n",
    "        return '18_24_BUCKET'\n",
    "    elif month >= 24 and month < 30:\n",
    "        return '24_30_BUCKET'\n",
    "    elif month >= 30 and month < 36:\n",
    "        return '30_36_BUCKET'\n",
    "    elif month >= 36 and month < 48:\n",
    "        return '36_48_BUCKET'\n",
    "    elif month >= 48:\n",
    "        return '>48_BUCKET'\n",
    "\n",
    "    \n",
    "def make_whole_number(data):\n",
    "    if str(data).lower() == 'nan':\n",
    "        return np.nan\n",
    "    else:\n",
    "        _data = str(int(data))\n",
    "        _len_data = len(_data)\n",
    "        _data = \"\".join(_data[0] + '0' * (_len_data-1))\n",
    "        return int(_data)\n",
    "    \n",
    "def merge_demographic_bureau_data(input_demo_arg, input_bureau_arg):\n",
    "    input_demo = input_demo_arg.copy()\n",
    "    input_bureau = input_bureau_arg.copy()\n",
    "    print(input_demo.shape, input_bureau.shape)\n",
    "    \n",
    "    input_demo.PaymentMode = input_demo.PaymentMode.apply(lambda x: x.split('_')[0])\n",
    "    \n",
    "    \n",
    "    input_demo['AGE_WHEN_LOAN_COMPLETES'] = input_demo['AGE'] + input_demo['Tenure']//12\n",
    "    \n",
    "    input_demo['EMI_INCOME_RATO'] = input_demo.EMI / input_demo.MonthlyIncome\n",
    "     \n",
    "    input_demo['DisbursalDate'] = pd.to_datetime(input_demo['DisbursalDate'])\n",
    "    input_bureau['DISBURSED-DT'] = pd.to_datetime(input_bureau['DISBURSED-DT'])\n",
    "    \n",
    "    input_bureau = input_bureau[~input_bureau['DISBURSED-AMT/HIGH CREDIT'].isnull()]\n",
    "    input_bureau['DISBURSED-AMT/HIGH CREDIT___WHOLE_NUMBER'] = input_bureau['DISBURSED-AMT/HIGH CREDIT'].apply(make_whole_number)\n",
    "    input_bureau['CURRENT-BAL___WHOLE_NUMBER'] = input_bureau['CURRENT-BAL'].apply(make_whole_number)    \n",
    "    input_bureau['OVERDUE-AMT___WHOLE_NUMBER'] = input_bureau['OVERDUE-AMT'].apply(make_whole_number)    \n",
    "    input_bureau[\"WRITE-OFF-AMT___WHOLE_NUMBER\"] = input_bureau[\"WRITE-OFF-AMT\"].apply(make_whole_number)\n",
    "    \n",
    "    df_merged = pd.merge(input_demo, input_bureau)\n",
    "\n",
    "    disbursed_dt_isnull_mask = df_merged['DISBURSED-DT'].isnull()\n",
    "    equal_amount = df_merged['DisbursalAmount'] == df_merged['DISBURSED-AMT/HIGH CREDIT']\n",
    "    tmp_mask = disbursed_dt_isnull_mask & equal_amount & df_merged['SELF-INDICATOR'] \n",
    "    df_merged[tmp_mask]['DISBURSED-DT'] = df_merged[ tmp_mask ]['DisbursalDate']\n",
    "    \n",
    "    #Filter where 'DISBURSED-DT' is not null\n",
    "    disbursed_dt_isnull_mask = df_merged['DISBURSED-DT'].isnull()\n",
    "\n",
    "    df_merged = df_merged[~disbursed_dt_isnull_mask]\n",
    "    \n",
    "\n",
    "    df_merged =  df_merged[df_merged['DISBURSED-AMT/HIGH CREDIT'] <= df_merged['DisbursalAmount']]\n",
    "    \n",
    "    df_merged['DPD - HIST'] = df_merged['DPD - HIST'].fillna('000')\n",
    "    df_merged['ANY_PAST_DUE_DAYS'] = df_merged['DPD - HIST'].astype('str').apply(check_due_past_payment)\n",
    "    df_merged['AVERAGE_PAST_DUE_DAYS_OF_PAST_12_MONTHS'] = df_merged['DPD - HIST'].apply(average_dues_12_months)    \n",
    "    df_merged['AVERAGE_PAST_DUE_DAYS_OF_PAST_24_MONTHS'] = df_merged['DPD - HIST'].apply(average_dues_24_months)\n",
    "    \n",
    "    #AMT PAID - HIST\n",
    "    df_merged['AMT PAID - HIST'] = df_merged['AMT PAID - HIST'].fillna(',,,')\n",
    "#     df_merged['AVERAGE_AMT_PAID_OF_PAST_12_MONTHS'] = df_merged['AMT PAID - HIST'].apply(average_past_payments_12_months)\n",
    "#     df_merged['AVERAGE_AMT_PAID_OF_PAST_24_MONTHS'] = df_merged['AMT PAID - HIST'].apply(average_past_payments_24_months)\n",
    "    df_merged['AMT_PAID_HIST_TOTAL'] = df_merged['AMT PAID - HIST'].apply(fetch_amount)\n",
    "\n",
    "    #AMT OVERDUE - HIST\n",
    "    df_merged['AMT OVERDUE - HIST'] = df_merged['AMT OVERDUE - HIST'].fillna(',,,')\n",
    "#     df_merged['AVERAGE_AMT_OVERDUE_OF_PAST_12_MONTHS'] = df_merged['AMT OVERDUE - HIST'].apply(average_past_payments_12_months)\n",
    "#     df_merged['AVERAGE_AMT_OVERDUE_OF_PAST_24_MONTHS'] = df_merged['AMT OVERDUE - HIST'].apply(average_past_payments_24_months)\n",
    "    df_merged['AMT_OVERDUE_HIST_TOTAL'] = df_merged['AMT OVERDUE - HIST'].apply(fetch_amount)    \n",
    "    \n",
    "    #CUR BAL - HIST\n",
    "    df_merged['CUR BAL - HIST'] = df_merged['CUR BAL - HIST'].fillna(',,,')\n",
    "#     df_merged['AVERAGE_CUR_BAL_OF_PAST_12_MONTHS'] = df_merged['CUR BAL - HIST'].apply(average_past_payments_12_months)\n",
    "#     df_merged['AVERAGE_CUR_BAL_OF_PAST_24_MONTHS'] = df_merged['CUR BAL - HIST'].apply(average_past_payments_24_months)\n",
    "    df_merged['CUR_BAL_HIST_TOTAL'] = df_merged['CUR BAL - HIST'].apply(fetch_amount)\n",
    "    \n",
    "    df_merged['NEXT_LOAN_IN_MONTHS'] = (df_merged['DISBURSED-DT'] - df_merged['DisbursalDate']).apply(lambda x: x/np.timedelta64(1, 'M')).astype('int')\n",
    "    df_merged['NEXT_LOAN_BUCKET'] = df_merged['NEXT_LOAN_IN_MONTHS'].apply(month_bucket)\n",
    "    df_merged['OLD_NEW_LOAN_RATIO'] =  df_merged['DISBURSED-AMT/HIGH CREDIT'] / df_merged['DisbursalAmount']\n",
    "    \n",
    "    \n",
    "    other_existing_loan_from_ltfs = (df_merged['NEXT_LOAN_IN_MONTHS'].apply(lambda x: x>=0))\n",
    "    df_merged = df_merged[other_existing_loan_from_ltfs]\n",
    "    \n",
    "           \n",
    "    cat_features = [\n",
    "        'MATCH-TYPE', \n",
    "        'ACCT-TYPE', \n",
    "        'CONTRIBUTOR-TYPE', \n",
    "        'OWNERSHIP-IND', \n",
    "        'ACCOUNT-STATUS', \n",
    "        'ASSET_CLASS',\n",
    "        'NEXT_LOAN_BUCKET', \n",
    "        'SELF-INDICATOR'\n",
    "    ]\n",
    "    \n",
    "    for cat_fe in cat_features:\n",
    "        print(cat_fe)\n",
    "        categories = [ cat_fe+\"___\"+_+\"___COUNT\" for _ in df_merged[cat_fe].dropna().astype('str').unique()]\n",
    "        df_merged[categories] = 0\n",
    "        cat_fe_count_dict = { _:{} for _ in categories}\n",
    "        for _key, _grp in df_merged.groupby(['ID']):\n",
    "            tmp = Counter(_grp[cat_fe].dropna().astype('str'))\n",
    "            for k,v in tmp.items():\n",
    "                prev_counts = cat_fe_count_dict[cat_fe+\"___\"+k+\"___COUNT\"]\n",
    "                prev_counts[str(_key)] = v\n",
    "                cat_fe_count_dict[cat_fe+\"___\"+k+\"___COUNT\"] = prev_counts\n",
    "        for new_fe in categories:\n",
    "            print(new_fe)\n",
    "            id_to_count_mapping = cat_fe_count_dict[new_fe] \n",
    "            df_merged[new_fe] = df_merged['ID'].astype('str').apply(lambda x: id_to_count_mapping[x] if x in id_to_count_mapping else 0)\n",
    "    \n",
    "\n",
    "    \n",
    "    numerical_features = [\n",
    "        \"CREDIT-LIMIT/SANC AMT\", \n",
    "        \"DISBURSED-AMT/HIGH CREDIT\",\n",
    "        \"INSTALLMENT-AMT\", \n",
    "        \"CURRENT-BAL\",\n",
    "        \"OVERDUE-AMT\",\n",
    "        \"WRITE-OFF-AMT\",        \n",
    "        \"AMT_PAID_HIST_TOTAL\",\n",
    "        \"AMT_OVERDUE_HIST_TOTAL\",\n",
    "        \"CUR_BAL_HIST_TOTAL\",\n",
    "        \"OLD_NEW_LOAN_RATIO\",\n",
    "        \"DISBURSED-AMT/HIGH CREDIT___WHOLE_NUMBER\",\n",
    "        \"CURRENT-BAL___WHOLE_NUMBER\",\n",
    "        \"OVERDUE-AMT___WHOLE_NUMBER\",\n",
    "        \"WRITE-OFF-AMT___WHOLE_NUMBER\",\n",
    "#         \"TENURE\",\n",
    "    ]\n",
    "    \n",
    "    \n",
    "    \n",
    "    \n",
    "    \n",
    "    \n",
    "    agg_col_sep = '____'\n",
    "    agg_for_customer = {}\n",
    "    for _agg_col in numerical_features:\n",
    "        print(_agg_col,'MEAN_PER_CUSTOMER')\n",
    "        tmp_dict = {}            \n",
    "        for _key, _grp in df_merged.groupby(['ID']):\n",
    "            _mean = _grp[_agg_col].mean()\n",
    "            _str_key = str(_key)\n",
    "            tmp_dict[_str_key] = _mean\n",
    "        agg_for_customer[_agg_col+agg_col_sep+\"MEAN_PER_CUSTOMER\"] = tmp_dict\n",
    "        \n",
    "    for agg_keys, agg_values in agg_for_customer.items():\n",
    "        df_merged[agg_keys] = 0\n",
    "        filtered_df = df_merged\n",
    "        fetch_agg_values = filtered_df.ID.astype('str').apply(lambda x: agg_values[x] if x in agg_values else 0.0)\n",
    "        df_merged.loc[filtered_df.index, agg_keys] = fetch_agg_values\n",
    "\n",
    "        \n",
    "    loan_buckets = df_merged['NEXT_LOAN_BUCKET'].unique()\n",
    "    for num_fe in numerical_features:\n",
    "        print(num_fe)\n",
    "        categories = [ num_fe+\"___\"+_+\"___MEAN\" for _ in loan_buckets]\n",
    "        df_merged[categories] = 0\n",
    "        num_fe_avg_dict = { _:{} for _ in categories}\n",
    "        for (_id,_loan_bucket), _grp in df_merged.groupby(['ID','NEXT_LOAN_BUCKET']):\n",
    "            col_mean = _grp[num_fe].mean()\n",
    "            prev_counts = num_fe_avg_dict[num_fe+\"___\"+_loan_bucket+\"___MEAN\"]\n",
    "            prev_counts[str(_id)] = col_mean\n",
    "            num_fe_avg_dict[num_fe+\"___\"+_loan_bucket+\"___MEAN\"] = prev_counts\n",
    "\n",
    "        for new_fe in categories:\n",
    "            print(new_fe)\n",
    "            id_to_count_mapping = num_fe_avg_dict[new_fe] \n",
    "            df_merged[new_fe] = df_merged['ID'].astype('str').apply(lambda x: id_to_count_mapping[x] if x in id_to_count_mapping else 0)\n",
    "    \n",
    "    train_id_counts = Counter(df_merged.ID)\n",
    "    ctr = 0\n",
    "    single_record_ids = []\n",
    "    multi_record_ids = []\n",
    "    for k,v in train_id_counts.items():\n",
    "        if v>1:\n",
    "            ctr += 1\n",
    "            multi_record_ids.append(k)\n",
    "        else:\n",
    "            single_record_ids.append(k)\n",
    "\n",
    "    print(\"#of IDs have more than 1 records: {} out of {} these IDs\".format(ctr, len(train_id_counts)))\n",
    "    df_merged = df_merged[df_merged.ID.isin(multi_record_ids)]\n",
    "    \n",
    "    df_merged = df_merged.sort_values(by=['ID','SELF-INDICATOR','NEXT_LOAN_IN_MONTHS'], ascending=[True, False, False])\n",
    "#     df_merged = df_merged[(df_merged['NEXT_LOAN_IN_MONTHS'] == 0) & (df_merged['OLD_NEW_LOAN_RATIO'] == 1.0) & (df_merged['SELF-INDICATOR'] == True)]\n",
    "    \n",
    "    print(\"Returning DF.SHAPE:\",df_merged.shape)\n",
    "    return df_merged"
   ]
  },
  {
   "cell_type": "markdown",
   "metadata": {
    "papermill": {
     "duration": 0.072189,
     "end_time": "2021-02-07T15:06:43.599197",
     "exception": false,
     "start_time": "2021-02-07T15:06:43.527008",
     "status": "completed"
    },
    "tags": []
   },
   "source": [
    "# Outlier Treatement:\n",
    "\n",
    "> * Tried clipping the lower and high values but didn't improve the cross-validation score.\n",
    "\n",
    "> * Added an extra boolean feature which contains True if value is less than or higher than the IQR (Inter-quantile Range) else False"
   ]
  },
  {
   "cell_type": "code",
   "execution_count": 17,
   "metadata": {
    "execution": {
     "iopub.execute_input": "2021-02-07T15:06:43.753458Z",
     "iopub.status.busy": "2021-02-07T15:06:43.752648Z",
     "iopub.status.idle": "2021-02-07T15:06:43.758016Z",
     "shell.execute_reply": "2021-02-07T15:06:43.757384Z"
    },
    "papermill": {
     "duration": 0.086228,
     "end_time": "2021-02-07T15:06:43.758166",
     "exception": false,
     "start_time": "2021-02-07T15:06:43.671938",
     "status": "completed"
    },
    "tags": []
   },
   "outputs": [],
   "source": [
    "def outlier_treatement(input_demo, features):\n",
    "    \n",
    "    for fe in features:\n",
    "        \n",
    "        #CLIPPING MonthlyIncome and finding outliers\n",
    "        Q1 = input_demo[fe].quantile(.25)\n",
    "        Q3 = input_demo[fe].quantile(.75)\n",
    "        Q_10 = input_demo[fe].quantile(0.1)\n",
    "        Q_90 = input_demo[fe].quantile(0.9)\n",
    "\n",
    "        IQR = Q3-Q1\n",
    "\n",
    "        low_lim = Q1 - (IQR*1.5)\n",
    "        high_lim = Q3 + (IQR*1.5)\n",
    "        print(Q_10, Q_90)\n",
    "        input_demo[fe+\"___OUTLIERS\"] = input_demo[fe].apply(lambda x: x<low_lim and x>high_lim)\n",
    "#         input_demo[fe] = input_demo[fe].clip(Q_10, Q_90)\n",
    "    \n",
    "    return input_demo\n",
    "\n",
    "\n",
    "def create_bin_features(input_df, features):\n",
    "    for bin_fe in features:\n",
    "        print(\"Binning: \",bin_fe)\n",
    "        input_df[bin_fe+\"___BINS\"] = pd.qcut(input_df[bin_fe], 10, labels=False, duplicates='drop')\n",
    "    \n",
    "    return input_df"
   ]
  },
  {
   "cell_type": "markdown",
   "metadata": {
    "papermill": {
     "duration": 0.071638,
     "end_time": "2021-02-07T15:06:43.901801",
     "exception": false,
     "start_time": "2021-02-07T15:06:43.830163",
     "status": "completed"
    },
    "tags": []
   },
   "source": [
    "# Re-formatting numeric values"
   ]
  },
  {
   "cell_type": "markdown",
   "metadata": {
    "papermill": {
     "duration": 0.072961,
     "end_time": "2021-02-07T15:06:44.046400",
     "exception": false,
     "start_time": "2021-02-07T15:06:43.973439",
     "status": "completed"
    },
    "tags": []
   },
   "source": [
    "# Extracting numerical values:\n",
    "\n",
    "> Some feature contains numerical values like 31,234 (has , comma in between). Maybe because I converted .xlsx to .csv. \n",
    "\n",
    "> INSTALLMENT-AMT : has values like 1234/Monthly. Extracting the numerical data from this.\n",
    "\n",
    "> Re-formatted all of these featuers to extact the numercial values"
   ]
  },
  {
   "cell_type": "code",
   "execution_count": 18,
   "metadata": {
    "execution": {
     "iopub.execute_input": "2021-02-07T15:06:44.198426Z",
     "iopub.status.busy": "2021-02-07T15:06:44.197565Z",
     "iopub.status.idle": "2021-02-07T15:06:44.202093Z",
     "shell.execute_reply": "2021-02-07T15:06:44.201416Z"
    },
    "papermill": {
     "duration": 0.082206,
     "end_time": "2021-02-07T15:06:44.202236",
     "exception": false,
     "start_time": "2021-02-07T15:06:44.120030",
     "status": "completed"
    },
    "tags": []
   },
   "outputs": [],
   "source": [
    "def fetch_numeric_value(data):\n",
    "    return np.nan if str(data).lower() == 'nan' else int(''.join(str(data).split(',')))"
   ]
  },
  {
   "cell_type": "code",
   "execution_count": 19,
   "metadata": {
    "execution": {
     "iopub.execute_input": "2021-02-07T15:06:44.356498Z",
     "iopub.status.busy": "2021-02-07T15:06:44.355852Z",
     "iopub.status.idle": "2021-02-07T15:06:49.278368Z",
     "shell.execute_reply": "2021-02-07T15:06:49.277611Z"
    },
    "papermill": {
     "duration": 5.004949,
     "end_time": "2021-02-07T15:06:49.278567",
     "exception": false,
     "start_time": "2021-02-07T15:06:44.273618",
     "status": "completed"
    },
    "tags": []
   },
   "outputs": [],
   "source": [
    "train_bureau['CREDIT-LIMIT/SANC AMT'] = train_bureau['CREDIT-LIMIT/SANC AMT'].apply(fetch_numeric_value)    \n",
    "test_bureau['CREDIT-LIMIT/SANC AMT'] = test_bureau['CREDIT-LIMIT/SANC AMT'].apply(fetch_numeric_value)\n",
    "\n",
    "train_bureau['DISBURSED-AMT/HIGH CREDIT'] = train_bureau['DISBURSED-AMT/HIGH CREDIT'].apply(fetch_numeric_value)\n",
    "test_bureau['DISBURSED-AMT/HIGH CREDIT'] = test_bureau['DISBURSED-AMT/HIGH CREDIT'].apply(fetch_numeric_value)\n",
    "\n",
    "tmp = train_bureau['INSTALLMENT-AMT'].copy()\n",
    "train_bureau['INSTALLMENT-AMT'] = tmp.apply(lambda x: np.nan if str(x).lower() == 'nan' else x.split('/')[0])\n",
    "train_bureau['INSTALLMENT-AMT'] = train_bureau['INSTALLMENT-AMT'].apply(fetch_numeric_value)\n",
    "train_bureau['CURRENT-BAL'] = train_bureau['CURRENT-BAL'].apply(fetch_numeric_value)    \n",
    "train_bureau['OVERDUE-AMT'] = train_bureau['OVERDUE-AMT'].apply(fetch_numeric_value)    \n",
    "\n",
    "tmp = test_bureau['INSTALLMENT-AMT'].copy()\n",
    "test_bureau['INSTALLMENT-AMT'] = tmp.apply(lambda x: np.nan if str(x).lower() == 'nan' else x.split('/')[0])\n",
    "test_bureau['INSTALLMENT-AMT'] = test_bureau['INSTALLMENT-AMT'].apply(fetch_numeric_value)\n",
    "test_bureau['CURRENT-BAL'] = test_bureau['CURRENT-BAL'].apply(fetch_numeric_value)    \n",
    "test_bureau['OVERDUE-AMT'] = test_bureau['OVERDUE-AMT'].apply(fetch_numeric_value)    \n",
    "\n",
    "\n",
    "#Fix ASSET_CLASS categories\n",
    "#['Standard', nan, 'Special Mention Account', 'SubStandard','Doubtful', 'Loss', '1', '01', '2']\n",
    "#we can merge 1 with 01\n",
    "train_bureau.ASSET_CLASS = train_bureau.ASSET_CLASS.apply(lambda x: 'Standard' if x in ['1','01'] else x)\n",
    "test_bureau.ASSET_CLASS = test_bureau.ASSET_CLASS.apply(lambda x: 'Standard' if x in ['1','01'] else x)"
   ]
  },
  {
   "cell_type": "markdown",
   "metadata": {
    "papermill": {
     "duration": 0.072142,
     "end_time": "2021-02-07T15:06:49.451007",
     "exception": false,
     "start_time": "2021-02-07T15:06:49.378865",
     "status": "completed"
    },
    "tags": []
   },
   "source": [
    "# Impute missing values"
   ]
  },
  {
   "cell_type": "code",
   "execution_count": 20,
   "metadata": {
    "execution": {
     "iopub.execute_input": "2021-02-07T15:06:49.614749Z",
     "iopub.status.busy": "2021-02-07T15:06:49.614045Z",
     "iopub.status.idle": "2021-02-07T15:06:50.881357Z",
     "shell.execute_reply": "2021-02-07T15:06:50.880734Z"
    },
    "papermill": {
     "duration": 1.358785,
     "end_time": "2021-02-07T15:06:50.881499",
     "exception": false,
     "start_time": "2021-02-07T15:06:49.522714",
     "status": "completed"
    },
    "tags": []
   },
   "outputs": [
    {
     "data": {
      "image/png": "[encoded data removed]",
      "text/plain": [
       "<Figure size 432x288 with 1 Axes>"
      ]
     },
     "metadata": {
      "needs_background": "light"
     },
     "output_type": "display_data"
    }
   ],
   "source": [
    "sns.distplot(train_data['AGE'])\n",
    "sns.distplot(test_data['AGE'])\n",
    "\n",
    "age_most_freq = train_data['AGE'].mode()[0]\n",
    "train_data['AGE'] = train_data['AGE'].fillna(age_most_freq)\n",
    "test_data['AGE'] = test_data['AGE'].fillna(age_most_freq)"
   ]
  },
  {
   "cell_type": "code",
   "execution_count": 21,
   "metadata": {
    "execution": {
     "iopub.execute_input": "2021-02-07T15:06:51.053368Z",
     "iopub.status.busy": "2021-02-07T15:06:51.052690Z",
     "iopub.status.idle": "2021-02-07T15:06:52.367224Z",
     "shell.execute_reply": "2021-02-07T15:06:52.366361Z"
    },
    "papermill": {
     "duration": 1.41301,
     "end_time": "2021-02-07T15:06:52.367417",
     "exception": false,
     "start_time": "2021-02-07T15:06:50.954407",
     "status": "completed"
    },
    "tags": []
   },
   "outputs": [
    {
     "data": {
      "image/png": "[encoded data removed]",
      "text/plain": [
       "<Figure size 432x288 with 1 Axes>"
      ]
     },
     "metadata": {
      "needs_background": "light"
     },
     "output_type": "display_data"
    }
   ],
   "source": [
    "sns.distplot(train_data['MonthlyIncome'])\n",
    "sns.distplot(test_data['MonthlyIncome'])\n",
    "income_median = train_data['MonthlyIncome'].median()\n",
    "train_data['MonthlyIncome'] = train_data['MonthlyIncome'].fillna(income_median)\n",
    "test_data['MonthlyIncome'] = test_data['MonthlyIncome'].fillna(income_median)"
   ]
  },
  {
   "cell_type": "code",
   "execution_count": 22,
   "metadata": {
    "execution": {
     "iopub.execute_input": "2021-02-07T15:06:52.545798Z",
     "iopub.status.busy": "2021-02-07T15:06:52.529177Z",
     "iopub.status.idle": "2021-02-07T15:06:52.750531Z",
     "shell.execute_reply": "2021-02-07T15:06:52.749948Z"
    },
    "papermill": {
     "duration": 0.307844,
     "end_time": "2021-02-07T15:06:52.750687",
     "exception": false,
     "start_time": "2021-02-07T15:06:52.442843",
     "status": "completed"
    },
    "tags": []
   },
   "outputs": [
    {
     "data": {
      "image/png": "[encoded data removed]",
      "text/plain": [
       "<Figure size 432x288 with 1 Axes>"
      ]
     },
     "metadata": {
      "needs_background": "light"
     },
     "output_type": "display_data"
    }
   ],
   "source": [
    "sns.countplot(train_data.SEX)\n",
    "sns.countplot(test_data.SEX)\n",
    "sex_most_freq = train_data['SEX'].mode()[0]\n",
    "train_data['SEX'] = train_data['SEX'].fillna(sex_most_freq)\n",
    "test_data['SEX'] = test_data['SEX'].fillna(sex_most_freq)\n"
   ]
  },
  {
   "cell_type": "code",
   "execution_count": 23,
   "metadata": {
    "execution": {
     "iopub.execute_input": "2021-02-07T15:06:52.932422Z",
     "iopub.status.busy": "2021-02-07T15:06:52.931748Z",
     "iopub.status.idle": "2021-02-07T15:06:53.496155Z",
     "shell.execute_reply": "2021-02-07T15:06:53.496760Z"
    },
    "papermill": {
     "duration": 0.670524,
     "end_time": "2021-02-07T15:06:53.496951",
     "exception": false,
     "start_time": "2021-02-07T15:06:52.826427",
     "status": "completed"
    },
    "tags": []
   },
   "outputs": [
    {
     "data": {
      "image/png": "[encoded data removed]",
      "text/plain": [
       "<Figure size 720x360 with 1 Axes>"
      ]
     },
     "metadata": {
      "needs_background": "light"
     },
     "output_type": "display_data"
    }
   ],
   "source": [
    "plt.figure(figsize=(10,5))\n",
    "sns.countplot(train_bureau.ASSET_CLASS)\n",
    "sns.countplot(test_bureau.ASSET_CLASS)\n",
    "asset_most_freq = train_bureau['ASSET_CLASS'].mode()[0]\n",
    "train_bureau['ASSET_CLASS'] = train_bureau['ASSET_CLASS'].fillna(asset_most_freq)\n",
    "test_bureau['ASSET_CLASS'] = test_bureau['ASSET_CLASS'].fillna(asset_most_freq)"
   ]
  },
  {
   "cell_type": "code",
   "execution_count": 24,
   "metadata": {
    "execution": {
     "iopub.execute_input": "2021-02-07T15:06:53.652117Z",
     "iopub.status.busy": "2021-02-07T15:06:53.651475Z",
     "iopub.status.idle": "2021-02-07T15:06:54.091819Z",
     "shell.execute_reply": "2021-02-07T15:06:54.092436Z"
    },
    "papermill": {
     "duration": 0.520395,
     "end_time": "2021-02-07T15:06:54.092607",
     "exception": false,
     "start_time": "2021-02-07T15:06:53.572212",
     "status": "completed"
    },
    "tags": []
   },
   "outputs": [
    {
     "data": {
      "text/plain": [
       "<AxesSubplot:xlabel='CREDIT-LIMIT/SANC AMT', ylabel='Density'>"
      ]
     },
     "execution_count": 24,
     "metadata": {},
     "output_type": "execute_result"
    },
    {
     "data": {
      "image/png": "[encoded data removed]",
      "text/plain": [
       "<Figure size 432x288 with 1 Axes>"
      ]
     },
     "metadata": {
      "needs_background": "light"
     },
     "output_type": "display_data"
    }
   ],
   "source": [
    "sns.distplot(train_bureau['CREDIT-LIMIT/SANC AMT'])\n",
    "sns.distplot(test_bureau['CREDIT-LIMIT/SANC AMT'])\n"
   ]
  },
  {
   "cell_type": "code",
   "execution_count": 25,
   "metadata": {
    "execution": {
     "iopub.execute_input": "2021-02-07T15:06:54.248095Z",
     "iopub.status.busy": "2021-02-07T15:06:54.247520Z",
     "iopub.status.idle": "2021-02-07T15:06:54.258517Z",
     "shell.execute_reply": "2021-02-07T15:06:54.257935Z"
    },
    "papermill": {
     "duration": 0.090308,
     "end_time": "2021-02-07T15:06:54.258667",
     "exception": false,
     "start_time": "2021-02-07T15:06:54.168359",
     "status": "completed"
    },
    "tags": []
   },
   "outputs": [],
   "source": [
    "train_bureau['CREDIT-LIMIT/SANC AMT'] = train_bureau['CREDIT-LIMIT/SANC AMT'].fillna(0.0)\n",
    "test_bureau['CREDIT-LIMIT/SANC AMT'] = test_bureau['CREDIT-LIMIT/SANC AMT'].fillna(0.0)"
   ]
  },
  {
   "cell_type": "code",
   "execution_count": 26,
   "metadata": {
    "execution": {
     "iopub.execute_input": "2021-02-07T15:06:54.447853Z",
     "iopub.status.busy": "2021-02-07T15:06:54.447158Z",
     "iopub.status.idle": "2021-02-07T15:06:55.620882Z",
     "shell.execute_reply": "2021-02-07T15:06:55.621548Z"
    },
    "papermill": {
     "duration": 1.284002,
     "end_time": "2021-02-07T15:06:55.621764",
     "exception": false,
     "start_time": "2021-02-07T15:06:54.337762",
     "status": "completed"
    },
    "tags": []
   },
   "outputs": [
    {
     "data": {
      "text/plain": [
       "<AxesSubplot:xlabel='INSTALLMENT-AMT', ylabel='Density'>"
      ]
     },
     "execution_count": 26,
     "metadata": {},
     "output_type": "execute_result"
    },
    {
     "data": {
      "image/png": "[encoded data removed]",
      "text/plain": [
       "<Figure size 432x288 with 1 Axes>"
      ]
     },
     "metadata": {
      "needs_background": "light"
     },
     "output_type": "display_data"
    }
   ],
   "source": [
    "sns.distplot(train_bureau['INSTALLMENT-AMT'])"
   ]
  },
  {
   "cell_type": "code",
   "execution_count": 27,
   "metadata": {
    "execution": {
     "iopub.execute_input": "2021-02-07T15:06:55.872570Z",
     "iopub.status.busy": "2021-02-07T15:06:55.871651Z",
     "iopub.status.idle": "2021-02-07T15:06:55.881943Z",
     "shell.execute_reply": "2021-02-07T15:06:55.881185Z"
    },
    "papermill": {
     "duration": 0.138194,
     "end_time": "2021-02-07T15:06:55.882116",
     "exception": false,
     "start_time": "2021-02-07T15:06:55.743922",
     "status": "completed"
    },
    "tags": []
   },
   "outputs": [],
   "source": [
    "train_bureau['INSTALLMENT-AMT'] = train_bureau['INSTALLMENT-AMT'].fillna(0.0)\n",
    "test_bureau['INSTALLMENT-AMT'] = test_bureau['INSTALLMENT-AMT'].fillna(0.0)"
   ]
  },
  {
   "cell_type": "code",
   "execution_count": 28,
   "metadata": {
    "execution": {
     "iopub.execute_input": "2021-02-07T15:06:56.152265Z",
     "iopub.status.busy": "2021-02-07T15:06:56.150912Z",
     "iopub.status.idle": "2021-02-07T15:06:59.156080Z",
     "shell.execute_reply": "2021-02-07T15:06:59.155165Z"
    },
    "papermill": {
     "duration": 3.152447,
     "end_time": "2021-02-07T15:06:59.156277",
     "exception": false,
     "start_time": "2021-02-07T15:06:56.003830",
     "status": "completed"
    },
    "tags": []
   },
   "outputs": [
    {
     "data": {
      "image/png": "[encoded data removed]",
      "text/plain": [
       "<Figure size 432x288 with 1 Axes>"
      ]
     },
     "metadata": {
      "needs_background": "light"
     },
     "output_type": "display_data"
    }
   ],
   "source": [
    "sns.distplot(train_bureau['TENURE'])\n",
    "sns.distplot(test_bureau['TENURE'])\n",
    "tenure_median = train_bureau['TENURE'].median()\n",
    "train_bureau['TENURE'] = train_bureau['TENURE'].fillna(tenure_median)\n",
    "test_bureau['TENURE'] = test_bureau['TENURE'].fillna(tenure_median)"
   ]
  },
  {
   "cell_type": "code",
   "execution_count": 29,
   "metadata": {
    "execution": {
     "iopub.execute_input": "2021-02-07T15:06:59.406911Z",
     "iopub.status.busy": "2021-02-07T15:06:59.406010Z",
     "iopub.status.idle": "2021-02-07T15:06:59.480594Z",
     "shell.execute_reply": "2021-02-07T15:06:59.479744Z"
    },
    "papermill": {
     "duration": 0.202108,
     "end_time": "2021-02-07T15:06:59.480763",
     "exception": false,
     "start_time": "2021-02-07T15:06:59.278655",
     "status": "completed"
    },
    "tags": []
   },
   "outputs": [
    {
     "name": "stdout",
     "output_type": "stream",
     "text": [
      "(143400, 26)\n"
     ]
    }
   ],
   "source": [
    "all_data = pd.concat([train_data, test_data])\n",
    "all_data = all_data.reset_index(drop=True)\n",
    "print(all_data.shape)\n"
   ]
  },
  {
   "cell_type": "markdown",
   "metadata": {
    "papermill": {
     "duration": 0.121465,
     "end_time": "2021-02-07T15:06:59.724066",
     "exception": false,
     "start_time": "2021-02-07T15:06:59.602601",
     "status": "completed"
    },
    "tags": []
   },
   "source": [
    "# Feature Engineering:\n",
    "\n",
    "> Extracting the whole values from the numerical features. Idea behind this is to avoid the minor differences and treating two values equally same\n",
    "\n",
    "Example: \n",
    "        \n",
    "        value1 = 100345 and value2 = 100045\n",
    "\n",
    "        value1___whole_number = 100000 and value2___whole_number = 100000"
   ]
  },
  {
   "cell_type": "code",
   "execution_count": 30,
   "metadata": {
    "execution": {
     "iopub.execute_input": "2021-02-07T15:06:59.983601Z",
     "iopub.status.busy": "2021-02-07T15:06:59.976431Z",
     "iopub.status.idle": "2021-02-07T15:07:01.808610Z",
     "shell.execute_reply": "2021-02-07T15:07:01.807916Z"
    },
    "papermill": {
     "duration": 1.962152,
     "end_time": "2021-02-07T15:07:01.808751",
     "exception": false,
     "start_time": "2021-02-07T15:06:59.846599",
     "status": "completed"
    },
    "tags": []
   },
   "outputs": [
    {
     "name": "stdout",
     "output_type": "stream",
     "text": [
      "Fetching whole number: DisbursalAmount\n",
      "Fetching whole number: MonthlyIncome\n",
      "Fetching whole number: AGE\n",
      "Fetching whole number: Tenure\n",
      "Fetching whole number: EMI\n",
      "Fetching whole number: AssetCost\n"
     ]
    }
   ],
   "source": [
    "for fe in ['DisbursalAmount', \n",
    "            'MonthlyIncome', \n",
    "            'AGE', \n",
    "            'Tenure', \n",
    "            'EMI', \n",
    "            'AssetCost']:\n",
    "    print(\"Fetching whole number:\",fe)\n",
    "    all_data[fe+\"___WHOLE_NUMBER\"] = all_data[fe].apply(make_whole_number)"
   ]
  },
  {
   "cell_type": "code",
   "execution_count": 31,
   "metadata": {
    "execution": {
     "iopub.execute_input": "2021-02-07T15:07:01.995326Z",
     "iopub.status.busy": "2021-02-07T15:07:01.994656Z",
     "iopub.status.idle": "2021-02-07T15:07:02.027989Z",
     "shell.execute_reply": "2021-02-07T15:07:02.028715Z"
    },
    "papermill": {
     "duration": 0.133787,
     "end_time": "2021-02-07T15:07:02.028951",
     "exception": false,
     "start_time": "2021-02-07T15:07:01.895164",
     "status": "completed"
    },
    "tags": []
   },
   "outputs": [
    {
     "data": {
      "text/html": [
       "<div>\n",
       "<style scoped>\n",
       "    .dataframe tbody tr th:only-of-type {\n",
       "        vertical-align: middle;\n",
       "    }\n",
       "\n",
       "    .dataframe tbody tr th {\n",
       "        vertical-align: top;\n",
       "    }\n",
       "\n",
       "    .dataframe thead th {\n",
       "        text-align: right;\n",
       "    }\n",
       "</style>\n",
       "<table border=\"1\" class=\"dataframe\">\n",
       "  <thead>\n",
       "    <tr style=\"text-align: right;\">\n",
       "      <th></th>\n",
       "      <th>ID</th>\n",
       "      <th>Frequency</th>\n",
       "      <th>InstlmentMode</th>\n",
       "      <th>LoanStatus</th>\n",
       "      <th>PaymentMode</th>\n",
       "      <th>BranchID</th>\n",
       "      <th>Area</th>\n",
       "      <th>Tenure</th>\n",
       "      <th>AssetCost</th>\n",
       "      <th>AmountFinance</th>\n",
       "      <th>...</th>\n",
       "      <th>City</th>\n",
       "      <th>State</th>\n",
       "      <th>ZiPCODE</th>\n",
       "      <th>Top-up Month</th>\n",
       "      <th>DisbursalAmount___WHOLE_NUMBER</th>\n",
       "      <th>MonthlyIncome___WHOLE_NUMBER</th>\n",
       "      <th>AGE___WHOLE_NUMBER</th>\n",
       "      <th>Tenure___WHOLE_NUMBER</th>\n",
       "      <th>EMI___WHOLE_NUMBER</th>\n",
       "      <th>AssetCost___WHOLE_NUMBER</th>\n",
       "    </tr>\n",
       "  </thead>\n",
       "  <tbody>\n",
       "    <tr>\n",
       "      <th>0</th>\n",
       "      <td>1</td>\n",
       "      <td>Monthly</td>\n",
       "      <td>Arrear</td>\n",
       "      <td>Closed</td>\n",
       "      <td>PDC_E</td>\n",
       "      <td>1</td>\n",
       "      <td>NaN</td>\n",
       "      <td>48</td>\n",
       "      <td>450000</td>\n",
       "      <td>275000.0</td>\n",
       "      <td>...</td>\n",
       "      <td>RAISEN</td>\n",
       "      <td>MADHYA PRADESH</td>\n",
       "      <td>464993.0</td>\n",
       "      <td>&gt; 48 Months</td>\n",
       "      <td>200000</td>\n",
       "      <td>30000</td>\n",
       "      <td>40</td>\n",
       "      <td>40</td>\n",
       "      <td>20000</td>\n",
       "      <td>400000</td>\n",
       "    </tr>\n",
       "    <tr>\n",
       "      <th>1</th>\n",
       "      <td>2</td>\n",
       "      <td>Monthly</td>\n",
       "      <td>Advance</td>\n",
       "      <td>Closed</td>\n",
       "      <td>PDC</td>\n",
       "      <td>333</td>\n",
       "      <td>BHOPAL</td>\n",
       "      <td>47</td>\n",
       "      <td>485000</td>\n",
       "      <td>350000.0</td>\n",
       "      <td>...</td>\n",
       "      <td>SEHORE</td>\n",
       "      <td>MADHYA PRADESH</td>\n",
       "      <td>466001.0</td>\n",
       "      <td>No Top-up Service</td>\n",
       "      <td>300000</td>\n",
       "      <td>600</td>\n",
       "      <td>20</td>\n",
       "      <td>40</td>\n",
       "      <td>10000</td>\n",
       "      <td>400000</td>\n",
       "    </tr>\n",
       "    <tr>\n",
       "      <th>2</th>\n",
       "      <td>3</td>\n",
       "      <td>Quatrly</td>\n",
       "      <td>Arrear</td>\n",
       "      <td>Active</td>\n",
       "      <td>Direct Debit</td>\n",
       "      <td>1</td>\n",
       "      <td>NaN</td>\n",
       "      <td>68</td>\n",
       "      <td>690000</td>\n",
       "      <td>519728.0</td>\n",
       "      <td>...</td>\n",
       "      <td>BHOPAL</td>\n",
       "      <td>MADHYA PRADESH</td>\n",
       "      <td>462030.0</td>\n",
       "      <td>12-18 Months</td>\n",
       "      <td>500000</td>\n",
       "      <td>40000</td>\n",
       "      <td>30</td>\n",
       "      <td>60</td>\n",
       "      <td>30000</td>\n",
       "      <td>600000</td>\n",
       "    </tr>\n",
       "    <tr>\n",
       "      <th>3</th>\n",
       "      <td>7</td>\n",
       "      <td>Monthly</td>\n",
       "      <td>Advance</td>\n",
       "      <td>Closed</td>\n",
       "      <td>Billed</td>\n",
       "      <td>125</td>\n",
       "      <td>GUNA</td>\n",
       "      <td>48</td>\n",
       "      <td>480000</td>\n",
       "      <td>400000.0</td>\n",
       "      <td>...</td>\n",
       "      <td>ASHOK NAGAR</td>\n",
       "      <td>MADHYA PRADESH</td>\n",
       "      <td>473335.0</td>\n",
       "      <td>&gt; 48 Months</td>\n",
       "      <td>400000</td>\n",
       "      <td>20000</td>\n",
       "      <td>20</td>\n",
       "      <td>40</td>\n",
       "      <td>10000</td>\n",
       "      <td>400000</td>\n",
       "    </tr>\n",
       "    <tr>\n",
       "      <th>4</th>\n",
       "      <td>8</td>\n",
       "      <td>Monthly</td>\n",
       "      <td>Arrear</td>\n",
       "      <td>Closed</td>\n",
       "      <td>Billed</td>\n",
       "      <td>152</td>\n",
       "      <td>BILASPUR</td>\n",
       "      <td>44</td>\n",
       "      <td>619265</td>\n",
       "      <td>440000.0</td>\n",
       "      <td>...</td>\n",
       "      <td>BILASPUR</td>\n",
       "      <td>CHATTISGARH</td>\n",
       "      <td>495442.0</td>\n",
       "      <td>36-48 Months</td>\n",
       "      <td>400000</td>\n",
       "      <td>20000</td>\n",
       "      <td>50</td>\n",
       "      <td>40</td>\n",
       "      <td>10000</td>\n",
       "      <td>600000</td>\n",
       "    </tr>\n",
       "  </tbody>\n",
       "</table>\n",
       "<p>5 rows × 32 columns</p>\n",
       "</div>"
      ],
      "text/plain": [
       "   ID Frequency InstlmentMode LoanStatus   PaymentMode  BranchID      Area  \\\n",
       "0   1   Monthly        Arrear     Closed         PDC_E         1       NaN   \n",
       "1   2   Monthly       Advance     Closed           PDC       333    BHOPAL   \n",
       "2   3   Quatrly        Arrear     Active  Direct Debit         1       NaN   \n",
       "3   7   Monthly       Advance     Closed        Billed       125      GUNA   \n",
       "4   8   Monthly        Arrear     Closed        Billed       152  BILASPUR   \n",
       "\n",
       "   Tenure  AssetCost  AmountFinance  ...         City           State  \\\n",
       "0      48     450000       275000.0  ...       RAISEN  MADHYA PRADESH   \n",
       "1      47     485000       350000.0  ...       SEHORE  MADHYA PRADESH   \n",
       "2      68     690000       519728.0  ...       BHOPAL  MADHYA PRADESH   \n",
       "3      48     480000       400000.0  ...  ASHOK NAGAR  MADHYA PRADESH   \n",
       "4      44     619265       440000.0  ...     BILASPUR     CHATTISGARH   \n",
       "\n",
       "    ZiPCODE       Top-up Month DisbursalAmount___WHOLE_NUMBER  \\\n",
       "0  464993.0        > 48 Months                         200000   \n",
       "1  466001.0  No Top-up Service                         300000   \n",
       "2  462030.0       12-18 Months                         500000   \n",
       "3  473335.0        > 48 Months                         400000   \n",
       "4  495442.0       36-48 Months                         400000   \n",
       "\n",
       "   MonthlyIncome___WHOLE_NUMBER  AGE___WHOLE_NUMBER  Tenure___WHOLE_NUMBER  \\\n",
       "0                         30000                  40                     40   \n",
       "1                           600                  20                     40   \n",
       "2                         40000                  30                     60   \n",
       "3                         20000                  20                     40   \n",
       "4                         20000                  50                     40   \n",
       "\n",
       "   EMI___WHOLE_NUMBER AssetCost___WHOLE_NUMBER  \n",
       "0               20000                   400000  \n",
       "1               10000                   400000  \n",
       "2               30000                   600000  \n",
       "3               10000                   400000  \n",
       "4               10000                   600000  \n",
       "\n",
       "[5 rows x 32 columns]"
      ]
     },
     "execution_count": 31,
     "metadata": {},
     "output_type": "execute_result"
    }
   ],
   "source": [
    "all_data.head()"
   ]
  },
  {
   "cell_type": "markdown",
   "metadata": {
    "papermill": {
     "duration": 0.128301,
     "end_time": "2021-02-07T15:07:02.287541",
     "exception": false,
     "start_time": "2021-02-07T15:07:02.159240",
     "status": "completed"
    },
    "tags": []
   },
   "source": [
    "# Binning numeric features"
   ]
  },
  {
   "cell_type": "code",
   "execution_count": 32,
   "metadata": {
    "execution": {
     "iopub.execute_input": "2021-02-07T15:07:02.549637Z",
     "iopub.status.busy": "2021-02-07T15:07:02.548929Z",
     "iopub.status.idle": "2021-02-07T15:07:02.694151Z",
     "shell.execute_reply": "2021-02-07T15:07:02.694894Z"
    },
    "papermill": {
     "duration": 0.278439,
     "end_time": "2021-02-07T15:07:02.695124",
     "exception": false,
     "start_time": "2021-02-07T15:07:02.416685",
     "status": "completed"
    },
    "tags": []
   },
   "outputs": [
    {
     "name": "stdout",
     "output_type": "stream",
     "text": [
      "Binning:  DisbursalAmount\n",
      "Binning:  MonthlyIncome\n",
      "Binning:  AGE\n",
      "Binning:  Tenure\n",
      "Binning:  EMI\n",
      "Binning:  LTV\n",
      "Binning:  AssetCost\n"
     ]
    }
   ],
   "source": [
    "binning_num_features = ['DisbursalAmount', \n",
    "                        'MonthlyIncome', \n",
    "                        'AGE', \n",
    "                        'Tenure', \n",
    "                        'EMI', \n",
    "                        'LTV',\n",
    "                        'AssetCost'\n",
    "                        ]\n",
    "all_data = create_bin_features(all_data, binning_num_features)"
   ]
  },
  {
   "cell_type": "markdown",
   "metadata": {
    "papermill": {
     "duration": 0.083934,
     "end_time": "2021-02-07T15:07:02.864404",
     "exception": false,
     "start_time": "2021-02-07T15:07:02.780470",
     "status": "completed"
    },
    "tags": []
   },
   "source": [
    "# Outlier treatement"
   ]
  },
  {
   "cell_type": "code",
   "execution_count": 33,
   "metadata": {
    "execution": {
     "iopub.execute_input": "2021-02-07T15:07:03.040182Z",
     "iopub.status.busy": "2021-02-07T15:07:03.039346Z",
     "iopub.status.idle": "2021-02-07T15:07:03.778900Z",
     "shell.execute_reply": "2021-02-07T15:07:03.778251Z"
    },
    "papermill": {
     "duration": 0.829555,
     "end_time": "2021-02-07T15:07:03.779068",
     "exception": false,
     "start_time": "2021-02-07T15:07:02.949513",
     "status": "completed"
    },
    "tags": []
   },
   "outputs": [
    {
     "name": "stdout",
     "output_type": "stream",
     "text": [
      "16666.67 73750.0\n",
      "26.0 57.0\n",
      "14954.700000000004 87000.0\n",
      "200000.0 480000.0\n",
      "450000.0 670000.0\n",
      "37.52 78.12\n",
      "24.0 60.0\n"
     ]
    }
   ],
   "source": [
    "all_data = outlier_treatement(all_data, ['MonthlyIncome', 'AGE', 'EMI', 'DisbursalAmount', 'AssetCost','LTV', 'Tenure'])"
   ]
  },
  {
   "cell_type": "code",
   "execution_count": 34,
   "metadata": {
    "execution": {
     "iopub.execute_input": "2021-02-07T15:07:03.959090Z",
     "iopub.status.busy": "2021-02-07T15:07:03.958208Z",
     "iopub.status.idle": "2021-02-07T15:07:03.989542Z",
     "shell.execute_reply": "2021-02-07T15:07:03.988762Z"
    },
    "papermill": {
     "duration": 0.123066,
     "end_time": "2021-02-07T15:07:03.989738",
     "exception": false,
     "start_time": "2021-02-07T15:07:03.866672",
     "status": "completed"
    },
    "tags": []
   },
   "outputs": [
    {
     "name": "stdout",
     "output_type": "stream",
     "text": [
      "(128655, 46) (14745, 46)\n"
     ]
    }
   ],
   "source": [
    "_len_train_demo = len(train_data)\n",
    "train_data = all_data[: _len_train_demo].copy()\n",
    "test_data = all_data[_len_train_demo:].copy()\n",
    "print(train_data.shape, test_data.shape)"
   ]
  },
  {
   "cell_type": "code",
   "execution_count": null,
   "metadata": {
    "papermill": {
     "duration": 0.086967,
     "end_time": "2021-02-07T15:07:04.162545",
     "exception": false,
     "start_time": "2021-02-07T15:07:04.075578",
     "status": "completed"
    },
    "tags": []
   },
   "outputs": [],
   "source": [
    "    "
   ]
  },
  {
   "cell_type": "markdown",
   "metadata": {
    "papermill": {
     "duration": 0.083324,
     "end_time": "2021-02-07T15:07:04.333266",
     "exception": false,
     "start_time": "2021-02-07T15:07:04.249942",
     "status": "completed"
    },
    "tags": []
   },
   "source": [
    "# ANNOVA "
   ]
  },
  {
   "cell_type": "code",
   "execution_count": 35,
   "metadata": {
    "execution": {
     "iopub.execute_input": "2021-02-07T15:07:04.506042Z",
     "iopub.status.busy": "2021-02-07T15:07:04.505160Z",
     "iopub.status.idle": "2021-02-07T15:07:04.510039Z",
     "shell.execute_reply": "2021-02-07T15:07:04.509274Z"
    },
    "papermill": {
     "duration": 0.093998,
     "end_time": "2021-02-07T15:07:04.510194",
     "exception": false,
     "start_time": "2021-02-07T15:07:04.416196",
     "status": "completed"
    },
    "tags": []
   },
   "outputs": [],
   "source": [
    "from scipy import stats"
   ]
  },
  {
   "cell_type": "code",
   "execution_count": 36,
   "metadata": {
    "execution": {
     "iopub.execute_input": "2021-02-07T15:07:04.702117Z",
     "iopub.status.busy": "2021-02-07T15:07:04.701028Z",
     "iopub.status.idle": "2021-02-07T15:07:05.005335Z",
     "shell.execute_reply": "2021-02-07T15:07:05.004732Z"
    },
    "papermill": {
     "duration": 0.406498,
     "end_time": "2021-02-07T15:07:05.005483",
     "exception": false,
     "start_time": "2021-02-07T15:07:04.598985",
     "status": "completed"
    },
    "tags": []
   },
   "outputs": [
    {
     "name": "stdout",
     "output_type": "stream",
     "text": [
      "ANOVA: DisbursalAmount - 373.4898298560852:0.0\n",
      "ANOVA: Tenure - 117.06733859263751:4.760210576690185e-148\n"
     ]
    }
   ],
   "source": [
    "targets= train_data['Top-up Month'].unique()\n",
    "for fe in ['DisbursalAmount','Tenure']:\n",
    "    F, p = stats.f_oneway(\n",
    "                          train_data[train_data['Top-up Month'] == targets[0]][fe],\n",
    "                          train_data[train_data['Top-up Month'] == targets[1]][fe],\n",
    "                          train_data[train_data['Top-up Month'] == targets[2]][fe],\n",
    "                          train_data[train_data['Top-up Month'] == targets[3]][fe],\n",
    "                          train_data[train_data['Top-up Month'] == targets[4]][fe],\n",
    "                          train_data[train_data['Top-up Month'] == targets[5]][fe],\n",
    "                          train_data[train_data['Top-up Month'] == targets[6]][fe],\n",
    "                         )\n",
    "    if p < 0.05:\n",
    "        print('ANOVA: {} - {}:{}'.format(fe, F,p))\n"
   ]
  },
  {
   "cell_type": "code",
   "execution_count": 37,
   "metadata": {
    "execution": {
     "iopub.execute_input": "2021-02-07T15:07:05.207633Z",
     "iopub.status.busy": "2021-02-07T15:07:05.194460Z",
     "iopub.status.idle": "2021-02-07T15:07:05.214589Z",
     "shell.execute_reply": "2021-02-07T15:07:05.213817Z"
    },
    "papermill": {
     "duration": 0.123823,
     "end_time": "2021-02-07T15:07:05.214738",
     "exception": false,
     "start_time": "2021-02-07T15:07:05.090915",
     "status": "completed"
    },
    "tags": []
   },
   "outputs": [
    {
     "data": {
      "text/html": [
       "<div>\n",
       "<style scoped>\n",
       "    .dataframe tbody tr th:only-of-type {\n",
       "        vertical-align: middle;\n",
       "    }\n",
       "\n",
       "    .dataframe tbody tr th {\n",
       "        vertical-align: top;\n",
       "    }\n",
       "\n",
       "    .dataframe thead th {\n",
       "        text-align: right;\n",
       "    }\n",
       "</style>\n",
       "<table border=\"1\" class=\"dataframe\">\n",
       "  <thead>\n",
       "    <tr style=\"text-align: right;\">\n",
       "      <th></th>\n",
       "      <th>ID</th>\n",
       "      <th>Frequency</th>\n",
       "      <th>InstlmentMode</th>\n",
       "      <th>LoanStatus</th>\n",
       "      <th>PaymentMode</th>\n",
       "      <th>BranchID</th>\n",
       "      <th>Area</th>\n",
       "      <th>Tenure</th>\n",
       "      <th>AssetCost</th>\n",
       "      <th>AmountFinance</th>\n",
       "      <th>...</th>\n",
       "      <th>EMI___BINS</th>\n",
       "      <th>LTV___BINS</th>\n",
       "      <th>AssetCost___BINS</th>\n",
       "      <th>MonthlyIncome___OUTLIERS</th>\n",
       "      <th>AGE___OUTLIERS</th>\n",
       "      <th>EMI___OUTLIERS</th>\n",
       "      <th>DisbursalAmount___OUTLIERS</th>\n",
       "      <th>AssetCost___OUTLIERS</th>\n",
       "      <th>LTV___OUTLIERS</th>\n",
       "      <th>Tenure___OUTLIERS</th>\n",
       "    </tr>\n",
       "  </thead>\n",
       "  <tbody>\n",
       "    <tr>\n",
       "      <th>0</th>\n",
       "      <td>1</td>\n",
       "      <td>Monthly</td>\n",
       "      <td>Arrear</td>\n",
       "      <td>Closed</td>\n",
       "      <td>PDC_E</td>\n",
       "      <td>1</td>\n",
       "      <td>NaN</td>\n",
       "      <td>48</td>\n",
       "      <td>450000</td>\n",
       "      <td>275000.0</td>\n",
       "      <td>...</td>\n",
       "      <td>1</td>\n",
       "      <td>5</td>\n",
       "      <td>0</td>\n",
       "      <td>False</td>\n",
       "      <td>False</td>\n",
       "      <td>False</td>\n",
       "      <td>False</td>\n",
       "      <td>False</td>\n",
       "      <td>False</td>\n",
       "      <td>False</td>\n",
       "    </tr>\n",
       "    <tr>\n",
       "      <th>1</th>\n",
       "      <td>2</td>\n",
       "      <td>Monthly</td>\n",
       "      <td>Advance</td>\n",
       "      <td>Closed</td>\n",
       "      <td>PDC</td>\n",
       "      <td>333</td>\n",
       "      <td>BHOPAL</td>\n",
       "      <td>47</td>\n",
       "      <td>485000</td>\n",
       "      <td>350000.0</td>\n",
       "      <td>...</td>\n",
       "      <td>0</td>\n",
       "      <td>7</td>\n",
       "      <td>1</td>\n",
       "      <td>False</td>\n",
       "      <td>False</td>\n",
       "      <td>False</td>\n",
       "      <td>False</td>\n",
       "      <td>False</td>\n",
       "      <td>False</td>\n",
       "      <td>False</td>\n",
       "    </tr>\n",
       "    <tr>\n",
       "      <th>2</th>\n",
       "      <td>3</td>\n",
       "      <td>Quatrly</td>\n",
       "      <td>Arrear</td>\n",
       "      <td>Active</td>\n",
       "      <td>Direct Debit</td>\n",
       "      <td>1</td>\n",
       "      <td>NaN</td>\n",
       "      <td>68</td>\n",
       "      <td>690000</td>\n",
       "      <td>519728.0</td>\n",
       "      <td>...</td>\n",
       "      <td>3</td>\n",
       "      <td>7</td>\n",
       "      <td>9</td>\n",
       "      <td>False</td>\n",
       "      <td>False</td>\n",
       "      <td>False</td>\n",
       "      <td>False</td>\n",
       "      <td>False</td>\n",
       "      <td>False</td>\n",
       "      <td>False</td>\n",
       "    </tr>\n",
       "    <tr>\n",
       "      <th>3</th>\n",
       "      <td>7</td>\n",
       "      <td>Monthly</td>\n",
       "      <td>Advance</td>\n",
       "      <td>Closed</td>\n",
       "      <td>Billed</td>\n",
       "      <td>125</td>\n",
       "      <td>GUNA</td>\n",
       "      <td>48</td>\n",
       "      <td>480000</td>\n",
       "      <td>400000.0</td>\n",
       "      <td>...</td>\n",
       "      <td>0</td>\n",
       "      <td>9</td>\n",
       "      <td>1</td>\n",
       "      <td>False</td>\n",
       "      <td>False</td>\n",
       "      <td>False</td>\n",
       "      <td>False</td>\n",
       "      <td>False</td>\n",
       "      <td>False</td>\n",
       "      <td>False</td>\n",
       "    </tr>\n",
       "    <tr>\n",
       "      <th>4</th>\n",
       "      <td>8</td>\n",
       "      <td>Monthly</td>\n",
       "      <td>Arrear</td>\n",
       "      <td>Closed</td>\n",
       "      <td>Billed</td>\n",
       "      <td>152</td>\n",
       "      <td>BILASPUR</td>\n",
       "      <td>44</td>\n",
       "      <td>619265</td>\n",
       "      <td>440000.0</td>\n",
       "      <td>...</td>\n",
       "      <td>1</td>\n",
       "      <td>7</td>\n",
       "      <td>7</td>\n",
       "      <td>False</td>\n",
       "      <td>False</td>\n",
       "      <td>False</td>\n",
       "      <td>False</td>\n",
       "      <td>False</td>\n",
       "      <td>False</td>\n",
       "      <td>False</td>\n",
       "    </tr>\n",
       "  </tbody>\n",
       "</table>\n",
       "<p>5 rows × 46 columns</p>\n",
       "</div>"
      ],
      "text/plain": [
       "   ID Frequency InstlmentMode LoanStatus   PaymentMode  BranchID      Area  \\\n",
       "0   1   Monthly        Arrear     Closed         PDC_E         1       NaN   \n",
       "1   2   Monthly       Advance     Closed           PDC       333    BHOPAL   \n",
       "2   3   Quatrly        Arrear     Active  Direct Debit         1       NaN   \n",
       "3   7   Monthly       Advance     Closed        Billed       125      GUNA   \n",
       "4   8   Monthly        Arrear     Closed        Billed       152  BILASPUR   \n",
       "\n",
       "   Tenure  AssetCost  AmountFinance  ...  EMI___BINS  LTV___BINS  \\\n",
       "0      48     450000       275000.0  ...           1           5   \n",
       "1      47     485000       350000.0  ...           0           7   \n",
       "2      68     690000       519728.0  ...           3           7   \n",
       "3      48     480000       400000.0  ...           0           9   \n",
       "4      44     619265       440000.0  ...           1           7   \n",
       "\n",
       "  AssetCost___BINS MonthlyIncome___OUTLIERS AGE___OUTLIERS  EMI___OUTLIERS  \\\n",
       "0                0                    False          False           False   \n",
       "1                1                    False          False           False   \n",
       "2                9                    False          False           False   \n",
       "3                1                    False          False           False   \n",
       "4                7                    False          False           False   \n",
       "\n",
       "   DisbursalAmount___OUTLIERS  AssetCost___OUTLIERS  LTV___OUTLIERS  \\\n",
       "0                       False                 False           False   \n",
       "1                       False                 False           False   \n",
       "2                       False                 False           False   \n",
       "3                       False                 False           False   \n",
       "4                       False                 False           False   \n",
       "\n",
       "  Tenure___OUTLIERS  \n",
       "0             False  \n",
       "1             False  \n",
       "2             False  \n",
       "3             False  \n",
       "4             False  \n",
       "\n",
       "[5 rows x 46 columns]"
      ]
     },
     "execution_count": 37,
     "metadata": {},
     "output_type": "execute_result"
    }
   ],
   "source": [
    "train_data.head()"
   ]
  },
  {
   "cell_type": "code",
   "execution_count": 38,
   "metadata": {
    "execution": {
     "iopub.execute_input": "2021-02-07T15:07:05.395164Z",
     "iopub.status.busy": "2021-02-07T15:07:05.394482Z",
     "iopub.status.idle": "2021-02-07T15:07:07.001203Z",
     "shell.execute_reply": "2021-02-07T15:07:07.000534Z"
    },
    "papermill": {
     "duration": 1.699308,
     "end_time": "2021-02-07T15:07:07.001376",
     "exception": false,
     "start_time": "2021-02-07T15:07:05.302068",
     "status": "completed"
    },
    "tags": []
   },
   "outputs": [],
   "source": [
    "bureau_dup_mask = train_bureau.duplicated()"
   ]
  },
  {
   "cell_type": "markdown",
   "metadata": {
    "papermill": {
     "duration": 0.08704,
     "end_time": "2021-02-07T15:07:07.176082",
     "exception": false,
     "start_time": "2021-02-07T15:07:07.089042",
     "status": "completed"
    },
    "tags": []
   },
   "source": [
    "# merge_demographic_bureau_data:\n",
    "\n",
    "> This function is the heart of feature engineering pipeline.\n",
    "\n",
    "    > From categorical features added CountVectorizer like features\n",
    "\n",
    "    > From numerical features created various aggregrated features"
   ]
  },
  {
   "cell_type": "code",
   "execution_count": 39,
   "metadata": {
    "execution": {
     "iopub.execute_input": "2021-02-07T15:07:07.355088Z",
     "iopub.status.busy": "2021-02-07T15:07:07.354434Z",
     "iopub.status.idle": "2021-02-07T15:37:22.071703Z",
     "shell.execute_reply": "2021-02-07T15:37:22.070692Z"
    },
    "papermill": {
     "duration": 1814.80896,
     "end_time": "2021-02-07T15:37:22.071860",
     "exception": false,
     "start_time": "2021-02-07T15:07:07.262900",
     "status": "completed"
    },
    "tags": []
   },
   "outputs": [
    {
     "name": "stdout",
     "output_type": "stream",
     "text": [
      "(128655, 46) (556978, 25)\n",
      "MATCH-TYPE\n",
      "MATCH-TYPE___PRIMARY___COUNT\n",
      "MATCH-TYPE___SECONDARY___COUNT\n",
      "ACCT-TYPE\n",
      "ACCT-TYPE___Overdraft___COUNT\n",
      "ACCT-TYPE___Auto Loan (Personal)___COUNT\n",
      "ACCT-TYPE___Tractor Loan___COUNT\n",
      "ACCT-TYPE___Credit Card___COUNT\n",
      "ACCT-TYPE___Commercial Vehicle Loan___COUNT\n",
      "ACCT-TYPE___Gold Loan___COUNT\n",
      "ACCT-TYPE___Consumer Loan___COUNT\n",
      "ACCT-TYPE___Property Loan___COUNT\n",
      "ACCT-TYPE___Personal Loan___COUNT\n",
      "ACCT-TYPE___Two-Wheeler Loan___COUNT\n",
      "ACCT-TYPE___Business Loan General___COUNT\n",
      "ACCT-TYPE___Business Loan Priority Sector  Agriculture___COUNT\n",
      "ACCT-TYPE___Kisan Credit Card___COUNT\n",
      "ACCT-TYPE___Corporate Credit Card___COUNT\n",
      "ACCT-TYPE___Business Non-Funded Credit Facility-Priority Sector-Agriculture___COUNT\n",
      "ACCT-TYPE___Other___COUNT\n",
      "ACCT-TYPE___Housing Loan___COUNT\n",
      "ACCT-TYPE___Loan Against Shares / Securities___COUNT\n",
      "ACCT-TYPE___Loan Against Bank Deposits___COUNT\n",
      "ACCT-TYPE___Used Car Loan___COUNT\n",
      "ACCT-TYPE___Loan to Professional___COUNT\n",
      "ACCT-TYPE___Business Loan Priority Sector  Others___COUNT\n",
      "ACCT-TYPE___Business Loan - Secured___COUNT\n",
      "ACCT-TYPE___JLG Individual___COUNT\n",
      "ACCT-TYPE___Mudra Loans   Shishu / Kishor / Tarun___COUNT\n",
      "ACCT-TYPE___Business Loan Against Bank Deposits___COUNT\n",
      "ACCT-TYPE___Secured Credit Card___COUNT\n",
      "ACCT-TYPE___Business Loan Priority Sector  Small Business___COUNT\n",
      "ACCT-TYPE___Individual___COUNT\n",
      "ACCT-TYPE___Construction Equipment Loan___COUNT\n",
      "ACCT-TYPE___Business Loan Unsecured___COUNT\n",
      "ACCT-TYPE___Non-Funded Credit Facility___COUNT\n",
      "ACCT-TYPE___Fleet Card___COUNT\n",
      "ACCT-TYPE___Microfinance Others___COUNT\n",
      "ACCT-TYPE___Microfinance Business Loan___COUNT\n",
      "ACCT-TYPE___Business Non-Funded Credit Facility General___COUNT\n",
      "ACCT-TYPE___Education Loan___COUNT\n",
      "ACCT-TYPE___JLG Group___COUNT\n",
      "ACCT-TYPE___Prime Minister Jaan Dhan Yojana - Overdraft___COUNT\n",
      "ACCT-TYPE___Business Non-Funded Credit Facility-Priority Sector- Small Business___COUNT\n",
      "ACCT-TYPE___SHG Individual___COUNT\n",
      "ACCT-TYPE___Microfinance Housing Loan___COUNT\n",
      "ACCT-TYPE___Loan on Credit Card___COUNT\n",
      "ACCT-TYPE___Microfinance Personal Loan___COUNT\n",
      "ACCT-TYPE___SHG Group___COUNT\n",
      "ACCT-TYPE___Business Non-Funded Credit Facility-Priority Sector-Others___COUNT\n",
      "ACCT-TYPE___Pradhan Mantri Awas Yojana - CLSS___COUNT\n",
      "ACCT-TYPE___Commercial Equipment Loan___COUNT\n",
      "CONTRIBUTOR-TYPE\n",
      "CONTRIBUTOR-TYPE___NAB___COUNT\n",
      "CONTRIBUTOR-TYPE___NBF___COUNT\n",
      "CONTRIBUTOR-TYPE___CCC___COUNT\n",
      "CONTRIBUTOR-TYPE___PRB___COUNT\n",
      "CONTRIBUTOR-TYPE___COP___COUNT\n",
      "CONTRIBUTOR-TYPE___RRB___COUNT\n",
      "CONTRIBUTOR-TYPE___MFI___COUNT\n",
      "CONTRIBUTOR-TYPE___HFC___COUNT\n",
      "CONTRIBUTOR-TYPE___SFB___COUNT\n",
      "CONTRIBUTOR-TYPE___FRB___COUNT\n",
      "CONTRIBUTOR-TYPE___OFI___COUNT\n",
      "CONTRIBUTOR-TYPE___ARC___COUNT\n",
      "OWNERSHIP-IND\n",
      "OWNERSHIP-IND___Individual___COUNT\n",
      "OWNERSHIP-IND___Guarantor___COUNT\n",
      "OWNERSHIP-IND___Joint___COUNT\n",
      "OWNERSHIP-IND___Primary___COUNT\n",
      "OWNERSHIP-IND___Supl Card Holder___COUNT\n",
      "ACCOUNT-STATUS\n",
      "ACCOUNT-STATUS___Delinquent___COUNT\n",
      "ACCOUNT-STATUS___Active___COUNT\n",
      "ACCOUNT-STATUS___Closed___COUNT\n",
      "ACCOUNT-STATUS___SUIT FILED (WILFUL DEFAULT)___COUNT\n",
      "ACCOUNT-STATUS___Suit Filed___COUNT\n",
      "ACCOUNT-STATUS___Restructured___COUNT\n",
      "ACCOUNT-STATUS___Settled___COUNT\n",
      "ACCOUNT-STATUS___Written Off___COUNT\n",
      "ACCOUNT-STATUS___WILFUL DEFAULT___COUNT\n",
      "ASSET_CLASS\n",
      "ASSET_CLASS___Standard___COUNT\n",
      "ASSET_CLASS___Special Mention Account___COUNT\n",
      "ASSET_CLASS___Loss___COUNT\n",
      "ASSET_CLASS___SubStandard___COUNT\n",
      "ASSET_CLASS___Doubtful___COUNT\n",
      "ASSET_CLASS___2___COUNT\n",
      "NEXT_LOAN_BUCKET\n",
      "NEXT_LOAN_BUCKET___36_48_BUCKET___COUNT\n",
      "NEXT_LOAN_BUCKET___>48_BUCKET___COUNT\n",
      "NEXT_LOAN_BUCKET___LESS_THAN_12_BUCKET___COUNT\n",
      "NEXT_LOAN_BUCKET___18_24_BUCKET___COUNT\n",
      "NEXT_LOAN_BUCKET___24_30_BUCKET___COUNT\n",
      "NEXT_LOAN_BUCKET___12_18_BUCKET___COUNT\n",
      "NEXT_LOAN_BUCKET___30_36_BUCKET___COUNT\n",
      "SELF-INDICATOR\n",
      "SELF-INDICATOR___False___COUNT\n",
      "SELF-INDICATOR___True___COUNT\n",
      "CREDIT-LIMIT/SANC AMT MEAN_PER_CUSTOMER\n",
      "DISBURSED-AMT/HIGH CREDIT MEAN_PER_CUSTOMER\n",
      "INSTALLMENT-AMT MEAN_PER_CUSTOMER\n",
      "CURRENT-BAL MEAN_PER_CUSTOMER\n",
      "OVERDUE-AMT MEAN_PER_CUSTOMER\n",
      "WRITE-OFF-AMT MEAN_PER_CUSTOMER\n",
      "AMT_PAID_HIST_TOTAL MEAN_PER_CUSTOMER\n",
      "AMT_OVERDUE_HIST_TOTAL MEAN_PER_CUSTOMER\n",
      "CUR_BAL_HIST_TOTAL MEAN_PER_CUSTOMER\n",
      "OLD_NEW_LOAN_RATIO MEAN_PER_CUSTOMER\n",
      "DISBURSED-AMT/HIGH CREDIT___WHOLE_NUMBER MEAN_PER_CUSTOMER\n",
      "CURRENT-BAL___WHOLE_NUMBER MEAN_PER_CUSTOMER\n",
      "OVERDUE-AMT___WHOLE_NUMBER MEAN_PER_CUSTOMER\n",
      "WRITE-OFF-AMT___WHOLE_NUMBER MEAN_PER_CUSTOMER\n",
      "CREDIT-LIMIT/SANC AMT\n",
      "CREDIT-LIMIT/SANC AMT___36_48_BUCKET___MEAN\n",
      "CREDIT-LIMIT/SANC AMT___>48_BUCKET___MEAN\n",
      "CREDIT-LIMIT/SANC AMT___LESS_THAN_12_BUCKET___MEAN\n",
      "CREDIT-LIMIT/SANC AMT___18_24_BUCKET___MEAN\n",
      "CREDIT-LIMIT/SANC AMT___24_30_BUCKET___MEAN\n",
      "CREDIT-LIMIT/SANC AMT___12_18_BUCKET___MEAN\n",
      "CREDIT-LIMIT/SANC AMT___30_36_BUCKET___MEAN\n",
      "DISBURSED-AMT/HIGH CREDIT\n",
      "DISBURSED-AMT/HIGH CREDIT___36_48_BUCKET___MEAN\n",
      "DISBURSED-AMT/HIGH CREDIT___>48_BUCKET___MEAN\n",
      "DISBURSED-AMT/HIGH CREDIT___LESS_THAN_12_BUCKET___MEAN\n",
      "DISBURSED-AMT/HIGH CREDIT___18_24_BUCKET___MEAN\n",
      "DISBURSED-AMT/HIGH CREDIT___24_30_BUCKET___MEAN\n",
      "DISBURSED-AMT/HIGH CREDIT___12_18_BUCKET___MEAN\n",
      "DISBURSED-AMT/HIGH CREDIT___30_36_BUCKET___MEAN\n",
      "INSTALLMENT-AMT\n",
      "INSTALLMENT-AMT___36_48_BUCKET___MEAN\n",
      "INSTALLMENT-AMT___>48_BUCKET___MEAN\n",
      "INSTALLMENT-AMT___LESS_THAN_12_BUCKET___MEAN\n",
      "INSTALLMENT-AMT___18_24_BUCKET___MEAN\n",
      "INSTALLMENT-AMT___24_30_BUCKET___MEAN\n",
      "INSTALLMENT-AMT___12_18_BUCKET___MEAN\n",
      "INSTALLMENT-AMT___30_36_BUCKET___MEAN\n",
      "CURRENT-BAL\n",
      "CURRENT-BAL___36_48_BUCKET___MEAN\n",
      "CURRENT-BAL___>48_BUCKET___MEAN\n",
      "CURRENT-BAL___LESS_THAN_12_BUCKET___MEAN\n",
      "CURRENT-BAL___18_24_BUCKET___MEAN\n",
      "CURRENT-BAL___24_30_BUCKET___MEAN\n",
      "CURRENT-BAL___12_18_BUCKET___MEAN\n",
      "CURRENT-BAL___30_36_BUCKET___MEAN\n",
      "OVERDUE-AMT\n",
      "OVERDUE-AMT___36_48_BUCKET___MEAN\n",
      "OVERDUE-AMT___>48_BUCKET___MEAN\n",
      "OVERDUE-AMT___LESS_THAN_12_BUCKET___MEAN\n",
      "OVERDUE-AMT___18_24_BUCKET___MEAN\n",
      "OVERDUE-AMT___24_30_BUCKET___MEAN\n",
      "OVERDUE-AMT___12_18_BUCKET___MEAN\n",
      "OVERDUE-AMT___30_36_BUCKET___MEAN\n",
      "WRITE-OFF-AMT\n",
      "WRITE-OFF-AMT___36_48_BUCKET___MEAN\n",
      "WRITE-OFF-AMT___>48_BUCKET___MEAN\n",
      "WRITE-OFF-AMT___LESS_THAN_12_BUCKET___MEAN\n",
      "WRITE-OFF-AMT___18_24_BUCKET___MEAN\n",
      "WRITE-OFF-AMT___24_30_BUCKET___MEAN\n",
      "WRITE-OFF-AMT___12_18_BUCKET___MEAN\n",
      "WRITE-OFF-AMT___30_36_BUCKET___MEAN\n",
      "AMT_PAID_HIST_TOTAL\n",
      "AMT_PAID_HIST_TOTAL___36_48_BUCKET___MEAN\n",
      "AMT_PAID_HIST_TOTAL___>48_BUCKET___MEAN\n",
      "AMT_PAID_HIST_TOTAL___LESS_THAN_12_BUCKET___MEAN\n",
      "AMT_PAID_HIST_TOTAL___18_24_BUCKET___MEAN\n",
      "AMT_PAID_HIST_TOTAL___24_30_BUCKET___MEAN\n",
      "AMT_PAID_HIST_TOTAL___12_18_BUCKET___MEAN\n",
      "AMT_PAID_HIST_TOTAL___30_36_BUCKET___MEAN\n",
      "AMT_OVERDUE_HIST_TOTAL\n",
      "AMT_OVERDUE_HIST_TOTAL___36_48_BUCKET___MEAN\n",
      "AMT_OVERDUE_HIST_TOTAL___>48_BUCKET___MEAN\n",
      "AMT_OVERDUE_HIST_TOTAL___LESS_THAN_12_BUCKET___MEAN\n",
      "AMT_OVERDUE_HIST_TOTAL___18_24_BUCKET___MEAN\n",
      "AMT_OVERDUE_HIST_TOTAL___24_30_BUCKET___MEAN\n",
      "AMT_OVERDUE_HIST_TOTAL___12_18_BUCKET___MEAN\n",
      "AMT_OVERDUE_HIST_TOTAL___30_36_BUCKET___MEAN\n",
      "CUR_BAL_HIST_TOTAL\n",
      "CUR_BAL_HIST_TOTAL___36_48_BUCKET___MEAN\n",
      "CUR_BAL_HIST_TOTAL___>48_BUCKET___MEAN\n",
      "CUR_BAL_HIST_TOTAL___LESS_THAN_12_BUCKET___MEAN\n",
      "CUR_BAL_HIST_TOTAL___18_24_BUCKET___MEAN\n",
      "CUR_BAL_HIST_TOTAL___24_30_BUCKET___MEAN\n",
      "CUR_BAL_HIST_TOTAL___12_18_BUCKET___MEAN\n",
      "CUR_BAL_HIST_TOTAL___30_36_BUCKET___MEAN\n",
      "OLD_NEW_LOAN_RATIO\n",
      "OLD_NEW_LOAN_RATIO___36_48_BUCKET___MEAN\n",
      "OLD_NEW_LOAN_RATIO___>48_BUCKET___MEAN\n",
      "OLD_NEW_LOAN_RATIO___LESS_THAN_12_BUCKET___MEAN\n",
      "OLD_NEW_LOAN_RATIO___18_24_BUCKET___MEAN\n",
      "OLD_NEW_LOAN_RATIO___24_30_BUCKET___MEAN\n",
      "OLD_NEW_LOAN_RATIO___12_18_BUCKET___MEAN\n",
      "OLD_NEW_LOAN_RATIO___30_36_BUCKET___MEAN\n",
      "DISBURSED-AMT/HIGH CREDIT___WHOLE_NUMBER\n",
      "DISBURSED-AMT/HIGH CREDIT___WHOLE_NUMBER___36_48_BUCKET___MEAN\n",
      "DISBURSED-AMT/HIGH CREDIT___WHOLE_NUMBER___>48_BUCKET___MEAN\n",
      "DISBURSED-AMT/HIGH CREDIT___WHOLE_NUMBER___LESS_THAN_12_BUCKET___MEAN\n",
      "DISBURSED-AMT/HIGH CREDIT___WHOLE_NUMBER___18_24_BUCKET___MEAN\n",
      "DISBURSED-AMT/HIGH CREDIT___WHOLE_NUMBER___24_30_BUCKET___MEAN\n",
      "DISBURSED-AMT/HIGH CREDIT___WHOLE_NUMBER___12_18_BUCKET___MEAN\n",
      "DISBURSED-AMT/HIGH CREDIT___WHOLE_NUMBER___30_36_BUCKET___MEAN\n",
      "CURRENT-BAL___WHOLE_NUMBER\n",
      "CURRENT-BAL___WHOLE_NUMBER___36_48_BUCKET___MEAN\n",
      "CURRENT-BAL___WHOLE_NUMBER___>48_BUCKET___MEAN\n",
      "CURRENT-BAL___WHOLE_NUMBER___LESS_THAN_12_BUCKET___MEAN\n",
      "CURRENT-BAL___WHOLE_NUMBER___18_24_BUCKET___MEAN\n",
      "CURRENT-BAL___WHOLE_NUMBER___24_30_BUCKET___MEAN\n",
      "CURRENT-BAL___WHOLE_NUMBER___12_18_BUCKET___MEAN\n",
      "CURRENT-BAL___WHOLE_NUMBER___30_36_BUCKET___MEAN\n",
      "OVERDUE-AMT___WHOLE_NUMBER\n",
      "OVERDUE-AMT___WHOLE_NUMBER___36_48_BUCKET___MEAN\n",
      "OVERDUE-AMT___WHOLE_NUMBER___>48_BUCKET___MEAN\n",
      "OVERDUE-AMT___WHOLE_NUMBER___LESS_THAN_12_BUCKET___MEAN\n",
      "OVERDUE-AMT___WHOLE_NUMBER___18_24_BUCKET___MEAN\n",
      "OVERDUE-AMT___WHOLE_NUMBER___24_30_BUCKET___MEAN\n",
      "OVERDUE-AMT___WHOLE_NUMBER___12_18_BUCKET___MEAN\n",
      "OVERDUE-AMT___WHOLE_NUMBER___30_36_BUCKET___MEAN\n",
      "WRITE-OFF-AMT___WHOLE_NUMBER\n",
      "WRITE-OFF-AMT___WHOLE_NUMBER___36_48_BUCKET___MEAN\n",
      "WRITE-OFF-AMT___WHOLE_NUMBER___>48_BUCKET___MEAN\n",
      "WRITE-OFF-AMT___WHOLE_NUMBER___LESS_THAN_12_BUCKET___MEAN\n",
      "WRITE-OFF-AMT___WHOLE_NUMBER___18_24_BUCKET___MEAN\n",
      "WRITE-OFF-AMT___WHOLE_NUMBER___24_30_BUCKET___MEAN\n",
      "WRITE-OFF-AMT___WHOLE_NUMBER___12_18_BUCKET___MEAN\n",
      "WRITE-OFF-AMT___WHOLE_NUMBER___30_36_BUCKET___MEAN\n",
      "#of IDs have more than 1 records: 60803 out of 125082 these IDs\n",
      "Returning DF.SHAPE: (259237, 288)\n",
      "(259237, 288)\n"
     ]
    }
   ],
   "source": [
    "train_merged_data = merge_demographic_bureau_data(train_data, train_bureau[~bureau_dup_mask])\n",
    "print(train_merged_data.shape)"
   ]
  },
  {
   "cell_type": "code",
   "execution_count": 40,
   "metadata": {
    "execution": {
     "iopub.execute_input": "2021-02-07T15:37:22.404683Z",
     "iopub.status.busy": "2021-02-07T15:37:22.403964Z",
     "iopub.status.idle": "2021-02-07T15:37:22.419412Z",
     "shell.execute_reply": "2021-02-07T15:37:22.418749Z"
    },
    "papermill": {
     "duration": 0.184558,
     "end_time": "2021-02-07T15:37:22.419550",
     "exception": false,
     "start_time": "2021-02-07T15:37:22.234992",
     "status": "completed"
    },
    "tags": []
   },
   "outputs": [
    {
     "data": {
      "text/plain": [
       "51786     151\n",
       "1167      127\n",
       "28072     109\n",
       "97794      87\n",
       "28773      79\n",
       "         ... \n",
       "13641       2\n",
       "25111       2\n",
       "132367      2\n",
       "140555      2\n",
       "2047        2\n",
       "Name: ID, Length: 60803, dtype: int64"
      ]
     },
     "execution_count": 40,
     "metadata": {},
     "output_type": "execute_result"
    }
   ],
   "source": [
    "train_merged_data.ID.value_counts()"
   ]
  },
  {
   "cell_type": "code",
   "execution_count": 41,
   "metadata": {
    "execution": {
     "iopub.execute_input": "2021-02-07T15:37:22.749083Z",
     "iopub.status.busy": "2021-02-07T15:37:22.748454Z",
     "iopub.status.idle": "2021-02-07T15:37:22.919352Z",
     "shell.execute_reply": "2021-02-07T15:37:22.918687Z"
    },
    "papermill": {
     "duration": 0.338527,
     "end_time": "2021-02-07T15:37:22.919493",
     "exception": false,
     "start_time": "2021-02-07T15:37:22.580966",
     "status": "completed"
    },
    "tags": []
   },
   "outputs": [
    {
     "name": "stdout",
     "output_type": "stream",
     "text": [
      "#of duplicate records: 198434\n"
     ]
    }
   ],
   "source": [
    "# dup_mask = train_merged_data[['ID','DisbursalAmount','NEXT_LOAN_IN_MONTHS']].duplicated()\n",
    "dup_mask = train_merged_data[['ID']].duplicated()\n",
    "\n",
    "print(\"#of duplicate records: {}\".format(sum(dup_mask)))\n",
    "train_merged_data = train_merged_data[~dup_mask]"
   ]
  },
  {
   "cell_type": "code",
   "execution_count": 42,
   "metadata": {
    "execution": {
     "iopub.execute_input": "2021-02-07T15:37:23.261828Z",
     "iopub.status.busy": "2021-02-07T15:37:23.259147Z",
     "iopub.status.idle": "2021-02-07T15:37:23.269161Z",
     "shell.execute_reply": "2021-02-07T15:37:23.268449Z"
    },
    "papermill": {
     "duration": 0.185634,
     "end_time": "2021-02-07T15:37:23.269382",
     "exception": false,
     "start_time": "2021-02-07T15:37:23.083748",
     "status": "completed"
    },
    "tags": []
   },
   "outputs": [
    {
     "name": "stdout",
     "output_type": "stream",
     "text": [
      "Tractor Loan                                     0.924477\n",
      "Business Loan Priority Sector  Agriculture       0.036988\n",
      "Other                                            0.008421\n",
      "Gold Loan                                        0.007631\n",
      "Two-Wheeler Loan                                 0.007204\n",
      "Business Loan General                            0.005148\n",
      "JLG Individual                                   0.001826\n",
      "Auto Loan (Personal)                             0.001760\n",
      "Consumer Loan                                    0.001612\n",
      "Personal Loan                                    0.001003\n",
      "Kisan Credit Card                                0.000954\n",
      "Commercial Vehicle Loan                          0.000888\n",
      "Credit Card                                      0.000855\n",
      "Overdraft                                        0.000280\n",
      "Loan Against Shares / Securities                 0.000263\n",
      "Housing Loan                                     0.000197\n",
      "Loan Against Bank Deposits                       0.000115\n",
      "Used Car Loan                                    0.000099\n",
      "Business Loan - Secured                          0.000066\n",
      "Business Loan Priority Sector  Others            0.000049\n",
      "Business Loan Unsecured                          0.000033\n",
      "Property Loan                                    0.000033\n",
      "Education Loan                                   0.000016\n",
      "Business Loan Priority Sector  Small Business    0.000016\n",
      "Non-Funded Credit Facility                       0.000016\n",
      "Fleet Card                                       0.000016\n",
      "Secured Credit Card                              0.000016\n",
      "Mudra Loans   Shishu / Kishor / Tarun            0.000016\n",
      "Name: ACCT-TYPE, dtype: float64\n"
     ]
    }
   ],
   "source": [
    "print(train_merged_data['ACCT-TYPE'].value_counts()/train_merged_data.shape[0])"
   ]
  },
  {
   "cell_type": "code",
   "execution_count": 43,
   "metadata": {
    "execution": {
     "iopub.execute_input": "2021-02-07T15:37:23.603935Z",
     "iopub.status.busy": "2021-02-07T15:37:23.603232Z",
     "iopub.status.idle": "2021-02-07T15:37:23.728067Z",
     "shell.execute_reply": "2021-02-07T15:37:23.727414Z"
    },
    "papermill": {
     "duration": 0.294748,
     "end_time": "2021-02-07T15:37:23.728225",
     "exception": false,
     "start_time": "2021-02-07T15:37:23.433477",
     "status": "completed"
    },
    "tags": []
   },
   "outputs": [
    {
     "data": {
      "text/plain": [
       "2049      1\n",
       "85379     1\n",
       "3435      1\n",
       "13676     1\n",
       "140654    1\n",
       "Name: ID, dtype: int64"
      ]
     },
     "execution_count": 43,
     "metadata": {},
     "output_type": "execute_result"
    }
   ],
   "source": [
    "train_merged_data[~dup_mask].ID.value_counts()[:5]"
   ]
  },
  {
   "cell_type": "code",
   "execution_count": 44,
   "metadata": {
    "execution": {
     "iopub.execute_input": "2021-02-07T15:37:24.069319Z",
     "iopub.status.busy": "2021-02-07T15:37:24.068385Z",
     "iopub.status.idle": "2021-02-07T15:37:24.073054Z",
     "shell.execute_reply": "2021-02-07T15:37:24.073697Z"
    },
    "papermill": {
     "duration": 0.182655,
     "end_time": "2021-02-07T15:37:24.073868",
     "exception": false,
     "start_time": "2021-02-07T15:37:23.891213",
     "status": "completed"
    },
    "tags": []
   },
   "outputs": [
    {
     "data": {
      "text/html": [
       "<div>\n",
       "<style scoped>\n",
       "    .dataframe tbody tr th:only-of-type {\n",
       "        vertical-align: middle;\n",
       "    }\n",
       "\n",
       "    .dataframe tbody tr th {\n",
       "        vertical-align: top;\n",
       "    }\n",
       "\n",
       "    .dataframe thead th {\n",
       "        text-align: right;\n",
       "    }\n",
       "</style>\n",
       "<table border=\"1\" class=\"dataframe\">\n",
       "  <thead>\n",
       "    <tr style=\"text-align: right;\">\n",
       "      <th></th>\n",
       "      <th>ID</th>\n",
       "      <th>NEXT_LOAN_IN_MONTHS</th>\n",
       "    </tr>\n",
       "  </thead>\n",
       "  <tbody>\n",
       "    <tr>\n",
       "      <th>309713</th>\n",
       "      <td>71060</td>\n",
       "      <td>0</td>\n",
       "    </tr>\n",
       "  </tbody>\n",
       "</table>\n",
       "</div>"
      ],
      "text/plain": [
       "           ID  NEXT_LOAN_IN_MONTHS\n",
       "309713  71060                    0"
      ]
     },
     "execution_count": 44,
     "metadata": {},
     "output_type": "execute_result"
    }
   ],
   "source": [
    "train_merged_data[train_merged_data.ID == 71060][['ID','NEXT_LOAN_IN_MONTHS']].head()"
   ]
  },
  {
   "cell_type": "code",
   "execution_count": 45,
   "metadata": {
    "execution": {
     "iopub.execute_input": "2021-02-07T15:37:24.403372Z",
     "iopub.status.busy": "2021-02-07T15:37:24.402469Z",
     "iopub.status.idle": "2021-02-07T15:37:24.581588Z",
     "shell.execute_reply": "2021-02-07T15:37:24.582236Z"
    },
    "papermill": {
     "duration": 0.345589,
     "end_time": "2021-02-07T15:37:24.582479",
     "exception": false,
     "start_time": "2021-02-07T15:37:24.236890",
     "status": "completed"
    },
    "tags": []
   },
   "outputs": [],
   "source": [
    "bureau_dup_mask = test_bureau.duplicated()"
   ]
  },
  {
   "cell_type": "code",
   "execution_count": 46,
   "metadata": {
    "execution": {
     "iopub.execute_input": "2021-02-07T15:37:25.092727Z",
     "iopub.status.busy": "2021-02-07T15:37:25.092021Z",
     "iopub.status.idle": "2021-02-07T15:41:03.983287Z",
     "shell.execute_reply": "2021-02-07T15:41:03.981739Z"
    },
    "papermill": {
     "duration": 219.150173,
     "end_time": "2021-02-07T15:41:03.983599",
     "exception": false,
     "start_time": "2021-02-07T15:37:24.833426",
     "status": "completed"
    },
    "tags": []
   },
   "outputs": [
    {
     "name": "stdout",
     "output_type": "stream",
     "text": [
      "(14745, 46) (63331, 25)\n",
      "MATCH-TYPE\n",
      "MATCH-TYPE___PRIMARY___COUNT\n",
      "MATCH-TYPE___SECONDARY___COUNT\n",
      "ACCT-TYPE\n",
      "ACCT-TYPE___Credit Card___COUNT\n",
      "ACCT-TYPE___Property Loan___COUNT\n",
      "ACCT-TYPE___Tractor Loan___COUNT\n",
      "ACCT-TYPE___Gold Loan___COUNT\n",
      "ACCT-TYPE___Consumer Loan___COUNT\n",
      "ACCT-TYPE___Personal Loan___COUNT\n",
      "ACCT-TYPE___Auto Loan (Personal)___COUNT\n",
      "ACCT-TYPE___JLG Individual___COUNT\n",
      "ACCT-TYPE___Two-Wheeler Loan___COUNT\n",
      "ACCT-TYPE___Business Loan Priority Sector  Small Business___COUNT\n",
      "ACCT-TYPE___Mudra Loans   Shishu / Kishor / Tarun___COUNT\n",
      "ACCT-TYPE___Used Car Loan___COUNT\n",
      "ACCT-TYPE___Business Loan General___COUNT\n",
      "ACCT-TYPE___Other___COUNT\n",
      "ACCT-TYPE___Business Loan Priority Sector  Agriculture___COUNT\n",
      "ACCT-TYPE___Overdraft___COUNT\n",
      "ACCT-TYPE___Commercial Vehicle Loan___COUNT\n",
      "ACCT-TYPE___Kisan Credit Card___COUNT\n",
      "ACCT-TYPE___Housing Loan___COUNT\n",
      "ACCT-TYPE___Microfinance Business Loan___COUNT\n",
      "ACCT-TYPE___Loan Against Bank Deposits___COUNT\n",
      "ACCT-TYPE___Loan Against Shares / Securities___COUNT\n",
      "ACCT-TYPE___Business Loan Priority Sector  Others___COUNT\n",
      "ACCT-TYPE___Prime Minister Jaan Dhan Yojana - Overdraft___COUNT\n",
      "ACCT-TYPE___Business Non-Funded Credit Facility-Priority Sector-Agriculture___COUNT\n",
      "ACCT-TYPE___Microfinance Others___COUNT\n",
      "ACCT-TYPE___Business Loan Unsecured___COUNT\n",
      "ACCT-TYPE___Business Loan - Secured___COUNT\n",
      "ACCT-TYPE___Construction Equipment Loan___COUNT\n",
      "ACCT-TYPE___Business Loan Against Bank Deposits___COUNT\n",
      "ACCT-TYPE___Loan to Professional___COUNT\n",
      "ACCT-TYPE___Staff Loan___COUNT\n",
      "ACCT-TYPE___Non-Funded Credit Facility___COUNT\n",
      "ACCT-TYPE___Education Loan___COUNT\n",
      "ACCT-TYPE___Individual___COUNT\n",
      "ACCT-TYPE___SHG Individual___COUNT\n",
      "ACCT-TYPE___Microfinance Personal Loan___COUNT\n",
      "ACCT-TYPE___Business Non-Funded Credit Facility-Priority Sector- Small Business___COUNT\n",
      "ACCT-TYPE___Microfinance Housing Loan___COUNT\n",
      "ACCT-TYPE___Secured Credit Card___COUNT\n",
      "ACCT-TYPE___Business Non-Funded Credit Facility General___COUNT\n",
      "CONTRIBUTOR-TYPE\n",
      "CONTRIBUTOR-TYPE___CCC___COUNT\n",
      "CONTRIBUTOR-TYPE___HFC___COUNT\n",
      "CONTRIBUTOR-TYPE___NBF___COUNT\n",
      "CONTRIBUTOR-TYPE___PRB___COUNT\n",
      "CONTRIBUTOR-TYPE___MFI___COUNT\n",
      "CONTRIBUTOR-TYPE___NAB___COUNT\n",
      "CONTRIBUTOR-TYPE___COP___COUNT\n",
      "CONTRIBUTOR-TYPE___RRB___COUNT\n",
      "CONTRIBUTOR-TYPE___FRB___COUNT\n",
      "CONTRIBUTOR-TYPE___SFB___COUNT\n",
      "CONTRIBUTOR-TYPE___OFI___COUNT\n",
      "OWNERSHIP-IND\n",
      "OWNERSHIP-IND___Individual___COUNT\n",
      "OWNERSHIP-IND___Joint___COUNT\n",
      "OWNERSHIP-IND___Guarantor___COUNT\n",
      "OWNERSHIP-IND___Primary___COUNT\n",
      "OWNERSHIP-IND___Supl Card Holder___COUNT\n",
      "ACCOUNT-STATUS\n",
      "ACCOUNT-STATUS___Active___COUNT\n",
      "ACCOUNT-STATUS___Closed___COUNT\n",
      "ACCOUNT-STATUS___Delinquent___COUNT\n",
      "ACCOUNT-STATUS___Suit Filed___COUNT\n",
      "ACCOUNT-STATUS___SUIT FILED (WILFUL DEFAULT)___COUNT\n",
      "ACCOUNT-STATUS___Settled___COUNT\n",
      "ACCOUNT-STATUS___Written Off___COUNT\n",
      "ACCOUNT-STATUS___Restructured___COUNT\n",
      "ASSET_CLASS\n",
      "ASSET_CLASS___Standard___COUNT\n",
      "ASSET_CLASS___Special Mention Account___COUNT\n",
      "ASSET_CLASS___Doubtful___COUNT\n",
      "ASSET_CLASS___SubStandard___COUNT\n",
      "ASSET_CLASS___Loss___COUNT\n",
      "NEXT_LOAN_BUCKET\n",
      "NEXT_LOAN_BUCKET___>48_BUCKET___COUNT\n",
      "NEXT_LOAN_BUCKET___LESS_THAN_12_BUCKET___COUNT\n",
      "NEXT_LOAN_BUCKET___30_36_BUCKET___COUNT\n",
      "NEXT_LOAN_BUCKET___36_48_BUCKET___COUNT\n",
      "NEXT_LOAN_BUCKET___12_18_BUCKET___COUNT\n",
      "NEXT_LOAN_BUCKET___24_30_BUCKET___COUNT\n",
      "NEXT_LOAN_BUCKET___18_24_BUCKET___COUNT\n",
      "SELF-INDICATOR\n",
      "SELF-INDICATOR___False___COUNT\n",
      "SELF-INDICATOR___True___COUNT\n",
      "CREDIT-LIMIT/SANC AMT MEAN_PER_CUSTOMER\n",
      "DISBURSED-AMT/HIGH CREDIT MEAN_PER_CUSTOMER\n",
      "INSTALLMENT-AMT MEAN_PER_CUSTOMER\n",
      "CURRENT-BAL MEAN_PER_CUSTOMER\n",
      "OVERDUE-AMT MEAN_PER_CUSTOMER\n",
      "WRITE-OFF-AMT MEAN_PER_CUSTOMER\n",
      "AMT_PAID_HIST_TOTAL MEAN_PER_CUSTOMER\n",
      "AMT_OVERDUE_HIST_TOTAL MEAN_PER_CUSTOMER\n",
      "CUR_BAL_HIST_TOTAL MEAN_PER_CUSTOMER\n",
      "OLD_NEW_LOAN_RATIO MEAN_PER_CUSTOMER\n",
      "DISBURSED-AMT/HIGH CREDIT___WHOLE_NUMBER MEAN_PER_CUSTOMER\n",
      "CURRENT-BAL___WHOLE_NUMBER MEAN_PER_CUSTOMER\n",
      "OVERDUE-AMT___WHOLE_NUMBER MEAN_PER_CUSTOMER\n",
      "WRITE-OFF-AMT___WHOLE_NUMBER MEAN_PER_CUSTOMER\n",
      "CREDIT-LIMIT/SANC AMT\n",
      "CREDIT-LIMIT/SANC AMT___>48_BUCKET___MEAN\n",
      "CREDIT-LIMIT/SANC AMT___LESS_THAN_12_BUCKET___MEAN\n",
      "CREDIT-LIMIT/SANC AMT___30_36_BUCKET___MEAN\n",
      "CREDIT-LIMIT/SANC AMT___36_48_BUCKET___MEAN\n",
      "CREDIT-LIMIT/SANC AMT___12_18_BUCKET___MEAN\n",
      "CREDIT-LIMIT/SANC AMT___24_30_BUCKET___MEAN\n",
      "CREDIT-LIMIT/SANC AMT___18_24_BUCKET___MEAN\n",
      "DISBURSED-AMT/HIGH CREDIT\n",
      "DISBURSED-AMT/HIGH CREDIT___>48_BUCKET___MEAN\n",
      "DISBURSED-AMT/HIGH CREDIT___LESS_THAN_12_BUCKET___MEAN\n",
      "DISBURSED-AMT/HIGH CREDIT___30_36_BUCKET___MEAN\n",
      "DISBURSED-AMT/HIGH CREDIT___36_48_BUCKET___MEAN\n",
      "DISBURSED-AMT/HIGH CREDIT___12_18_BUCKET___MEAN\n",
      "DISBURSED-AMT/HIGH CREDIT___24_30_BUCKET___MEAN\n",
      "DISBURSED-AMT/HIGH CREDIT___18_24_BUCKET___MEAN\n",
      "INSTALLMENT-AMT\n",
      "INSTALLMENT-AMT___>48_BUCKET___MEAN\n",
      "INSTALLMENT-AMT___LESS_THAN_12_BUCKET___MEAN\n",
      "INSTALLMENT-AMT___30_36_BUCKET___MEAN\n",
      "INSTALLMENT-AMT___36_48_BUCKET___MEAN\n",
      "INSTALLMENT-AMT___12_18_BUCKET___MEAN\n",
      "INSTALLMENT-AMT___24_30_BUCKET___MEAN\n",
      "INSTALLMENT-AMT___18_24_BUCKET___MEAN\n",
      "CURRENT-BAL\n",
      "CURRENT-BAL___>48_BUCKET___MEAN\n",
      "CURRENT-BAL___LESS_THAN_12_BUCKET___MEAN\n",
      "CURRENT-BAL___30_36_BUCKET___MEAN\n",
      "CURRENT-BAL___36_48_BUCKET___MEAN\n",
      "CURRENT-BAL___12_18_BUCKET___MEAN\n",
      "CURRENT-BAL___24_30_BUCKET___MEAN\n",
      "CURRENT-BAL___18_24_BUCKET___MEAN\n",
      "OVERDUE-AMT\n",
      "OVERDUE-AMT___>48_BUCKET___MEAN\n",
      "OVERDUE-AMT___LESS_THAN_12_BUCKET___MEAN\n",
      "OVERDUE-AMT___30_36_BUCKET___MEAN\n",
      "OVERDUE-AMT___36_48_BUCKET___MEAN\n",
      "OVERDUE-AMT___12_18_BUCKET___MEAN\n",
      "OVERDUE-AMT___24_30_BUCKET___MEAN\n",
      "OVERDUE-AMT___18_24_BUCKET___MEAN\n",
      "WRITE-OFF-AMT\n",
      "WRITE-OFF-AMT___>48_BUCKET___MEAN\n",
      "WRITE-OFF-AMT___LESS_THAN_12_BUCKET___MEAN\n",
      "WRITE-OFF-AMT___30_36_BUCKET___MEAN\n",
      "WRITE-OFF-AMT___36_48_BUCKET___MEAN\n",
      "WRITE-OFF-AMT___12_18_BUCKET___MEAN\n",
      "WRITE-OFF-AMT___24_30_BUCKET___MEAN\n",
      "WRITE-OFF-AMT___18_24_BUCKET___MEAN\n",
      "AMT_PAID_HIST_TOTAL\n",
      "AMT_PAID_HIST_TOTAL___>48_BUCKET___MEAN\n",
      "AMT_PAID_HIST_TOTAL___LESS_THAN_12_BUCKET___MEAN\n",
      "AMT_PAID_HIST_TOTAL___30_36_BUCKET___MEAN\n",
      "AMT_PAID_HIST_TOTAL___36_48_BUCKET___MEAN\n",
      "AMT_PAID_HIST_TOTAL___12_18_BUCKET___MEAN\n",
      "AMT_PAID_HIST_TOTAL___24_30_BUCKET___MEAN\n",
      "AMT_PAID_HIST_TOTAL___18_24_BUCKET___MEAN\n",
      "AMT_OVERDUE_HIST_TOTAL\n",
      "AMT_OVERDUE_HIST_TOTAL___>48_BUCKET___MEAN\n",
      "AMT_OVERDUE_HIST_TOTAL___LESS_THAN_12_BUCKET___MEAN\n",
      "AMT_OVERDUE_HIST_TOTAL___30_36_BUCKET___MEAN\n",
      "AMT_OVERDUE_HIST_TOTAL___36_48_BUCKET___MEAN\n",
      "AMT_OVERDUE_HIST_TOTAL___12_18_BUCKET___MEAN\n",
      "AMT_OVERDUE_HIST_TOTAL___24_30_BUCKET___MEAN\n",
      "AMT_OVERDUE_HIST_TOTAL___18_24_BUCKET___MEAN\n",
      "CUR_BAL_HIST_TOTAL\n",
      "CUR_BAL_HIST_TOTAL___>48_BUCKET___MEAN\n",
      "CUR_BAL_HIST_TOTAL___LESS_THAN_12_BUCKET___MEAN\n",
      "CUR_BAL_HIST_TOTAL___30_36_BUCKET___MEAN\n",
      "CUR_BAL_HIST_TOTAL___36_48_BUCKET___MEAN\n",
      "CUR_BAL_HIST_TOTAL___12_18_BUCKET___MEAN\n",
      "CUR_BAL_HIST_TOTAL___24_30_BUCKET___MEAN\n",
      "CUR_BAL_HIST_TOTAL___18_24_BUCKET___MEAN\n",
      "OLD_NEW_LOAN_RATIO\n",
      "OLD_NEW_LOAN_RATIO___>48_BUCKET___MEAN\n",
      "OLD_NEW_LOAN_RATIO___LESS_THAN_12_BUCKET___MEAN\n",
      "OLD_NEW_LOAN_RATIO___30_36_BUCKET___MEAN\n",
      "OLD_NEW_LOAN_RATIO___36_48_BUCKET___MEAN\n",
      "OLD_NEW_LOAN_RATIO___12_18_BUCKET___MEAN\n",
      "OLD_NEW_LOAN_RATIO___24_30_BUCKET___MEAN\n",
      "OLD_NEW_LOAN_RATIO___18_24_BUCKET___MEAN\n",
      "DISBURSED-AMT/HIGH CREDIT___WHOLE_NUMBER\n",
      "DISBURSED-AMT/HIGH CREDIT___WHOLE_NUMBER___>48_BUCKET___MEAN\n",
      "DISBURSED-AMT/HIGH CREDIT___WHOLE_NUMBER___LESS_THAN_12_BUCKET___MEAN\n",
      "DISBURSED-AMT/HIGH CREDIT___WHOLE_NUMBER___30_36_BUCKET___MEAN\n",
      "DISBURSED-AMT/HIGH CREDIT___WHOLE_NUMBER___36_48_BUCKET___MEAN\n",
      "DISBURSED-AMT/HIGH CREDIT___WHOLE_NUMBER___12_18_BUCKET___MEAN\n",
      "DISBURSED-AMT/HIGH CREDIT___WHOLE_NUMBER___24_30_BUCKET___MEAN\n",
      "DISBURSED-AMT/HIGH CREDIT___WHOLE_NUMBER___18_24_BUCKET___MEAN\n",
      "CURRENT-BAL___WHOLE_NUMBER\n",
      "CURRENT-BAL___WHOLE_NUMBER___>48_BUCKET___MEAN\n",
      "CURRENT-BAL___WHOLE_NUMBER___LESS_THAN_12_BUCKET___MEAN\n",
      "CURRENT-BAL___WHOLE_NUMBER___30_36_BUCKET___MEAN\n",
      "CURRENT-BAL___WHOLE_NUMBER___36_48_BUCKET___MEAN\n",
      "CURRENT-BAL___WHOLE_NUMBER___12_18_BUCKET___MEAN\n",
      "CURRENT-BAL___WHOLE_NUMBER___24_30_BUCKET___MEAN\n",
      "CURRENT-BAL___WHOLE_NUMBER___18_24_BUCKET___MEAN\n",
      "OVERDUE-AMT___WHOLE_NUMBER\n",
      "OVERDUE-AMT___WHOLE_NUMBER___>48_BUCKET___MEAN\n",
      "OVERDUE-AMT___WHOLE_NUMBER___LESS_THAN_12_BUCKET___MEAN\n",
      "OVERDUE-AMT___WHOLE_NUMBER___30_36_BUCKET___MEAN\n",
      "OVERDUE-AMT___WHOLE_NUMBER___36_48_BUCKET___MEAN\n",
      "OVERDUE-AMT___WHOLE_NUMBER___12_18_BUCKET___MEAN\n",
      "OVERDUE-AMT___WHOLE_NUMBER___24_30_BUCKET___MEAN\n",
      "OVERDUE-AMT___WHOLE_NUMBER___18_24_BUCKET___MEAN\n",
      "WRITE-OFF-AMT___WHOLE_NUMBER\n",
      "WRITE-OFF-AMT___WHOLE_NUMBER___>48_BUCKET___MEAN\n",
      "WRITE-OFF-AMT___WHOLE_NUMBER___LESS_THAN_12_BUCKET___MEAN\n",
      "WRITE-OFF-AMT___WHOLE_NUMBER___30_36_BUCKET___MEAN\n",
      "WRITE-OFF-AMT___WHOLE_NUMBER___36_48_BUCKET___MEAN\n",
      "WRITE-OFF-AMT___WHOLE_NUMBER___12_18_BUCKET___MEAN\n",
      "WRITE-OFF-AMT___WHOLE_NUMBER___24_30_BUCKET___MEAN\n",
      "WRITE-OFF-AMT___WHOLE_NUMBER___18_24_BUCKET___MEAN\n",
      "#of IDs have more than 1 records: 7816 out of 14643 these IDs\n",
      "Returning DF.SHAPE: (31369, 278)\n",
      "(31369, 278)\n"
     ]
    }
   ],
   "source": [
    "test_merged_data = merge_demographic_bureau_data(test_data, test_bureau[~bureau_dup_mask])\n",
    "print(test_merged_data.shape)"
   ]
  },
  {
   "cell_type": "code",
   "execution_count": 47,
   "metadata": {
    "execution": {
     "iopub.execute_input": "2021-02-07T15:41:04.365917Z",
     "iopub.status.busy": "2021-02-07T15:41:04.365037Z",
     "iopub.status.idle": "2021-02-07T15:41:04.374612Z",
     "shell.execute_reply": "2021-02-07T15:41:04.374011Z"
    },
    "papermill": {
     "duration": 0.201357,
     "end_time": "2021-02-07T15:41:04.374776",
     "exception": false,
     "start_time": "2021-02-07T15:41:04.173419",
     "status": "completed"
    },
    "tags": []
   },
   "outputs": [
    {
     "data": {
      "text/plain": [
       "69511     46\n",
       "26305     38\n",
       "114063    33\n",
       "69953     32\n",
       "68093     29\n",
       "          ..\n",
       "83899      2\n",
       "69368      2\n",
       "114612     2\n",
       "4018       2\n",
       "113798     2\n",
       "Name: ID, Length: 7816, dtype: int64"
      ]
     },
     "execution_count": 47,
     "metadata": {},
     "output_type": "execute_result"
    }
   ],
   "source": [
    "test_merged_data['ID'].value_counts()"
   ]
  },
  {
   "cell_type": "code",
   "execution_count": 48,
   "metadata": {
    "execution": {
     "iopub.execute_input": "2021-02-07T15:41:04.763212Z",
     "iopub.status.busy": "2021-02-07T15:41:04.762569Z",
     "iopub.status.idle": "2021-02-07T15:41:04.808267Z",
     "shell.execute_reply": "2021-02-07T15:41:04.806437Z"
    },
    "papermill": {
     "duration": 0.244545,
     "end_time": "2021-02-07T15:41:04.808481",
     "exception": false,
     "start_time": "2021-02-07T15:41:04.563936",
     "status": "completed"
    },
    "tags": []
   },
   "outputs": [
    {
     "name": "stdout",
     "output_type": "stream",
     "text": [
      "#of duplicate records: 23553\n"
     ]
    },
    {
     "data": {
      "text/plain": [
       "133121    1\n",
       "70218     1\n",
       "78515     1\n",
       "97589     1\n",
       "78507     1\n",
       "Name: ID, dtype: int64"
      ]
     },
     "execution_count": 48,
     "metadata": {},
     "output_type": "execute_result"
    }
   ],
   "source": [
    "# dup_mask = test_merged_data[['ID','DisbursalAmount','NEXT_LOAN_IN_MONTHS']].duplicated()\n",
    "dup_mask = test_merged_data[['ID']].duplicated()\n",
    "\n",
    "print(\"#of duplicate records: {}\".format(sum(dup_mask)))\n",
    "test_merged_data = test_merged_data[~dup_mask]\n",
    "test_merged_data.ID.value_counts()[:5]"
   ]
  },
  {
   "cell_type": "code",
   "execution_count": 49,
   "metadata": {
    "execution": {
     "iopub.execute_input": "2021-02-07T15:41:05.195571Z",
     "iopub.status.busy": "2021-02-07T15:41:05.193726Z",
     "iopub.status.idle": "2021-02-07T15:41:05.204283Z",
     "shell.execute_reply": "2021-02-07T15:41:05.203448Z"
    },
    "papermill": {
     "duration": 0.205687,
     "end_time": "2021-02-07T15:41:05.204494",
     "exception": false,
     "start_time": "2021-02-07T15:41:04.998807",
     "status": "completed"
    },
    "tags": []
   },
   "outputs": [
    {
     "name": "stdout",
     "output_type": "stream",
     "text": [
      "Tractor Loan                                  0.975691\n",
      "Two-Wheeler Loan                              0.006909\n",
      "Business Loan Priority Sector  Agriculture    0.004606\n",
      "Gold Loan                                     0.004094\n",
      "Business Loan General                         0.003199\n",
      "JLG Individual                                0.001151\n",
      "Auto Loan (Personal)                          0.000896\n",
      "Other                                         0.000768\n",
      "Credit Card                                   0.000640\n",
      "Kisan Credit Card                             0.000640\n",
      "Personal Loan                                 0.000384\n",
      "Commercial Vehicle Loan                       0.000256\n",
      "Consumer Loan                                 0.000256\n",
      "Business Loan Against Bank Deposits           0.000256\n",
      "Loan Against Bank Deposits                    0.000128\n",
      "Housing Loan                                  0.000128\n",
      "Name: ACCT-TYPE, dtype: float64\n"
     ]
    }
   ],
   "source": [
    "print(test_merged_data['ACCT-TYPE'].value_counts()/test_merged_data.shape[0])"
   ]
  },
  {
   "cell_type": "markdown",
   "metadata": {
    "papermill": {
     "duration": 0.187079,
     "end_time": "2021-02-07T15:41:05.585078",
     "exception": false,
     "start_time": "2021-02-07T15:41:05.397999",
     "status": "completed"
    },
    "tags": []
   },
   "source": [
    "# Target Distribution"
   ]
  },
  {
   "cell_type": "code",
   "execution_count": 50,
   "metadata": {
    "execution": {
     "iopub.execute_input": "2021-02-07T15:41:05.993133Z",
     "iopub.status.busy": "2021-02-07T15:41:05.991236Z",
     "iopub.status.idle": "2021-02-07T15:41:06.302444Z",
     "shell.execute_reply": "2021-02-07T15:41:06.298478Z"
    },
    "papermill": {
     "duration": 0.530604,
     "end_time": "2021-02-07T15:41:06.302729",
     "exception": false,
     "start_time": "2021-02-07T15:41:05.772125",
     "status": "completed"
    },
    "tags": []
   },
   "outputs": [
    {
     "data": {
      "image/png": "[encoded data removed]",
      "text/plain": [
       "<Figure size 720x360 with 1 Axes>"
      ]
     },
     "metadata": {
      "needs_background": "light"
     },
     "output_type": "display_data"
    }
   ],
   "source": [
    "plt.figure(figsize=(10,5))\n",
    "plt.xticks(rotation=90)\n",
    "sns.countplot(x=train_merged_data['Top-up Month']);"
   ]
  },
  {
   "cell_type": "code",
   "execution_count": 51,
   "metadata": {
    "execution": {
     "iopub.execute_input": "2021-02-07T15:41:06.934792Z",
     "iopub.status.busy": "2021-02-07T15:41:06.930866Z",
     "iopub.status.idle": "2021-02-07T15:41:06.940550Z",
     "shell.execute_reply": "2021-02-07T15:41:06.939842Z"
    },
    "papermill": {
     "duration": 0.326561,
     "end_time": "2021-02-07T15:41:06.940697",
     "exception": false,
     "start_time": "2021-02-07T15:41:06.614136",
     "status": "completed"
    },
    "tags": []
   },
   "outputs": [
    {
     "data": {
      "text/plain": [
       "No Top-up Service    0.719619\n",
       " > 48 Months         0.120455\n",
       "36-48 Months         0.044784\n",
       "24-30 Months         0.038781\n",
       "30-36 Months         0.035607\n",
       "18-24 Months         0.027581\n",
       "12-18 Months         0.013174\n",
       "Name: Top-up Month, dtype: float64"
      ]
     },
     "execution_count": 51,
     "metadata": {},
     "output_type": "execute_result"
    }
   ],
   "source": [
    "train_merged_data['Top-up Month'].value_counts()/len(train_merged_data)"
   ]
  },
  {
   "cell_type": "markdown",
   "metadata": {
    "papermill": {
     "duration": 0.186099,
     "end_time": "2021-02-07T15:41:07.319715",
     "exception": false,
     "start_time": "2021-02-07T15:41:07.133616",
     "status": "completed"
    },
    "tags": []
   },
   "source": [
    "# Feature Selection"
   ]
  },
  {
   "cell_type": "markdown",
   "metadata": {
    "papermill": {
     "duration": 0.187257,
     "end_time": "2021-02-07T15:41:07.692939",
     "exception": false,
     "start_time": "2021-02-07T15:41:07.505682",
     "status": "completed"
    },
    "tags": []
   },
   "source": [
    "# Removing few features:\n",
    "\n",
    ">  Removing all of the date features\n",
    "\n",
    ">  Removing HIST features, because we have already extracted information from these\n",
    "\n",
    ">  Removing features after running adversial validation. These features has different distribution in train and test file."
   ]
  },
  {
   "cell_type": "code",
   "execution_count": 52,
   "metadata": {
    "execution": {
     "iopub.execute_input": "2021-02-07T15:41:08.102051Z",
     "iopub.status.busy": "2021-02-07T15:41:08.100998Z",
     "iopub.status.idle": "2021-02-07T15:41:08.105521Z",
     "shell.execute_reply": "2021-02-07T15:41:08.104737Z"
    },
    "papermill": {
     "duration": 0.219574,
     "end_time": "2021-02-07T15:41:08.105679",
     "exception": false,
     "start_time": "2021-02-07T15:41:07.886105",
     "status": "completed"
    },
    "tags": []
   },
   "outputs": [],
   "source": [
    "features_to_remove = [  \n",
    "    'DisbursalDate', \n",
    "    'AuthDate',\n",
    "    'DATE-REPORTED', \n",
    "    'DISBURSED-DT',\n",
    "    'CLOSE-DT', \n",
    "    'LAST-PAYMENT-DATE', \n",
    "    'INSTALLMENT-FREQUENCY', \n",
    "    'REPORTED DATE - HIST', \n",
    "    'DPD - HIST', \n",
    "    'CUR BAL - HIST',\n",
    "    'AMT OVERDUE - HIST', \n",
    "    'AMT PAID - HIST', \n",
    "    'AmountFinance', #Similar like DisbursalAmount\n",
    "    'TENURE',\n",
    "    \n",
    "      #Removing these features: find out after running adversial validation\n",
    "     'City', \n",
    "     'Area', \n",
    "     'AssetID', \n",
    "     'ZiPCODE', \n",
    "     'BranchID', \n",
    "     'ManufacturerID', \n",
    "     'State', \n",
    "     'ID', \n",
    "     'MaturityDAte',\n",
    "     'SupplierID',\n",
    "                      \n",
    "]"
   ]
  },
  {
   "cell_type": "code",
   "execution_count": 53,
   "metadata": {
    "execution": {
     "iopub.execute_input": "2021-02-07T15:41:08.519539Z",
     "iopub.status.busy": "2021-02-07T15:41:08.513489Z",
     "iopub.status.idle": "2021-02-07T15:41:08.544794Z",
     "shell.execute_reply": "2021-02-07T15:41:08.544073Z"
    },
    "papermill": {
     "duration": 0.231013,
     "end_time": "2021-02-07T15:41:08.544964",
     "exception": false,
     "start_time": "2021-02-07T15:41:08.313951",
     "status": "completed"
    },
    "tags": []
   },
   "outputs": [],
   "source": [
    "X = train_merged_data.drop(['Top-up Month'] + features_to_remove, axis=1)\n",
    "y = train_merged_data['Top-up Month']"
   ]
  },
  {
   "cell_type": "code",
   "execution_count": 54,
   "metadata": {
    "execution": {
     "iopub.execute_input": "2021-02-07T15:41:08.940132Z",
     "iopub.status.busy": "2021-02-07T15:41:08.939203Z",
     "iopub.status.idle": "2021-02-07T15:41:08.945068Z",
     "shell.execute_reply": "2021-02-07T15:41:08.944468Z"
    },
    "papermill": {
     "duration": 0.20204,
     "end_time": "2021-02-07T15:41:08.945225",
     "exception": false,
     "start_time": "2021-02-07T15:41:08.743185",
     "status": "completed"
    },
    "tags": []
   },
   "outputs": [
    {
     "data": {
      "text/plain": [
       "((60803, 263), (60803,))"
      ]
     },
     "execution_count": 54,
     "metadata": {},
     "output_type": "execute_result"
    }
   ],
   "source": [
    "X.shape, y.shape"
   ]
  },
  {
   "cell_type": "code",
   "execution_count": 55,
   "metadata": {
    "execution": {
     "iopub.execute_input": "2021-02-07T15:41:09.332490Z",
     "iopub.status.busy": "2021-02-07T15:41:09.331735Z",
     "iopub.status.idle": "2021-02-07T15:41:09.342930Z",
     "shell.execute_reply": "2021-02-07T15:41:09.342266Z"
    },
    "papermill": {
     "duration": 0.204063,
     "end_time": "2021-02-07T15:41:09.343072",
     "exception": false,
     "start_time": "2021-02-07T15:41:09.139009",
     "status": "completed"
    },
    "tags": []
   },
   "outputs": [],
   "source": [
    "XTEST = test_merged_data.drop(features_to_remove, axis=1)"
   ]
  },
  {
   "cell_type": "markdown",
   "metadata": {
    "papermill": {
     "duration": 0.188527,
     "end_time": "2021-02-07T15:41:09.723391",
     "exception": false,
     "start_time": "2021-02-07T15:41:09.534864",
     "status": "completed"
    },
    "tags": []
   },
   "source": [
    "# Feature Engineering: \n",
    "\n",
    "> Added feature after finding how much loan repaid after different time-intervals :\n",
    "\n",
    "    like till 18 months, till 24 months, etc..."
   ]
  },
  {
   "cell_type": "code",
   "execution_count": 56,
   "metadata": {
    "execution": {
     "iopub.execute_input": "2021-02-07T15:41:10.119254Z",
     "iopub.status.busy": "2021-02-07T15:41:10.113795Z",
     "iopub.status.idle": "2021-02-07T15:41:10.121324Z",
     "shell.execute_reply": "2021-02-07T15:41:10.121833Z"
    },
    "papermill": {
     "duration": 0.209649,
     "end_time": "2021-02-07T15:41:10.122030",
     "exception": false,
     "start_time": "2021-02-07T15:41:09.912381",
     "status": "completed"
    },
    "tags": []
   },
   "outputs": [],
   "source": [
    "loan_payment_freq_mapping = {\n",
    "    'Monthly' : 1,\n",
    "    'Quatrly': 3,\n",
    "    'Half Yearly': 6,\n",
    "    'BI-Monthly': 2\n",
    "}\n",
    "\n",
    "compound_interest_n_mapping = {\n",
    "    'Monthly' : 12,\n",
    "    'Quatrly': 4,\n",
    "    'Half Yearly': 2,\n",
    "    'BI-Monthly': 6\n",
    "    \n",
    "}\n",
    "def loan_repayment_12_18(row):\n",
    "    freq = row['Frequency']\n",
    "    emi = row['EMI']\n",
    "    tenure = row['Tenure']\n",
    "    loan_amount = row['DisbursalAmount']\n",
    "    final_amount = emi * (tenure // loan_payment_freq_mapping[freq])\n",
    "    \n",
    "    if tenure >= 18:\n",
    "        loan_repaid = emi * (18 // loan_payment_freq_mapping[freq])\n",
    "    else:\n",
    "        loan_repaid = final_amount\n",
    "    return loan_repaid / final_amount\n",
    "\n",
    "def loan_repayment_upto_24(row):\n",
    "    freq = row['Frequency']\n",
    "    emi = row['EMI']\n",
    "    tenure = row['Tenure']\n",
    "    loan_amount = row['DisbursalAmount']\n",
    "    final_amount = emi * (tenure // loan_payment_freq_mapping[freq])\n",
    "\n",
    "    if tenure >= 24:\n",
    "        loan_repaid = emi * (24 // loan_payment_freq_mapping[freq])\n",
    "    else:\n",
    "        loan_repaid = final_amount\n",
    "    return loan_repaid / final_amount\n",
    "\n",
    "def loan_repayment_upto_30(row):\n",
    "    freq = row['Frequency']\n",
    "    emi = row['EMI']\n",
    "    tenure = row['Tenure']\n",
    "    loan_amount = row['DisbursalAmount']\n",
    "    final_amount = emi * (tenure // loan_payment_freq_mapping[freq])\n",
    "    \n",
    "    if tenure >= 30:\n",
    "        loan_repaid = emi * (30 // loan_payment_freq_mapping[freq])\n",
    "    else:\n",
    "        loan_repaid = final_amount\n",
    "    return loan_repaid / final_amount\n",
    "\n",
    "def loan_repayment_upto_36(row):\n",
    "    freq = row['Frequency']\n",
    "    emi = row['EMI']\n",
    "    tenure = row['Tenure']\n",
    "    loan_amount = row['DisbursalAmount']\n",
    "    final_amount = emi * (tenure // loan_payment_freq_mapping[freq])\n",
    "    \n",
    "    if tenure >= 36:\n",
    "        loan_repaid = emi * (36 // loan_payment_freq_mapping[freq])\n",
    "    else:\n",
    "        loan_repaid = final_amount\n",
    "    return loan_repaid / final_amount\n",
    "\n",
    "def loan_repayment_upto_48(row):\n",
    "    freq = row['Frequency']\n",
    "    emi = row['EMI']\n",
    "    tenure = row['Tenure']\n",
    "    loan_amount = row['DisbursalAmount']\n",
    "    final_amount = emi * (tenure // loan_payment_freq_mapping[freq])\n",
    "    \n",
    "    if tenure >= 48:\n",
    "        loan_repaid = emi * (48 // loan_payment_freq_mapping[freq])\n",
    "    else:\n",
    "        loan_repaid = final_amount\n",
    "    return loan_repaid / final_amount"
   ]
  },
  {
   "cell_type": "code",
   "execution_count": 57,
   "metadata": {
    "execution": {
     "iopub.execute_input": "2021-02-07T15:41:10.503860Z",
     "iopub.status.busy": "2021-02-07T15:41:10.503243Z",
     "iopub.status.idle": "2021-02-07T15:41:22.319192Z",
     "shell.execute_reply": "2021-02-07T15:41:22.319850Z"
    },
    "papermill": {
     "duration": 12.006978,
     "end_time": "2021-02-07T15:41:22.320031",
     "exception": false,
     "start_time": "2021-02-07T15:41:10.313053",
     "status": "completed"
    },
    "tags": []
   },
   "outputs": [],
   "source": [
    "X['loan_repaid_upto_18_months'] = X.apply(loan_repayment_12_18, axis=1)\n",
    "XTEST['loan_repaid_upto_18_months'] = XTEST.apply(loan_repayment_12_18, axis=1)\n",
    "\n",
    "X['loan_repaid_upto_24_months'] = X.apply(loan_repayment_upto_24, axis=1)\n",
    "XTEST['loan_repaid_upto_24_months'] = XTEST.apply(loan_repayment_upto_24, axis=1)\n",
    "\n",
    "X['loan_repaid_upto_30_months'] = X.apply(loan_repayment_upto_30, axis=1)\n",
    "XTEST['loan_repaid_upto_30_months'] = XTEST.apply(loan_repayment_upto_30, axis=1)\n",
    "\n",
    "X['loan_repaid_upto_36_months'] = X.apply(loan_repayment_upto_36, axis=1)\n",
    "XTEST['loan_repaid_upto_36_months'] = XTEST.apply(loan_repayment_upto_36, axis=1)\n",
    "\n",
    "X['loan_repaid_upto_48_months'] = X.apply(loan_repayment_upto_48, axis=1)\n",
    "XTEST['loan_repaid_upto_48_months'] = XTEST.apply(loan_repayment_upto_48, axis=1)"
   ]
  },
  {
   "cell_type": "markdown",
   "metadata": {
    "papermill": {
     "duration": 0.187505,
     "end_time": "2021-02-07T15:41:22.697771",
     "exception": false,
     "start_time": "2021-02-07T15:41:22.510266",
     "status": "completed"
    },
    "tags": []
   },
   "source": [
    "# Target and Categorical Feature Encoding"
   ]
  },
  {
   "cell_type": "code",
   "execution_count": 58,
   "metadata": {
    "execution": {
     "iopub.execute_input": "2021-02-07T15:41:23.083687Z",
     "iopub.status.busy": "2021-02-07T15:41:23.082838Z",
     "iopub.status.idle": "2021-02-07T15:41:23.087136Z",
     "shell.execute_reply": "2021-02-07T15:41:23.086658Z"
    },
    "papermill": {
     "duration": 0.200758,
     "end_time": "2021-02-07T15:41:23.087268",
     "exception": false,
     "start_time": "2021-02-07T15:41:22.886510",
     "status": "completed"
    },
    "tags": []
   },
   "outputs": [],
   "source": [
    "target_encoder = LabelEncoder()"
   ]
  },
  {
   "cell_type": "code",
   "execution_count": 59,
   "metadata": {
    "execution": {
     "iopub.execute_input": "2021-02-07T15:41:23.485810Z",
     "iopub.status.busy": "2021-02-07T15:41:23.480635Z",
     "iopub.status.idle": "2021-02-07T15:41:23.515007Z",
     "shell.execute_reply": "2021-02-07T15:41:23.514038Z"
    },
    "papermill": {
     "duration": 0.236373,
     "end_time": "2021-02-07T15:41:23.515156",
     "exception": false,
     "start_time": "2021-02-07T15:41:23.278783",
     "status": "completed"
    },
    "tags": []
   },
   "outputs": [],
   "source": [
    "y_trans= target_encoder.fit_transform(y)"
   ]
  },
  {
   "cell_type": "code",
   "execution_count": 60,
   "metadata": {
    "execution": {
     "iopub.execute_input": "2021-02-07T15:41:23.899727Z",
     "iopub.status.busy": "2021-02-07T15:41:23.899026Z",
     "iopub.status.idle": "2021-02-07T15:41:24.492552Z",
     "shell.execute_reply": "2021-02-07T15:41:24.493044Z"
    },
    "papermill": {
     "duration": 0.790485,
     "end_time": "2021-02-07T15:41:24.493244",
     "exception": false,
     "start_time": "2021-02-07T15:41:23.702759",
     "status": "completed"
    },
    "tags": []
   },
   "outputs": [
    {
     "name": "stdout",
     "output_type": "stream",
     "text": [
      "Encoding : Frequency\n",
      "Encoding : InstlmentMode\n",
      "Encoding : LoanStatus\n",
      "Encoding : PaymentMode\n",
      "Encoding : SEX\n",
      "Encoding : MATCH-TYPE\n",
      "Encoding : ACCT-TYPE\n",
      "Encoding : CONTRIBUTOR-TYPE\n",
      "Encoding : OWNERSHIP-IND\n",
      "Encoding : ACCOUNT-STATUS\n",
      "Encoding : ASSET_CLASS\n",
      "Encoding : NEXT_LOAN_BUCKET\n"
     ]
    }
   ],
   "source": [
    "for col in X.select_dtypes('object'):\n",
    "    print(\"Encoding :\", col)\n",
    "    le = LabelEncoder()\n",
    "    le.fit(list(X[col]) + list(XTEST[col]))\n",
    "    X[col] = le.transform(X[col])\n",
    "    XTEST[col] = le.transform(XTEST[col])"
   ]
  },
  {
   "cell_type": "code",
   "execution_count": 61,
   "metadata": {
    "execution": {
     "iopub.execute_input": "2021-02-07T15:41:24.886712Z",
     "iopub.status.busy": "2021-02-07T15:41:24.885784Z",
     "iopub.status.idle": "2021-02-07T15:41:24.911156Z",
     "shell.execute_reply": "2021-02-07T15:41:24.911720Z"
    },
    "papermill": {
     "duration": 0.224297,
     "end_time": "2021-02-07T15:41:24.911906",
     "exception": false,
     "start_time": "2021-02-07T15:41:24.687609",
     "status": "completed"
    },
    "tags": []
   },
   "outputs": [
    {
     "name": "stdout",
     "output_type": "stream",
     "text": [
      "<class 'pandas.core.frame.DataFrame'>\n",
      "Int64Index: 60803 entries, 2 to 556965\n",
      "Columns: 268 entries, Frequency to loan_repaid_upto_48_months\n",
      "dtypes: bool(9), float64(138), int64(121)\n",
      "memory usage: 123.1 MB\n"
     ]
    }
   ],
   "source": [
    "X.info()"
   ]
  },
  {
   "cell_type": "code",
   "execution_count": 62,
   "metadata": {
    "execution": {
     "iopub.execute_input": "2021-02-07T15:41:25.310441Z",
     "iopub.status.busy": "2021-02-07T15:41:25.309552Z",
     "iopub.status.idle": "2021-02-07T15:41:25.335525Z",
     "shell.execute_reply": "2021-02-07T15:41:25.334681Z"
    },
    "papermill": {
     "duration": 0.229484,
     "end_time": "2021-02-07T15:41:25.335700",
     "exception": false,
     "start_time": "2021-02-07T15:41:25.106216",
     "status": "completed"
    },
    "tags": []
   },
   "outputs": [
    {
     "name": "stdout",
     "output_type": "stream",
     "text": [
      "<class 'pandas.core.frame.DataFrame'>\n",
      "Int64Index: 7816 entries, 3 to 63258\n",
      "Columns: 259 entries, Frequency to loan_repaid_upto_48_months\n",
      "dtypes: bool(9), float64(139), int64(110), object(1)\n",
      "memory usage: 15.0+ MB\n"
     ]
    }
   ],
   "source": [
    "XTEST.info()"
   ]
  },
  {
   "cell_type": "code",
   "execution_count": 63,
   "metadata": {
    "execution": {
     "iopub.execute_input": "2021-02-07T15:41:25.726888Z",
     "iopub.status.busy": "2021-02-07T15:41:25.725996Z",
     "iopub.status.idle": "2021-02-07T15:41:25.732631Z",
     "shell.execute_reply": "2021-02-07T15:41:25.731947Z"
    },
    "papermill": {
     "duration": 0.203345,
     "end_time": "2021-02-07T15:41:25.732776",
     "exception": false,
     "start_time": "2021-02-07T15:41:25.529431",
     "status": "completed"
    },
    "tags": []
   },
   "outputs": [
    {
     "data": {
      "text/plain": [
       "((60803, 268), (7816, 259))"
      ]
     },
     "execution_count": 63,
     "metadata": {},
     "output_type": "execute_result"
    }
   ],
   "source": [
    "X.shape, XTEST.shape"
   ]
  },
  {
   "cell_type": "code",
   "execution_count": 64,
   "metadata": {
    "execution": {
     "iopub.execute_input": "2021-02-07T15:41:26.118013Z",
     "iopub.status.busy": "2021-02-07T15:41:26.117436Z",
     "iopub.status.idle": "2021-02-07T15:41:26.121951Z",
     "shell.execute_reply": "2021-02-07T15:41:26.120571Z"
    },
    "papermill": {
     "duration": 0.198547,
     "end_time": "2021-02-07T15:41:26.122097",
     "exception": false,
     "start_time": "2021-02-07T15:41:25.923550",
     "status": "completed"
    },
    "tags": []
   },
   "outputs": [],
   "source": [
    "features_missing_from_test_data = set(X.columns) - set(XTEST.columns)"
   ]
  },
  {
   "cell_type": "code",
   "execution_count": 65,
   "metadata": {
    "execution": {
     "iopub.execute_input": "2021-02-07T15:41:26.514740Z",
     "iopub.status.busy": "2021-02-07T15:41:26.513970Z",
     "iopub.status.idle": "2021-02-07T15:41:26.524203Z",
     "shell.execute_reply": "2021-02-07T15:41:26.523656Z"
    },
    "papermill": {
     "duration": 0.208549,
     "end_time": "2021-02-07T15:41:26.524371",
     "exception": false,
     "start_time": "2021-02-07T15:41:26.315822",
     "status": "completed"
    },
    "tags": []
   },
   "outputs": [],
   "source": [
    "XTEST[list(features_missing_from_test_data)] = 0"
   ]
  },
  {
   "cell_type": "code",
   "execution_count": 66,
   "metadata": {
    "execution": {
     "iopub.execute_input": "2021-02-07T15:41:26.913281Z",
     "iopub.status.busy": "2021-02-07T15:41:26.912535Z",
     "iopub.status.idle": "2021-02-07T15:41:26.921623Z",
     "shell.execute_reply": "2021-02-07T15:41:26.922098Z"
    },
    "papermill": {
     "duration": 0.206947,
     "end_time": "2021-02-07T15:41:26.922283",
     "exception": false,
     "start_time": "2021-02-07T15:41:26.715336",
     "status": "completed"
    },
    "tags": []
   },
   "outputs": [],
   "source": [
    "XTEST = XTEST[X.columns]"
   ]
  },
  {
   "cell_type": "code",
   "execution_count": 67,
   "metadata": {
    "execution": {
     "iopub.execute_input": "2021-02-07T15:41:27.308467Z",
     "iopub.status.busy": "2021-02-07T15:41:27.307725Z",
     "iopub.status.idle": "2021-02-07T15:41:27.313074Z",
     "shell.execute_reply": "2021-02-07T15:41:27.313612Z"
    },
    "papermill": {
     "duration": 0.199343,
     "end_time": "2021-02-07T15:41:27.313764",
     "exception": false,
     "start_time": "2021-02-07T15:41:27.114421",
     "status": "completed"
    },
    "tags": []
   },
   "outputs": [
    {
     "data": {
      "text/plain": [
       "((60803, 268), (7816, 268))"
      ]
     },
     "execution_count": 67,
     "metadata": {},
     "output_type": "execute_result"
    }
   ],
   "source": [
    "X.shape, XTEST.shape"
   ]
  },
  {
   "cell_type": "markdown",
   "metadata": {
    "papermill": {
     "duration": 0.197261,
     "end_time": "2021-02-07T15:41:27.701468",
     "exception": false,
     "start_time": "2021-02-07T15:41:27.504207",
     "status": "completed"
    },
    "tags": []
   },
   "source": [
    "# Benchmarking different models:\n",
    "\n",
    "> LGB\n",
    "\n",
    "> XGB\n",
    "\n",
    "> Ensmeble : 0.5* LGB + 0.5 * XGB"
   ]
  },
  {
   "cell_type": "code",
   "execution_count": 68,
   "metadata": {
    "execution": {
     "iopub.execute_input": "2021-02-07T15:41:28.092138Z",
     "iopub.status.busy": "2021-02-07T15:41:28.091483Z",
     "iopub.status.idle": "2021-02-07T15:41:28.263104Z",
     "shell.execute_reply": "2021-02-07T15:41:28.264015Z"
    },
    "papermill": {
     "duration": 0.370013,
     "end_time": "2021-02-07T15:41:28.264231",
     "exception": false,
     "start_time": "2021-02-07T15:41:27.894218",
     "status": "completed"
    },
    "tags": []
   },
   "outputs": [],
   "source": [
    "X_train, X_valid, y_train, y_valid = train_test_split(X, y_trans, test_size=0.2, random_state=SEED, stratify=y_trans)"
   ]
  },
  {
   "cell_type": "code",
   "execution_count": 69,
   "metadata": {
    "execution": {
     "iopub.execute_input": "2021-02-07T15:41:28.875383Z",
     "iopub.status.busy": "2021-02-07T15:41:28.874218Z",
     "iopub.status.idle": "2021-02-07T15:41:28.879814Z",
     "shell.execute_reply": "2021-02-07T15:41:28.880492Z"
    },
    "papermill": {
     "duration": 0.306587,
     "end_time": "2021-02-07T15:41:28.880705",
     "exception": false,
     "start_time": "2021-02-07T15:41:28.574118",
     "status": "completed"
    },
    "tags": []
   },
   "outputs": [],
   "source": [
    "current_best = (0.5904478029251055, {'bagging_fraction': 0.9648178267940851, 'bagging_freq': 5, 'feature_fraction': 0.7864711972326701, 'lambda_l1': 0.05, 'lambda_l2': 3.3000000000000003, 'learning_rate': 0.025, 'max_bin': 255, 'max_depth': 15, 'metric': 'multi_logloss', 'min_data_in_leaf': 92, 'min_sum_hessian_in_leaf': 5.068990408995694, 'num_class': 7, 'num_leaves': 21, 'objective': 'multiclass', 'seed': 2021, 'verbose': -1}, 372)\n",
    "    "
   ]
  },
  {
   "cell_type": "code",
   "execution_count": 70,
   "metadata": {
    "execution": {
     "iopub.execute_input": "2021-02-07T15:41:29.481487Z",
     "iopub.status.busy": "2021-02-07T15:41:29.480403Z",
     "iopub.status.idle": "2021-02-07T15:41:29.484780Z",
     "shell.execute_reply": "2021-02-07T15:41:29.485444Z"
    },
    "papermill": {
     "duration": 0.307066,
     "end_time": "2021-02-07T15:41:29.485658",
     "exception": false,
     "start_time": "2021-02-07T15:41:29.178592",
     "status": "completed"
    },
    "tags": []
   },
   "outputs": [],
   "source": [
    "train_data = lgb.Dataset(X_train, label=y_train)\n",
    "valid_data = lgb.Dataset(X_valid, label=y_valid)"
   ]
  },
  {
   "cell_type": "code",
   "execution_count": 71,
   "metadata": {
    "execution": {
     "iopub.execute_input": "2021-02-07T15:41:30.086604Z",
     "iopub.status.busy": "2021-02-07T15:41:30.085512Z",
     "iopub.status.idle": "2021-02-07T15:41:30.095010Z",
     "shell.execute_reply": "2021-02-07T15:41:30.094149Z"
    },
    "papermill": {
     "duration": 0.310467,
     "end_time": "2021-02-07T15:41:30.095176",
     "exception": false,
     "start_time": "2021-02-07T15:41:29.784709",
     "status": "completed"
    },
    "tags": []
   },
   "outputs": [
    {
     "data": {
      "text/plain": [
       "{'bagging_fraction': 0.9648178267940851,\n",
       " 'bagging_freq': 5,\n",
       " 'feature_fraction': 0.7864711972326701,\n",
       " 'lambda_l1': 0.05,\n",
       " 'lambda_l2': 3.3000000000000003,\n",
       " 'learning_rate': 0.025,\n",
       " 'max_bin': 255,\n",
       " 'max_depth': 15,\n",
       " 'metric': 'multi_logloss',\n",
       " 'min_data_in_leaf': 92,\n",
       " 'min_sum_hessian_in_leaf': 5.068990408995694,\n",
       " 'num_class': 7,\n",
       " 'num_leaves': 21,\n",
       " 'objective': 'multiclass',\n",
       " 'seed': 2021,\n",
       " 'verbose': -1}"
      ]
     },
     "execution_count": 71,
     "metadata": {},
     "output_type": "execute_result"
    }
   ],
   "source": [
    "param = current_best[1].copy()\n",
    "param"
   ]
  },
  {
   "cell_type": "code",
   "execution_count": 72,
   "metadata": {
    "execution": {
     "iopub.execute_input": "2021-02-07T15:41:30.701015Z",
     "iopub.status.busy": "2021-02-07T15:41:30.699864Z",
     "iopub.status.idle": "2021-02-07T15:43:46.040406Z",
     "shell.execute_reply": "2021-02-07T15:43:46.041057Z"
    },
    "papermill": {
     "duration": 135.645779,
     "end_time": "2021-02-07T15:43:46.041228",
     "exception": false,
     "start_time": "2021-02-07T15:41:30.395449",
     "status": "completed"
    },
    "tags": []
   },
   "outputs": [
    {
     "name": "stdout",
     "output_type": "stream",
     "text": [
      "Training until validation scores don't improve for 300 rounds\n",
      "[100]\ttraining's multi_logloss: 0.44521\tvalid_1's multi_logloss: 0.47983\n",
      "[200]\ttraining's multi_logloss: 0.389927\tvalid_1's multi_logloss: 0.455696\n",
      "[300]\ttraining's multi_logloss: 0.355847\tvalid_1's multi_logloss: 0.449866\n",
      "[400]\ttraining's multi_logloss: 0.328787\tvalid_1's multi_logloss: 0.447689\n",
      "[500]\ttraining's multi_logloss: 0.305776\tvalid_1's multi_logloss: 0.447166\n",
      "[600]\ttraining's multi_logloss: 0.285439\tvalid_1's multi_logloss: 0.44736\n",
      "[700]\ttraining's multi_logloss: 0.267312\tvalid_1's multi_logloss: 0.447885\n",
      "[800]\ttraining's multi_logloss: 0.250908\tvalid_1's multi_logloss: 0.448884\n",
      "Early stopping, best iteration is:\n",
      "[515]\ttraining's multi_logloss: 0.302566\tvalid_1's multi_logloss: 0.447071\n"
     ]
    }
   ],
   "source": [
    "bst = lgb.train(param, train_data, NUM_OF_BOOST_ROUND, \n",
    "                valid_sets=[train_data, valid_data], \n",
    "                early_stopping_rounds= EARLY_STOPPING, \n",
    "                verbose_eval=100)"
   ]
  },
  {
   "cell_type": "code",
   "execution_count": 73,
   "metadata": {
    "execution": {
     "iopub.execute_input": "2021-02-07T15:43:46.446563Z",
     "iopub.status.busy": "2021-02-07T15:43:46.445833Z",
     "iopub.status.idle": "2021-02-07T15:43:48.451293Z",
     "shell.execute_reply": "2021-02-07T15:43:48.451840Z"
    },
    "papermill": {
     "duration": 2.206403,
     "end_time": "2021-02-07T15:43:48.452019",
     "exception": false,
     "start_time": "2021-02-07T15:43:46.245616",
     "status": "completed"
    },
    "tags": []
   },
   "outputs": [
    {
     "data": {
      "text/plain": [
       "0.6775956600977912"
      ]
     },
     "execution_count": 73,
     "metadata": {},
     "output_type": "execute_result"
    }
   ],
   "source": [
    "# Predict Validation\n",
    "ypred_valid = bst.predict(X_valid, num_iteration=bst.best_iteration)\n",
    "f1_score(y_valid, np.argmax(ypred_valid, axis=1), average='macro')"
   ]
  },
  {
   "cell_type": "code",
   "execution_count": 74,
   "metadata": {
    "execution": {
     "iopub.execute_input": "2021-02-07T15:43:48.859387Z",
     "iopub.status.busy": "2021-02-07T15:43:48.858763Z",
     "iopub.status.idle": "2021-02-07T15:43:48.869984Z",
     "shell.execute_reply": "2021-02-07T15:43:48.869291Z"
    },
    "papermill": {
     "duration": 0.216484,
     "end_time": "2021-02-07T15:43:48.870134",
     "exception": false,
     "start_time": "2021-02-07T15:43:48.653650",
     "status": "completed"
    },
    "tags": []
   },
   "outputs": [],
   "source": [
    "f_importance_df = pd.DataFrame(bst.feature_importance(), columns=['importance'], index=X_valid.columns)\n",
    "f_importance_df = f_importance_df.sort_values(by='importance', ascending=False)"
   ]
  },
  {
   "cell_type": "code",
   "execution_count": 75,
   "metadata": {
    "execution": {
     "iopub.execute_input": "2021-02-07T15:43:49.273401Z",
     "iopub.status.busy": "2021-02-07T15:43:49.272717Z",
     "iopub.status.idle": "2021-02-07T15:43:49.275512Z",
     "shell.execute_reply": "2021-02-07T15:43:49.276017Z"
    },
    "papermill": {
     "duration": 0.205594,
     "end_time": "2021-02-07T15:43:49.276193",
     "exception": false,
     "start_time": "2021-02-07T15:43:49.070599",
     "status": "completed"
    },
    "tags": []
   },
   "outputs": [
    {
     "data": {
      "text/plain": [
       "Index(['CUR_BAL_HIST_TOTAL', 'NEXT_LOAN_IN_MONTHS', 'EMI_INCOME_RATO', 'LTV',\n",
       "       'ACCT-TYPE___Gold Loan___COUNT', 'MonthlyIncome',\n",
       "       'CUR_BAL_HIST_TOTAL___LESS_THAN_12_BUCKET___MEAN', 'EMI', 'CURRENT-BAL',\n",
       "       'AssetCost', 'OLD_NEW_LOAN_RATIO____MEAN_PER_CUSTOMER',\n",
       "       'DISBURSED-AMT/HIGH CREDIT', 'CUR_BAL_HIST_TOTAL____MEAN_PER_CUSTOMER',\n",
       "       'INSTALLMENT-AMT____MEAN_PER_CUSTOMER',\n",
       "       'AMT_OVERDUE_HIST_TOTAL____MEAN_PER_CUSTOMER', 'DisbursalAmount',\n",
       "       'CURRENT-BAL____MEAN_PER_CUSTOMER', 'Tenure',\n",
       "       'DISBURSED-AMT/HIGH CREDIT____MEAN_PER_CUSTOMER',\n",
       "       'CURRENT-BAL___WHOLE_NUMBER____MEAN_PER_CUSTOMER', 'AGE',\n",
       "       'AGE_WHEN_LOAN_COMPLETES', 'AMT_PAID_HIST_TOTAL____MEAN_PER_CUSTOMER',\n",
       "       'AMT_OVERDUE_HIST_TOTAL___LESS_THAN_12_BUCKET___MEAN',\n",
       "       'DISBURSED-AMT/HIGH CREDIT___LESS_THAN_12_BUCKET___MEAN',\n",
       "       'ACCT-TYPE___Personal Loan___COUNT',\n",
       "       'DISBURSED-AMT/HIGH CREDIT___WHOLE_NUMBER____MEAN_PER_CUSTOMER',\n",
       "       'PaymentMode', 'CURRENT-BAL___LESS_THAN_12_BUCKET___MEAN',\n",
       "       'DISBURSED-AMT/HIGH CREDIT___12_18_BUCKET___MEAN'],\n",
       "      dtype='object')"
      ]
     },
     "execution_count": 75,
     "metadata": {},
     "output_type": "execute_result"
    }
   ],
   "source": [
    "top_features = f_importance_df['importance'][:30].index\n",
    "top_features"
   ]
  },
  {
   "cell_type": "code",
   "execution_count": 76,
   "metadata": {
    "execution": {
     "iopub.execute_input": "2021-02-07T15:43:49.677904Z",
     "iopub.status.busy": "2021-02-07T15:43:49.677051Z",
     "iopub.status.idle": "2021-02-07T15:43:50.645797Z",
     "shell.execute_reply": "2021-02-07T15:43:50.645111Z"
    },
    "papermill": {
     "duration": 1.171076,
     "end_time": "2021-02-07T15:43:50.645935",
     "exception": false,
     "start_time": "2021-02-07T15:43:49.474859",
     "status": "completed"
    },
    "tags": []
   },
   "outputs": [
    {
     "data": {
      "image/png": "[encoded data removed]",
      "text/plain": [
       "<Figure size 1440x1080 with 1 Axes>"
      ]
     },
     "metadata": {
      "needs_background": "light"
     },
     "output_type": "display_data"
    }
   ],
   "source": [
    "plt.figure(figsize=(20,15))\n",
    "sns.barplot(x=f_importance_df.importance[:50], y=f_importance_df.index[:50]);"
   ]
  },
  {
   "cell_type": "markdown",
   "metadata": {
    "papermill": {
     "duration": 0.201184,
     "end_time": "2021-02-07T15:43:51.047276",
     "exception": false,
     "start_time": "2021-02-07T15:43:50.846092",
     "status": "completed"
    },
    "tags": []
   },
   "source": [
    "# XGB"
   ]
  },
  {
   "cell_type": "code",
   "execution_count": 77,
   "metadata": {
    "execution": {
     "iopub.execute_input": "2021-02-07T15:43:51.535505Z",
     "iopub.status.busy": "2021-02-07T15:43:51.534607Z",
     "iopub.status.idle": "2021-02-07T15:45:31.657438Z",
     "shell.execute_reply": "2021-02-07T15:45:31.658057Z"
    },
    "papermill": {
     "duration": 100.397416,
     "end_time": "2021-02-07T15:45:31.658238",
     "exception": false,
     "start_time": "2021-02-07T15:43:51.260822",
     "status": "completed"
    },
    "tags": []
   },
   "outputs": [
    {
     "name": "stdout",
     "output_type": "stream",
     "text": [
      "[15:43:52] WARNING: ../src/learner.cc:541: \n",
      "Parameters: { silent } might not be used.\n",
      "\n",
      "  This may not be accurate due to some parameters are only used in language bindings but\n",
      "  passed down to XGBoost core.  Or some parameters are not used but slip through this\n",
      "  verification. Please open an issue if you find above cases.\n",
      "\n",
      "\n",
      "[0]\ttrain-mlogloss:1.06147\teval-mlogloss:1.06754\n",
      "[100]\ttrain-mlogloss:0.23650\teval-mlogloss:0.46171\n",
      "[200]\ttrain-mlogloss:0.14870\teval-mlogloss:0.47708\n",
      "[300]\ttrain-mlogloss:0.10912\teval-mlogloss:0.48939\n",
      "[349]\ttrain-mlogloss:0.09800\teval-mlogloss:0.49310\n"
     ]
    }
   ],
   "source": [
    "xgb_train_data = xgb.DMatrix(X_train, label=y_train)\n",
    "xgb_valid_data = xgb.DMatrix(X_valid, label=y_valid)\n",
    "xgb_current_best = (0.5992587341153869, {'booster': 'gbtree', 'colsample_bytree': 0.65, 'eta': 0.45, 'eval_metric': 'mlogloss', 'gamma': 0.75, 'max_depth': 5, 'min_child_weight': 4.0, 'num_class': 7, 'objective': 'multi:softprob', 'reg_alpha': 0.1, 'reg_lambda': 1.9000000000000001, 'seed': 2021, 'silent': 1, 'subsample': 0.9500000000000001, 'tree_method': 'hist'}, 30)\n",
    "xgb_params = xgb_current_best[1].copy()\n",
    "xgb_bst = xgb.train(xgb_params, xgb_train_data, NUM_OF_BOOST_ROUND, \n",
    "                evals=[(xgb_train_data, 'train'), (xgb_valid_data, 'eval')], \n",
    "                early_stopping_rounds= EARLY_STOPPING, \n",
    "                verbose_eval=100)"
   ]
  },
  {
   "cell_type": "code",
   "execution_count": 78,
   "metadata": {
    "execution": {
     "iopub.execute_input": "2021-02-07T15:45:32.072570Z",
     "iopub.status.busy": "2021-02-07T15:45:32.071933Z",
     "iopub.status.idle": "2021-02-07T15:45:32.156559Z",
     "shell.execute_reply": "2021-02-07T15:45:32.157116Z"
    },
    "papermill": {
     "duration": 0.293669,
     "end_time": "2021-02-07T15:45:32.157337",
     "exception": false,
     "start_time": "2021-02-07T15:45:31.863668",
     "status": "completed"
    },
    "tags": []
   },
   "outputs": [
    {
     "data": {
      "text/plain": [
       "0.6687140225696764"
      ]
     },
     "execution_count": 78,
     "metadata": {},
     "output_type": "execute_result"
    }
   ],
   "source": [
    "xgb_ypred_valid = xgb_bst.predict(xgb_valid_data, ntree_limit=xgb_bst.best_ntree_limit)\n",
    "f1_score(y_valid, np.argmax(xgb_ypred_valid, axis=1), average='macro')"
   ]
  },
  {
   "cell_type": "code",
   "execution_count": 79,
   "metadata": {
    "execution": {
     "iopub.execute_input": "2021-02-07T15:45:32.573248Z",
     "iopub.status.busy": "2021-02-07T15:45:32.572640Z",
     "iopub.status.idle": "2021-02-07T15:45:32.582796Z",
     "shell.execute_reply": "2021-02-07T15:45:32.583484Z"
    },
    "papermill": {
     "duration": 0.21921,
     "end_time": "2021-02-07T15:45:32.583638",
     "exception": false,
     "start_time": "2021-02-07T15:45:32.364428",
     "status": "completed"
    },
    "tags": []
   },
   "outputs": [
    {
     "data": {
      "text/plain": [
       "0.6705701847072769"
      ]
     },
     "execution_count": 79,
     "metadata": {},
     "output_type": "execute_result"
    }
   ],
   "source": [
    "ensemble_ypred_valid = 0.5 * ypred_valid + 0.5 * xgb_ypred_valid\n",
    "f1_score(y_valid, np.argmax(ensemble_ypred_valid, axis=1), average='macro')"
   ]
  },
  {
   "cell_type": "code",
   "execution_count": null,
   "metadata": {
    "papermill": {
     "duration": 0.244156,
     "end_time": "2021-02-07T15:45:33.034560",
     "exception": false,
     "start_time": "2021-02-07T15:45:32.790404",
     "status": "completed"
    },
    "tags": []
   },
   "outputs": [],
   "source": []
  },
  {
   "cell_type": "markdown",
   "metadata": {
    "papermill": {
     "duration": 0.205689,
     "end_time": "2021-02-07T15:45:33.445020",
     "exception": false,
     "start_time": "2021-02-07T15:45:33.239331",
     "status": "completed"
    },
    "tags": []
   },
   "source": [
    "# OOF (Out Of Fold) Prediction:\n",
    "\n",
    "![Model_with_selected_features](https://github.com/asingleneuron/edgeverve_ml_challenge/blob/master/images/OOF_PREDICTION.png?raw=True)"
   ]
  },
  {
   "cell_type": "code",
   "execution_count": 80,
   "metadata": {
    "execution": {
     "iopub.execute_input": "2021-02-07T15:45:33.854337Z",
     "iopub.status.busy": "2021-02-07T15:45:33.853710Z",
     "iopub.status.idle": "2021-02-07T16:04:18.451985Z",
     "shell.execute_reply": "2021-02-07T16:04:18.452764Z"
    },
    "papermill": {
     "duration": 1124.805373,
     "end_time": "2021-02-07T16:04:18.453008",
     "exception": false,
     "start_time": "2021-02-07T15:45:33.647635",
     "status": "completed"
    },
    "tags": []
   },
   "outputs": [
    {
     "name": "stdout",
     "output_type": "stream",
     "text": [
      "(7816, 7)\n",
      "FOLD ....  1\n",
      "Training until validation scores don't improve for 300 rounds\n",
      "[100]\ttraining's multi_logloss: 0.439789\tvalid_1's multi_logloss: 0.51856\n",
      "[200]\ttraining's multi_logloss: 0.384862\tvalid_1's multi_logloss: 0.497795\n",
      "[300]\ttraining's multi_logloss: 0.351318\tvalid_1's multi_logloss: 0.494807\n",
      "[400]\ttraining's multi_logloss: 0.324702\tvalid_1's multi_logloss: 0.494391\n",
      "[500]\ttraining's multi_logloss: 0.301714\tvalid_1's multi_logloss: 0.495003\n",
      "[600]\ttraining's multi_logloss: 0.281323\tvalid_1's multi_logloss: 0.496372\n",
      "Early stopping, best iteration is:\n",
      "[349]\ttraining's multi_logloss: 0.337628\tvalid_1's multi_logloss: 0.494037\n",
      "[15:47:26] WARNING: ../src/learner.cc:541: \n",
      "Parameters: { silent } might not be used.\n",
      "\n",
      "  This may not be accurate due to some parameters are only used in language bindings but\n",
      "  passed down to XGBoost core.  Or some parameters are not used but slip through this\n",
      "  verification. Please open an issue if you find above cases.\n",
      "\n",
      "\n",
      "[0]\ttrain-mlogloss:1.05362\teval-mlogloss:1.07807\n",
      "[100]\ttrain-mlogloss:0.23225\teval-mlogloss:0.51654\n",
      "[200]\ttrain-mlogloss:0.14828\teval-mlogloss:0.54304\n",
      "[300]\ttrain-mlogloss:0.10706\teval-mlogloss:0.55995\n",
      "[329]\ttrain-mlogloss:0.09952\teval-mlogloss:0.56450\n",
      "FOLD ....  2\n",
      "Training until validation scores don't improve for 300 rounds\n",
      "[100]\ttraining's multi_logloss: 0.439723\tvalid_1's multi_logloss: 0.509937\n",
      "[200]\ttraining's multi_logloss: 0.385433\tvalid_1's multi_logloss: 0.48831\n",
      "[300]\ttraining's multi_logloss: 0.351358\tvalid_1's multi_logloss: 0.483964\n",
      "[400]\ttraining's multi_logloss: 0.324337\tvalid_1's multi_logloss: 0.482776\n",
      "[500]\ttraining's multi_logloss: 0.301975\tvalid_1's multi_logloss: 0.483766\n",
      "[600]\ttraining's multi_logloss: 0.281951\tvalid_1's multi_logloss: 0.484515\n",
      "[700]\ttraining's multi_logloss: 0.263887\tvalid_1's multi_logloss: 0.485611\n",
      "Early stopping, best iteration is:\n",
      "[404]\ttraining's multi_logloss: 0.323363\tvalid_1's multi_logloss: 0.482722\n",
      "[15:51:01] WARNING: ../src/learner.cc:541: \n",
      "Parameters: { silent } might not be used.\n",
      "\n",
      "  This may not be accurate due to some parameters are only used in language bindings but\n",
      "  passed down to XGBoost core.  Or some parameters are not used but slip through this\n",
      "  verification. Please open an issue if you find above cases.\n",
      "\n",
      "\n",
      "[0]\ttrain-mlogloss:1.05411\teval-mlogloss:1.10682\n",
      "[100]\ttrain-mlogloss:0.23237\teval-mlogloss:0.50613\n",
      "[200]\ttrain-mlogloss:0.14753\teval-mlogloss:0.52886\n",
      "[300]\ttrain-mlogloss:0.10851\teval-mlogloss:0.54072\n",
      "[334]\ttrain-mlogloss:0.10163\teval-mlogloss:0.54329\n",
      "FOLD ....  3\n",
      "Training until validation scores don't improve for 300 rounds\n",
      "[100]\ttraining's multi_logloss: 0.457855\tvalid_1's multi_logloss: 0.434764\n",
      "[200]\ttraining's multi_logloss: 0.401431\tvalid_1's multi_logloss: 0.412851\n",
      "[300]\ttraining's multi_logloss: 0.366372\tvalid_1's multi_logloss: 0.409016\n",
      "[400]\ttraining's multi_logloss: 0.338796\tvalid_1's multi_logloss: 0.4084\n",
      "[500]\ttraining's multi_logloss: 0.315279\tvalid_1's multi_logloss: 0.408923\n",
      "[600]\ttraining's multi_logloss: 0.294434\tvalid_1's multi_logloss: 0.409789\n",
      "Early stopping, best iteration is:\n",
      "[392]\ttraining's multi_logloss: 0.340863\tvalid_1's multi_logloss: 0.408228\n",
      "[15:54:33] WARNING: ../src/learner.cc:541: \n",
      "Parameters: { silent } might not be used.\n",
      "\n",
      "  This may not be accurate due to some parameters are only used in language bindings but\n",
      "  passed down to XGBoost core.  Or some parameters are not used but slip through this\n",
      "  verification. Please open an issue if you find above cases.\n",
      "\n",
      "\n",
      "[0]\ttrain-mlogloss:1.06973\teval-mlogloss:1.03600\n",
      "[100]\ttrain-mlogloss:0.24623\teval-mlogloss:0.42832\n",
      "[200]\ttrain-mlogloss:0.15532\teval-mlogloss:0.44386\n",
      "[300]\ttrain-mlogloss:0.11277\teval-mlogloss:0.45349\n",
      "[329]\ttrain-mlogloss:0.10604\teval-mlogloss:0.45642\n",
      "FOLD ....  4\n",
      "Training until validation scores don't improve for 300 rounds\n",
      "[100]\ttraining's multi_logloss: 0.445725\tvalid_1's multi_logloss: 0.477971\n",
      "[200]\ttraining's multi_logloss: 0.389697\tvalid_1's multi_logloss: 0.459195\n",
      "[300]\ttraining's multi_logloss: 0.35516\tvalid_1's multi_logloss: 0.455369\n",
      "[400]\ttraining's multi_logloss: 0.328097\tvalid_1's multi_logloss: 0.453292\n",
      "[500]\ttraining's multi_logloss: 0.30506\tvalid_1's multi_logloss: 0.453049\n",
      "[600]\ttraining's multi_logloss: 0.284742\tvalid_1's multi_logloss: 0.452631\n",
      "[700]\ttraining's multi_logloss: 0.266533\tvalid_1's multi_logloss: 0.452968\n",
      "[800]\ttraining's multi_logloss: 0.249986\tvalid_1's multi_logloss: 0.453681\n",
      "[900]\ttraining's multi_logloss: 0.234979\tvalid_1's multi_logloss: 0.454138\n",
      "Early stopping, best iteration is:\n",
      "[623]\ttraining's multi_logloss: 0.280387\tvalid_1's multi_logloss: 0.452482\n",
      "[15:58:42] WARNING: ../src/learner.cc:541: \n",
      "Parameters: { silent } might not be used.\n",
      "\n",
      "  This may not be accurate due to some parameters are only used in language bindings but\n",
      "  passed down to XGBoost core.  Or some parameters are not used but slip through this\n",
      "  verification. Please open an issue if you find above cases.\n",
      "\n",
      "\n",
      "[0]\ttrain-mlogloss:1.06312\teval-mlogloss:1.06187\n",
      "[100]\ttrain-mlogloss:0.23678\teval-mlogloss:0.46581\n",
      "[200]\ttrain-mlogloss:0.14794\teval-mlogloss:0.48030\n",
      "[300]\ttrain-mlogloss:0.10768\teval-mlogloss:0.48975\n",
      "[349]\ttrain-mlogloss:0.09683\teval-mlogloss:0.49542\n",
      "FOLD ....  5\n",
      "Training until validation scores don't improve for 300 rounds\n",
      "[100]\ttraining's multi_logloss: 0.433294\tvalid_1's multi_logloss: 0.53561\n",
      "[200]\ttraining's multi_logloss: 0.377165\tvalid_1's multi_logloss: 0.523812\n",
      "[300]\ttraining's multi_logloss: 0.342772\tvalid_1's multi_logloss: 0.520111\n",
      "[400]\ttraining's multi_logloss: 0.315901\tvalid_1's multi_logloss: 0.518823\n",
      "[500]\ttraining's multi_logloss: 0.293459\tvalid_1's multi_logloss: 0.517927\n",
      "[600]\ttraining's multi_logloss: 0.273314\tvalid_1's multi_logloss: 0.517468\n",
      "[700]\ttraining's multi_logloss: 0.255277\tvalid_1's multi_logloss: 0.5179\n",
      "[800]\ttraining's multi_logloss: 0.23879\tvalid_1's multi_logloss: 0.518203\n",
      "Early stopping, best iteration is:\n",
      "[535]\ttraining's multi_logloss: 0.286151\tvalid_1's multi_logloss: 0.517331\n",
      "[16:02:44] WARNING: ../src/learner.cc:541: \n",
      "Parameters: { silent } might not be used.\n",
      "\n",
      "  This may not be accurate due to some parameters are only used in language bindings but\n",
      "  passed down to XGBoost core.  Or some parameters are not used but slip through this\n",
      "  verification. Please open an issue if you find above cases.\n",
      "\n",
      "\n",
      "[0]\ttrain-mlogloss:1.05781\teval-mlogloss:1.08323\n",
      "[100]\ttrain-mlogloss:0.22444\teval-mlogloss:0.53525\n",
      "[200]\ttrain-mlogloss:0.14009\teval-mlogloss:0.54918\n",
      "[300]\ttrain-mlogloss:0.10134\teval-mlogloss:0.56185\n",
      "[331]\ttrain-mlogloss:0.09487\teval-mlogloss:0.56410\n"
     ]
    }
   ],
   "source": [
    "if OOF_PREDICTION:\n",
    "    best_param = current_best[1]\n",
    "    xgb_params = xgb_current_best[1].copy()\n",
    "\n",
    "    \n",
    "    num_splits = NUM_OF_SPLITS\n",
    "    skf = StratifiedKFold(n_splits= num_splits, random_state=SEED, shuffle=False)\n",
    "    oof_predictions = np.zeros((X.shape[0], 7)) \n",
    "\n",
    "    y_test_pred = np.zeros((XTEST.shape[0], 7)) \n",
    "    y_test_pred_xgb = np.zeros((XTEST.shape[0], 7)) \n",
    "    y_test_pred_ensemble = np.zeros((XTEST.shape[0], 7)) \n",
    "    \n",
    "\n",
    "    print(y_test_pred.shape)\n",
    "    y_valid_scores = []\n",
    "    y_valid_scores_xgb = []\n",
    "    y_valid_scores_ensemble = []\n",
    "\n",
    "    fold_cnt = 1\n",
    "    for train_index, test_index in skf.split(X,y_trans):\n",
    "        print(\"FOLD .... \",fold_cnt)\n",
    "        fold_cnt += 1\n",
    "\n",
    "        #print(\"TRAIN:\", train_index, \"TEST:\", test_index)\n",
    "        X_train, X_valid = X.iloc[train_index], X.iloc[test_index]\n",
    "        y_train, y_valid = y_trans[train_index], y_trans[test_index]\n",
    "        \n",
    "        dtrain = lgb.Dataset(X_train, label=y_train)\n",
    "        dvalid = lgb.Dataset(X_valid, label=y_valid)\n",
    "\n",
    "        # Training lgb model\n",
    "        num_round = NUM_OF_BOOST_ROUND\n",
    "        bst = lgb.train(best_param, dtrain, num_round,\n",
    "                              valid_sets=[dtrain, dvalid],\n",
    "                              verbose_eval=100,\n",
    "                              early_stopping_rounds=EARLY_STOPPING,\n",
    "#                               feval=F1_MACRO\n",
    "                             )\n",
    "        # Predict Validation\n",
    "        y_pred_valid = bst.predict(X_valid, num_iteration=bst.best_iteration)\n",
    "        y_valid_scores.append(f1_score(y_valid, np.argmax(y_pred_valid, axis=1), average='macro'))\n",
    "\n",
    "        # Predict Test \n",
    "        y_pred = bst.predict(XTEST, num_iteration=bst.best_iteration)\n",
    "\n",
    "        y_test_pred += y_pred\n",
    "        \n",
    "        #XGB\n",
    "        xgb_train_data = xgb.DMatrix(X_train, label=y_train)\n",
    "        xgb_valid_data = xgb.DMatrix(X_valid, label=y_valid)\n",
    "        xgb_params = xgb_current_best[1].copy()\n",
    "        xgb_bst = xgb.train(xgb_params, xgb_train_data, NUM_OF_BOOST_ROUND, \n",
    "                evals=[(xgb_train_data, 'train'), (xgb_valid_data, 'eval')], \n",
    "                early_stopping_rounds= EARLY_STOPPING, \n",
    "                verbose_eval=100)\n",
    "        xgb_ypred_valid = xgb_bst.predict(xgb_valid_data, ntree_limit=xgb_bst.best_ntree_limit)\n",
    "        y_valid_scores_xgb.append(f1_score(y_valid, np.argmax(xgb_ypred_valid, axis=1), average='macro'))\n",
    "        y_pred_xgb = xgb_bst.predict(xgb.DMatrix(XTEST), ntree_limit=xgb_bst.best_ntree_limit)\n",
    "        y_test_pred_xgb += y_pred_xgb\n",
    "        \n",
    "        #Ensemble\n",
    "        ypred_ensemble = 0.5 * y_pred_valid + 0.5 * xgb_ypred_valid\n",
    "        y_valid_scores_ensemble.append(f1_score(y_valid, np.argmax(ypred_ensemble, axis=1), average='macro'))\n",
    "        y_test_pred_ensemble += (0.5 * y_test_pred + 0.5 * y_test_pred_xgb)\n",
    "\n",
    "\n",
    "    #Normalize test predicted probability\n",
    "    y_test_pred /= num_splits\n",
    "    y_test_pred_xgb /= num_splits\n",
    "    y_test_pred_ensemble /= num_splits"
   ]
  },
  {
   "cell_type": "code",
   "execution_count": 81,
   "metadata": {
    "execution": {
     "iopub.execute_input": "2021-02-07T16:04:19.173213Z",
     "iopub.status.busy": "2021-02-07T16:04:19.172428Z",
     "iopub.status.idle": "2021-02-07T16:04:19.178203Z",
     "shell.execute_reply": "2021-02-07T16:04:19.177156Z"
    },
    "papermill": {
     "duration": 0.364271,
     "end_time": "2021-02-07T16:04:19.178497",
     "exception": false,
     "start_time": "2021-02-07T16:04:18.814226",
     "status": "completed"
    },
    "tags": []
   },
   "outputs": [
    {
     "name": "stdout",
     "output_type": "stream",
     "text": [
      "[0.6208384511101811, 0.6503458561467355, 0.7193687335823485, 0.7107993639396764, 0.6843931095614735]\n",
      "Average validation_score:  0.6771491028680829\n"
     ]
    }
   ],
   "source": [
    "print(y_valid_scores)\n",
    "print(\"Average validation_score: \",np.mean(y_valid_scores))"
   ]
  },
  {
   "cell_type": "code",
   "execution_count": 82,
   "metadata": {
    "execution": {
     "iopub.execute_input": "2021-02-07T16:04:19.905054Z",
     "iopub.status.busy": "2021-02-07T16:04:19.903877Z",
     "iopub.status.idle": "2021-02-07T16:04:19.909566Z",
     "shell.execute_reply": "2021-02-07T16:04:19.908693Z"
    },
    "papermill": {
     "duration": 0.371272,
     "end_time": "2021-02-07T16:04:19.909742",
     "exception": false,
     "start_time": "2021-02-07T16:04:19.538470",
     "status": "completed"
    },
    "tags": []
   },
   "outputs": [
    {
     "name": "stdout",
     "output_type": "stream",
     "text": [
      "[0.6104589410019703, 0.6397169459190339, 0.7106621462035809, 0.7010919166427253, 0.6801322749532864]\n",
      "Average validation_score:  0.6684124449441193\n"
     ]
    }
   ],
   "source": [
    "print(y_valid_scores_xgb)\n",
    "print(\"Average validation_score: \",np.mean(y_valid_scores_xgb))"
   ]
  },
  {
   "cell_type": "code",
   "execution_count": 83,
   "metadata": {
    "execution": {
     "iopub.execute_input": "2021-02-07T16:04:20.641714Z",
     "iopub.status.busy": "2021-02-07T16:04:20.640603Z",
     "iopub.status.idle": "2021-02-07T16:04:20.647662Z",
     "shell.execute_reply": "2021-02-07T16:04:20.645880Z"
    },
    "papermill": {
     "duration": 0.377649,
     "end_time": "2021-02-07T16:04:20.648067",
     "exception": false,
     "start_time": "2021-02-07T16:04:20.270418",
     "status": "completed"
    },
    "tags": []
   },
   "outputs": [
    {
     "name": "stdout",
     "output_type": "stream",
     "text": [
      "[0.6182841655206124, 0.6495814673223056, 0.7161323027945168, 0.7083211854785336, 0.6823117114202334]\n",
      "Average validation_score:  0.6749261665072404\n"
     ]
    }
   ],
   "source": [
    "print(y_valid_scores_ensemble)\n",
    "print(\"Average validation_score: \",np.mean(y_valid_scores_ensemble))"
   ]
  },
  {
   "cell_type": "code",
   "execution_count": 84,
   "metadata": {
    "execution": {
     "iopub.execute_input": "2021-02-07T16:04:21.375019Z",
     "iopub.status.busy": "2021-02-07T16:04:21.374016Z",
     "iopub.status.idle": "2021-02-07T16:04:21.380749Z",
     "shell.execute_reply": "2021-02-07T16:04:21.379900Z"
    },
    "papermill": {
     "duration": 0.372858,
     "end_time": "2021-02-07T16:04:21.380917",
     "exception": false,
     "start_time": "2021-02-07T16:04:21.008059",
     "status": "completed"
    },
    "tags": []
   },
   "outputs": [],
   "source": [
    "ytest_lgb_target = target_encoder.inverse_transform(np.argmax(y_test_pred, axis=1))\n",
    "ytest_xgb_target = target_encoder.inverse_transform(np.argmax(y_test_pred_xgb, axis=1))\n",
    "ytest_ens_target = target_encoder.inverse_transform(np.argmax(y_test_pred_ensemble, axis=1))\n"
   ]
  },
  {
   "cell_type": "code",
   "execution_count": 85,
   "metadata": {
    "execution": {
     "iopub.execute_input": "2021-02-07T16:04:22.115562Z",
     "iopub.status.busy": "2021-02-07T16:04:22.114456Z",
     "iopub.status.idle": "2021-02-07T16:04:22.120924Z",
     "shell.execute_reply": "2021-02-07T16:04:22.120141Z"
    },
    "papermill": {
     "duration": 0.381495,
     "end_time": "2021-02-07T16:04:22.121092",
     "exception": false,
     "start_time": "2021-02-07T16:04:21.739597",
     "status": "completed"
    },
    "tags": []
   },
   "outputs": [
    {
     "data": {
      "text/html": [
       "<div>\n",
       "<style scoped>\n",
       "    .dataframe tbody tr th:only-of-type {\n",
       "        vertical-align: middle;\n",
       "    }\n",
       "\n",
       "    .dataframe tbody tr th {\n",
       "        vertical-align: top;\n",
       "    }\n",
       "\n",
       "    .dataframe thead th {\n",
       "        text-align: right;\n",
       "    }\n",
       "</style>\n",
       "<table border=\"1\" class=\"dataframe\">\n",
       "  <thead>\n",
       "    <tr style=\"text-align: right;\">\n",
       "      <th></th>\n",
       "      <th>lgb_pred</th>\n",
       "      <th>xgb_pred</th>\n",
       "      <th>ensemble_pred</th>\n",
       "    </tr>\n",
       "    <tr>\n",
       "      <th>ID</th>\n",
       "      <th></th>\n",
       "      <th></th>\n",
       "      <th></th>\n",
       "    </tr>\n",
       "  </thead>\n",
       "  <tbody>\n",
       "    <tr>\n",
       "      <th>4</th>\n",
       "      <td>No Top-up Service</td>\n",
       "      <td>No Top-up Service</td>\n",
       "      <td>No Top-up Service</td>\n",
       "    </tr>\n",
       "    <tr>\n",
       "      <th>5</th>\n",
       "      <td>No Top-up Service</td>\n",
       "      <td>&gt; 48 Months</td>\n",
       "      <td>No Top-up Service</td>\n",
       "    </tr>\n",
       "    <tr>\n",
       "      <th>6</th>\n",
       "      <td>No Top-up Service</td>\n",
       "      <td>No Top-up Service</td>\n",
       "      <td>No Top-up Service</td>\n",
       "    </tr>\n",
       "    <tr>\n",
       "      <th>126</th>\n",
       "      <td>No Top-up Service</td>\n",
       "      <td>No Top-up Service</td>\n",
       "      <td>No Top-up Service</td>\n",
       "    </tr>\n",
       "    <tr>\n",
       "      <th>127</th>\n",
       "      <td>No Top-up Service</td>\n",
       "      <td>No Top-up Service</td>\n",
       "      <td>No Top-up Service</td>\n",
       "    </tr>\n",
       "  </tbody>\n",
       "</table>\n",
       "</div>"
      ],
      "text/plain": [
       "              lgb_pred           xgb_pred      ensemble_pred\n",
       "ID                                                          \n",
       "4    No Top-up Service  No Top-up Service  No Top-up Service\n",
       "5    No Top-up Service        > 48 Months  No Top-up Service\n",
       "6    No Top-up Service  No Top-up Service  No Top-up Service\n",
       "126  No Top-up Service  No Top-up Service  No Top-up Service\n",
       "127  No Top-up Service  No Top-up Service  No Top-up Service"
      ]
     },
     "execution_count": 85,
     "metadata": {},
     "output_type": "execute_result"
    }
   ],
   "source": [
    "dummy = test_merged_data[['ID']].copy()\n",
    "dummy['lgb_pred'] = ytest_lgb_target\n",
    "dummy['xgb_pred'] = ytest_xgb_target\n",
    "dummy['ensemble_pred'] = ytest_ens_target\n",
    "\n",
    "dummy = dummy.set_index(['ID'])\n",
    "dummy.head()"
   ]
  },
  {
   "cell_type": "code",
   "execution_count": 86,
   "metadata": {
    "execution": {
     "iopub.execute_input": "2021-02-07T16:04:22.851051Z",
     "iopub.status.busy": "2021-02-07T16:04:22.850403Z",
     "iopub.status.idle": "2021-02-07T16:04:22.853759Z",
     "shell.execute_reply": "2021-02-07T16:04:22.854338Z"
    },
    "papermill": {
     "duration": 0.370788,
     "end_time": "2021-02-07T16:04:22.854514",
     "exception": false,
     "start_time": "2021-02-07T16:04:22.483726",
     "status": "completed"
    },
    "tags": []
   },
   "outputs": [],
   "source": [
    "def get_target(_id):\n",
    "    if _id in dummy.index:\n",
    "        return dummy.loc[_id]['lgb_pred']\n",
    "    else:\n",
    "        return \"No Top-up Service\"\n",
    "\n",
    "def get_target_xgb(_id):\n",
    "    if _id in dummy.index:\n",
    "        return dummy.loc[_id]['xgb_pred']\n",
    "    else:\n",
    "        return \"No Top-up Service\"\n",
    "    \n",
    "def get_target_ensemble(_id):\n",
    "    if _id in dummy.index:\n",
    "        return dummy.loc[_id]['ensemble_pred']\n",
    "    else:\n",
    "        return \"No Top-up Service\"\n",
    "    "
   ]
  },
  {
   "cell_type": "markdown",
   "metadata": {
    "papermill": {
     "duration": 0.259687,
     "end_time": "2021-02-07T16:04:23.348109",
     "exception": false,
     "start_time": "2021-02-07T16:04:23.088422",
     "status": "completed"
    },
    "tags": []
   },
   "source": [
    "# LGB"
   ]
  },
  {
   "cell_type": "code",
   "execution_count": 87,
   "metadata": {
    "execution": {
     "iopub.execute_input": "2021-02-07T16:04:23.828006Z",
     "iopub.status.busy": "2021-02-07T16:04:23.826799Z",
     "iopub.status.idle": "2021-02-07T16:04:24.835434Z",
     "shell.execute_reply": "2021-02-07T16:04:24.836187Z"
    },
    "papermill": {
     "duration": 1.250271,
     "end_time": "2021-02-07T16:04:24.836457",
     "exception": false,
     "start_time": "2021-02-07T16:04:23.586186",
     "status": "completed"
    },
    "tags": []
   },
   "outputs": [
    {
     "name": "stdout",
     "output_type": "stream",
     "text": [
      "No Top-up Service    13648\n",
      " > 48 Months           554\n",
      "36-48 Months           184\n",
      "18-24 Months            98\n",
      "30-36 Months            97\n",
      "24-30 Months            94\n",
      "12-18 Months            70\n",
      "Name: Top-up Month, dtype: int64\n",
      "\n",
      "No Top-up Service    0.925602\n",
      " > 48 Months         0.037572\n",
      "36-48 Months         0.012479\n",
      "18-24 Months         0.006646\n",
      "30-36 Months         0.006579\n",
      "24-30 Months         0.006375\n",
      "12-18 Months         0.004747\n",
      "Name: Top-up Month, dtype: float64\n"
     ]
    }
   ],
   "source": [
    "sample_sub['Top-up Month'] = sample_sub['ID'].apply(get_target)\n",
    "print(sample_sub['Top-up Month'].value_counts())\n",
    "print(\"\")\n",
    "print(sample_sub['Top-up Month'].value_counts()/len(sample_sub))\n",
    "sample_sub.to_csv(\"lgb_submission.csv\", index=False)"
   ]
  },
  {
   "cell_type": "markdown",
   "metadata": {
    "papermill": {
     "duration": 0.358806,
     "end_time": "2021-02-07T16:04:25.555566",
     "exception": false,
     "start_time": "2021-02-07T16:04:25.196760",
     "status": "completed"
    },
    "tags": []
   },
   "source": [
    "# XGB"
   ]
  },
  {
   "cell_type": "code",
   "execution_count": 88,
   "metadata": {
    "execution": {
     "iopub.execute_input": "2021-02-07T16:04:26.054580Z",
     "iopub.status.busy": "2021-02-07T16:04:26.049320Z",
     "iopub.status.idle": "2021-02-07T16:04:27.061699Z",
     "shell.execute_reply": "2021-02-07T16:04:27.061043Z"
    },
    "papermill": {
     "duration": 1.255638,
     "end_time": "2021-02-07T16:04:27.061841",
     "exception": false,
     "start_time": "2021-02-07T16:04:25.806203",
     "status": "completed"
    },
    "tags": []
   },
   "outputs": [
    {
     "name": "stdout",
     "output_type": "stream",
     "text": [
      "No Top-up Service    13666\n",
      " > 48 Months           558\n",
      "36-48 Months           172\n",
      "18-24 Months            97\n",
      "30-36 Months            95\n",
      "24-30 Months            88\n",
      "12-18 Months            69\n",
      "Name: Top-up Month, dtype: int64\n",
      "\n",
      "No Top-up Service    0.926823\n",
      " > 48 Months         0.037843\n",
      "36-48 Months         0.011665\n",
      "18-24 Months         0.006579\n",
      "30-36 Months         0.006443\n",
      "24-30 Months         0.005968\n",
      "12-18 Months         0.004680\n",
      "Name: Top-up Month, dtype: float64\n"
     ]
    }
   ],
   "source": [
    "sample_sub['Top-up Month'] = sample_sub['ID'].apply(get_target_xgb)\n",
    "print(sample_sub['Top-up Month'].value_counts())\n",
    "print(\"\")\n",
    "print(sample_sub['Top-up Month'].value_counts()/len(sample_sub))\n",
    "sample_sub.to_csv(\"xgb_submission.csv\", index=False)"
   ]
  },
  {
   "cell_type": "markdown",
   "metadata": {
    "papermill": {
     "duration": 0.236668,
     "end_time": "2021-02-07T16:04:27.532135",
     "exception": false,
     "start_time": "2021-02-07T16:04:27.295467",
     "status": "completed"
    },
    "tags": []
   },
   "source": [
    "# Ensemble"
   ]
  },
  {
   "cell_type": "code",
   "execution_count": 89,
   "metadata": {
    "execution": {
     "iopub.execute_input": "2021-02-07T16:04:28.026724Z",
     "iopub.status.busy": "2021-02-07T16:04:28.020886Z",
     "iopub.status.idle": "2021-02-07T16:04:29.038352Z",
     "shell.execute_reply": "2021-02-07T16:04:29.037629Z"
    },
    "papermill": {
     "duration": 1.266041,
     "end_time": "2021-02-07T16:04:29.038530",
     "exception": false,
     "start_time": "2021-02-07T16:04:27.772489",
     "status": "completed"
    },
    "tags": []
   },
   "outputs": [
    {
     "name": "stdout",
     "output_type": "stream",
     "text": [
      "No Top-up Service    13659\n",
      " > 48 Months           567\n",
      "36-48 Months           172\n",
      "18-24 Months            96\n",
      "24-30 Months            93\n",
      "30-36 Months            92\n",
      "12-18 Months            66\n",
      "Name: Top-up Month, dtype: int64\n",
      "\n",
      "No Top-up Service    0.926348\n",
      " > 48 Months         0.038454\n",
      "36-48 Months         0.011665\n",
      "18-24 Months         0.006511\n",
      "24-30 Months         0.006307\n",
      "30-36 Months         0.006239\n",
      "12-18 Months         0.004476\n",
      "Name: Top-up Month, dtype: float64\n"
     ]
    }
   ],
   "source": [
    "sample_sub['Top-up Month'] = sample_sub['ID'].apply(get_target_ensemble)\n",
    "print(sample_sub['Top-up Month'].value_counts())\n",
    "print(\"\")\n",
    "print(sample_sub['Top-up Month'].value_counts()/len(sample_sub))\n",
    "sample_sub.to_csv(\"ensemble_submission.csv\", index=False)"
   ]
  },
  {
   "cell_type": "code",
   "execution_count": null,
   "metadata": {
    "papermill": {
     "duration": 0.234246,
     "end_time": "2021-02-07T16:04:29.509140",
     "exception": false,
     "start_time": "2021-02-07T16:04:29.274894",
     "status": "completed"
    },
    "tags": []
   },
   "outputs": [],
   "source": []
  },
  {
   "cell_type": "code",
   "execution_count": null,
   "metadata": {
    "papermill": {
     "duration": 0.235451,
     "end_time": "2021-02-07T16:04:29.981242",
     "exception": false,
     "start_time": "2021-02-07T16:04:29.745791",
     "status": "completed"
    },
    "tags": []
   },
   "outputs": [],
   "source": []
  },
  {
   "cell_type": "code",
   "execution_count": null,
   "metadata": {
    "papermill": {
     "duration": 0.234541,
     "end_time": "2021-02-07T16:04:30.455280",
     "exception": false,
     "start_time": "2021-02-07T16:04:30.220739",
     "status": "completed"
    },
    "tags": []
   },
   "outputs": [],
   "source": []
  },
  {
   "cell_type": "code",
   "execution_count": null,
   "metadata": {
    "papermill": {
     "duration": 0.236734,
     "end_time": "2021-02-07T16:04:30.926733",
     "exception": false,
     "start_time": "2021-02-07T16:04:30.689999",
     "status": "completed"
    },
    "tags": []
   },
   "outputs": [],
   "source": []
  }
 ],
 "metadata": {
  "kernelspec": {
   "display_name": "Python 3",
   "language": "python",
   "name": "python3"
  },
  "language_info": {
   "codemirror_mode": {
    "name": "ipython",
    "version": 3
   },
   "file_extension": ".py",
   "mimetype": "text/x-python",
   "name": "python",
   "nbconvert_exporter": "python",
   "pygments_lexer": "ipython3",
   "version": "3.7.9"
  },
  "papermill": {
   "default_parameters": {},
   "duration": 3492.967929,
   "end_time": "2021-02-07T16:04:31.982284",
   "environment_variables": {},
   "exception": null,
   "input_path": "__notebook__.ipynb",
   "output_path": "__notebook__.ipynb",
   "parameters": {},
   "start_time": "2021-02-07T15:06:19.014355",
   "version": "2.2.2"
  }
 },
 "nbformat": 4,
 "nbformat_minor": 4
}
